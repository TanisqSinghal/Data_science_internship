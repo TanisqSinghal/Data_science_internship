{
  "nbformat": 4,
  "nbformat_minor": 0,
  "metadata": {
    "colab": {
      "provenance": [],
      "authorship_tag": "ABX9TyMrN26qG39BBcehkod34MuI",
      "include_colab_link": true
    },
    "kernelspec": {
      "name": "python3",
      "display_name": "Python 3"
    },
    "language_info": {
      "name": "python"
    }
  },
  "cells": [
    {
      "cell_type": "markdown",
      "metadata": {
        "id": "view-in-github",
        "colab_type": "text"
      },
      "source": [
        "<a href=\"https://colab.research.google.com/github/TanisqSinghal/Data_science_internship/blob/main/Lecture2.ipynb\" target=\"_parent\"><img src=\"https://colab.research.google.com/assets/colab-badge.svg\" alt=\"Open In Colab\"/></a>"
      ]
    },
    {
      "cell_type": "markdown",
      "source": [],
      "metadata": {
        "id": "1wUZJtphJvJf"
      }
    },
    {
      "cell_type": "markdown",
      "source": [
        "#Tuples in Python\n",
        "1. tuples are immutable\n",
        "2. tuple is a ordered collecttion of elements"
      ],
      "metadata": {
        "id": "zdcYx0yCJw1o"
      }
    },
    {
      "cell_type": "code",
      "source": [
        "my_tuple = (1, \"a\", 3)\n",
        "# my_tuple[1] = \"b\"; #tuples are immutable, giving error\n",
        "print(my_tuple[0:3])"
      ],
      "metadata": {
        "colab": {
          "base_uri": "https://localhost:8080/"
        },
        "id": "TvpDb8fWJ59Z",
        "outputId": "60af4b32-6912-48be-d880-b578fc2aaddb"
      },
      "execution_count": null,
      "outputs": [
        {
          "output_type": "stream",
          "name": "stdout",
          "text": [
            "(1, 'a', 3)\n"
          ]
        }
      ]
    },
    {
      "cell_type": "markdown",
      "source": [
        "#replace() method"
      ],
      "metadata": {
        "id": "K8p2BlLpMDxm"
      }
    },
    {
      "cell_type": "code",
      "source": [
        "my_tuple = (1, \"a\", 3)"
      ],
      "metadata": {
        "colab": {
          "base_uri": "https://localhost:8080/",
          "height": 159
        },
        "id": "eNhra_7kMGtU",
        "outputId": "8bf54f87-e2ff-4c21-ffab-e47832b6ab96"
      },
      "execution_count": null,
      "outputs": [
        {
          "output_type": "error",
          "ename": "AttributeError",
          "evalue": "'tuple' object has no attribute 'replace'",
          "traceback": [
            "\u001b[0;31m---------------------------------------------------------------------------\u001b[0m",
            "\u001b[0;31mAttributeError\u001b[0m                            Traceback (most recent call last)",
            "\u001b[0;32m/tmp/ipython-input-7-2284161407.py\u001b[0m in \u001b[0;36m<cell line: 0>\u001b[0;34m()\u001b[0m\n\u001b[1;32m      1\u001b[0m \u001b[0mmy_tuple\u001b[0m \u001b[0;34m=\u001b[0m \u001b[0;34m(\u001b[0m\u001b[0;36m1\u001b[0m\u001b[0;34m,\u001b[0m \u001b[0;34m\"a\"\u001b[0m\u001b[0;34m,\u001b[0m \u001b[0;36m3\u001b[0m\u001b[0;34m)\u001b[0m\u001b[0;34m\u001b[0m\u001b[0;34m\u001b[0m\u001b[0m\n\u001b[0;32m----> 2\u001b[0;31m \u001b[0mmy_tuple\u001b[0m\u001b[0;34m.\u001b[0m\u001b[0mreplace\u001b[0m\u001b[0;34m(\u001b[0m\u001b[0;34m\"a\"\u001b[0m\u001b[0;34m,\u001b[0m \u001b[0;34m\"b\"\u001b[0m\u001b[0;34m)\u001b[0m\u001b[0;34m\u001b[0m\u001b[0;34m\u001b[0m\u001b[0m\n\u001b[0m",
            "\u001b[0;31mAttributeError\u001b[0m: 'tuple' object has no attribute 'replace'"
          ]
        }
      ]
    },
    {
      "cell_type": "markdown",
      "source": [
        "#SETS\n",
        "1. sets are unordered collection of elements\n",
        "2. sets conatin only immutable elements\n",
        "3. indexing and slicing dont work in sets\n",
        "3. sets contain only unique elements"
      ],
      "metadata": {
        "id": "zdiRG-LRMrfD"
      }
    },
    {
      "cell_type": "code",
      "source": [
        "my_set = {1,2,(3,4)} # can define tuple inside a set\n",
        "print(my_set)\n",
        "# my_set1 = {1,2,[3,4]} #cannot define a list inside a set because they are mutable\n",
        "# print(my_set1)\n",
        "my_set2 = {1,2,{3,4}}\n",
        "print(my_set2)"
      ],
      "metadata": {
        "colab": {
          "base_uri": "https://localhost:8080/",
          "height": 211
        },
        "id": "iFhojkXTMtSX",
        "outputId": "0ac4b41e-3635-484e-daa6-02317e7e7807"
      },
      "execution_count": null,
      "outputs": [
        {
          "output_type": "stream",
          "name": "stdout",
          "text": [
            "{1, 2, (3, 4)}\n"
          ]
        },
        {
          "output_type": "error",
          "ename": "TypeError",
          "evalue": "unhashable type: 'set'",
          "traceback": [
            "\u001b[0;31m---------------------------------------------------------------------------\u001b[0m",
            "\u001b[0;31mTypeError\u001b[0m                                 Traceback (most recent call last)",
            "\u001b[0;32m/tmp/ipython-input-11-1354637214.py\u001b[0m in \u001b[0;36m<cell line: 0>\u001b[0;34m()\u001b[0m\n\u001b[1;32m      3\u001b[0m \u001b[0;31m# my_set1 = {1,2,[3,4]} #cannot define a list inside a set because they are mutable\u001b[0m\u001b[0;34m\u001b[0m\u001b[0;34m\u001b[0m\u001b[0m\n\u001b[1;32m      4\u001b[0m \u001b[0;31m# print(my_set1)\u001b[0m\u001b[0;34m\u001b[0m\u001b[0;34m\u001b[0m\u001b[0m\n\u001b[0;32m----> 5\u001b[0;31m \u001b[0mmy_set2\u001b[0m \u001b[0;34m=\u001b[0m \u001b[0;34m{\u001b[0m\u001b[0;36m1\u001b[0m\u001b[0;34m,\u001b[0m\u001b[0;36m2\u001b[0m\u001b[0;34m,\u001b[0m\u001b[0;34m{\u001b[0m\u001b[0;36m3\u001b[0m\u001b[0;34m,\u001b[0m\u001b[0;36m4\u001b[0m\u001b[0;34m}\u001b[0m\u001b[0;34m}\u001b[0m\u001b[0;34m\u001b[0m\u001b[0;34m\u001b[0m\u001b[0m\n\u001b[0m\u001b[1;32m      6\u001b[0m \u001b[0mprint\u001b[0m\u001b[0;34m(\u001b[0m\u001b[0mmy_set2\u001b[0m\u001b[0;34m)\u001b[0m\u001b[0;34m\u001b[0m\u001b[0;34m\u001b[0m\u001b[0m\n",
            "\u001b[0;31mTypeError\u001b[0m: unhashable type: 'set'"
          ]
        }
      ]
    },
    {
      "cell_type": "markdown",
      "source": [
        "#add() method"
      ],
      "metadata": {
        "id": "twwrBz_4O2hk"
      }
    },
    {
      "cell_type": "code",
      "source": [
        "my_set = {1,\"a\", 3}\n",
        "my_set.add(1) #add only one element in set\n",
        "print(my_set)"
      ],
      "metadata": {
        "colab": {
          "base_uri": "https://localhost:8080/"
        },
        "id": "P2ZjiAO-O1aW",
        "outputId": "e5711f87-c7d5-44bc-af7a-d8baccbe01f2"
      },
      "execution_count": null,
      "outputs": [
        {
          "output_type": "stream",
          "name": "stdout",
          "text": [
            "{'a', 1, 3}\n"
          ]
        }
      ]
    },
    {
      "cell_type": "markdown",
      "source": [
        "#update() method"
      ],
      "metadata": {
        "id": "GaaFrjdoPO9m"
      }
    },
    {
      "cell_type": "code",
      "source": [
        "my_set = {1, \"a\", 2, 3}\n",
        "my_set.update({2,4,5}) #add multiple elements into the set\n",
        "print(my_set)"
      ],
      "metadata": {
        "colab": {
          "base_uri": "https://localhost:8080/"
        },
        "id": "Uov9UJ_NPRz-",
        "outputId": "866747d8-9c70-4722-8a85-863629d87859"
      },
      "execution_count": null,
      "outputs": [
        {
          "output_type": "stream",
          "name": "stdout",
          "text": [
            "{1, 2, 3, 4, 5, 'a'}\n"
          ]
        }
      ]
    },
    {
      "cell_type": "markdown",
      "source": [
        "#remove() method"
      ],
      "metadata": {
        "id": "aZj5k8rpQG9i"
      }
    },
    {
      "cell_type": "code",
      "source": [
        "my_set = {1, \"a\", 2, \"b\"}\n",
        "my_set.remove(\"a\")\n",
        "print(my_set)"
      ],
      "metadata": {
        "colab": {
          "base_uri": "https://localhost:8080/"
        },
        "id": "WkchF-n_QJoM",
        "outputId": "13328100-a9da-4853-dc06-2a6f092a7107"
      },
      "execution_count": null,
      "outputs": [
        {
          "output_type": "stream",
          "name": "stdout",
          "text": [
            "{1, 2, 'b'}\n"
          ]
        }
      ]
    },
    {
      "cell_type": "markdown",
      "source": [
        "#difference() method"
      ],
      "metadata": {
        "id": "gxVkEY0VQseE"
      }
    },
    {
      "cell_type": "code",
      "source": [
        "my_set = {1, \"a\", 2, \"b\"}\n",
        "my_set2 = {3,4,1,\"a\"}\n",
        "my_set2.difference(my_set)"
      ],
      "metadata": {
        "colab": {
          "base_uri": "https://localhost:8080/"
        },
        "id": "12_m652KQvtO",
        "outputId": "e6272ad9-916d-42e3-d3b2-eae443560630"
      },
      "execution_count": null,
      "outputs": [
        {
          "output_type": "execute_result",
          "data": {
            "text/plain": [
              "{3, 4}"
            ]
          },
          "metadata": {},
          "execution_count": 20
        }
      ]
    },
    {
      "cell_type": "markdown",
      "source": [
        "#DICTIONARY IN PYTHON"
      ],
      "metadata": {
        "id": "FsDXzLGPRJFl"
      }
    },
    {
      "cell_type": "code",
      "source": [
        "my_dictionary = {\"a\": \"apple\", \"b\": \"mango\", \"c\": \"banana\"}\n",
        "print(my_dictionary)\n",
        "my_dictionary[\"a\"] = \"papaya\";\n",
        "print(my_dictionary)"
      ],
      "metadata": {
        "colab": {
          "base_uri": "https://localhost:8080/"
        },
        "id": "w8DcYfVoRNLi",
        "outputId": "40bc2cde-234c-45fb-f778-b18fc06259ff"
      },
      "execution_count": null,
      "outputs": [
        {
          "output_type": "stream",
          "name": "stdout",
          "text": [
            "{'a': 'apple', 'b': 'mango', 'c': 'banana'}\n",
            "{'a': 'papaya', 'b': 'mango', 'c': 'banana'}\n"
          ]
        }
      ]
    },
    {
      "cell_type": "markdown",
      "source": [
        "#update() method\n",
        "**bold text**"
      ],
      "metadata": {
        "id": "Ga-wwemCSG7o"
      }
    },
    {
      "cell_type": "code",
      "source": [
        "my_dictionary = {\"a\": \"apple\", \"b\": \"mango\", \"c\": \"banana\"}\n",
        "my_dictionary.update({\"city\": \"New York\", \"occupation\": \"Engineer\"})\n",
        "my_dictionary.update({\"a\" : \"papaya\"}) #update a key:value pair or add multiple key:value pairs\n",
        "print(my_dictionary)\n"
      ],
      "metadata": {
        "colab": {
          "base_uri": "https://localhost:8080/"
        },
        "id": "PAUd6ufGSJFd",
        "outputId": "d20a9a9f-99b2-400f-c197-4db6f43e8d5f"
      },
      "execution_count": null,
      "outputs": [
        {
          "output_type": "stream",
          "name": "stdout",
          "text": [
            "{'a': 'papaya', 'b': 'mango', 'c': 'banana', 'city': 'New York', 'occupation': 'Engineer'}\n"
          ]
        }
      ]
    },
    {
      "cell_type": "markdown",
      "source": [
        "#list & tuples inside a dictionary"
      ],
      "metadata": {
        "id": "kzf8ONpcZPqR"
      }
    },
    {
      "cell_type": "code",
      "source": [
        "my_dict = {\"a\": \"apple\", \"b\": \"mango\", \"c\": \"banana\", \"d\": [\"hello\", \"world\"]}\n",
        "my_dict[\"d\"][1]\n",
        "my_dict1 = {\"a\": \"apple\", \"b\": \"mango\", \"c\": (\"my\", \"world2\", \"yes\"), \"d\": [\"hello\", \"world\"]}\n",
        "print(my_dict1[\"c\"][1])"
      ],
      "metadata": {
        "colab": {
          "base_uri": "https://localhost:8080/"
        },
        "id": "orNnLOu6ZUnx",
        "outputId": "c69e7dc0-9a22-4a52-94f7-ff1db6dba447"
      },
      "execution_count": null,
      "outputs": [
        {
          "output_type": "stream",
          "name": "stdout",
          "text": [
            "world2\n"
          ]
        }
      ]
    },
    {
      "cell_type": "markdown",
      "source": [
        "#keys(), values() and items() method"
      ],
      "metadata": {
        "id": "awhxaLJdgD8q"
      }
    },
    {
      "cell_type": "code",
      "source": [
        "my_dict = {\"a\": \"apple\", \"b\": \"mango\", \"c\": \"banana\", \"d\": [\"hello\", \"world\"]}\n",
        "my_dict.keys()\n",
        "my_dict.values()\n",
        "my_dict.items()"
      ],
      "metadata": {
        "colab": {
          "base_uri": "https://localhost:8080/"
        },
        "id": "BcMpYNw6gGX2",
        "outputId": "684a84ed-6fb6-4e6f-aa0f-a4f766f60f40"
      },
      "execution_count": null,
      "outputs": [
        {
          "output_type": "execute_result",
          "data": {
            "text/plain": [
              "dict_items"
            ]
          },
          "metadata": {},
          "execution_count": 31
        }
      ]
    },
    {
      "cell_type": "markdown",
      "source": [
        "#Typecasting"
      ],
      "metadata": {
        "id": "1UFpz8eVhOrI"
      }
    },
    {
      "cell_type": "code",
      "source": [
        "my_dict = {\"a\": \"apple\", \"b\": \"mango\", \"c\": \"banana\", \"d\": [\"hello\", \"world\"]}\n",
        "print(list(my_dict.values())) #typecasted to list"
      ],
      "metadata": {
        "colab": {
          "base_uri": "https://localhost:8080/"
        },
        "id": "30-lE8mEhQ6X",
        "outputId": "85b717ad-3dfd-4a0b-eebc-af757674fc54"
      },
      "execution_count": null,
      "outputs": [
        {
          "output_type": "stream",
          "name": "stdout",
          "text": [
            "['apple', 'mango', 'banana', ['hello', 'world']]\n"
          ]
        }
      ]
    },
    {
      "cell_type": "markdown",
      "source": [
        "#get() method"
      ],
      "metadata": {
        "id": "fvJZHmGIhs08"
      }
    },
    {
      "cell_type": "code",
      "source": [
        "my_dict = {\"a\": \"apple\", \"b\": \"mango\", \"c\": \"banana\", \"d\": [\"hello\", \"world\"]}\n",
        "my_dict.get(\"e\", \"Not found\") #returns a value which passed as a second argument in get() if not found and returns a actual value if found"
      ],
      "metadata": {
        "colab": {
          "base_uri": "https://localhost:8080/",
          "height": 35
        },
        "id": "Ngs5aI0PhwHX",
        "outputId": "f05581e3-129e-4ad8-8e70-6ead5d74796a"
      },
      "execution_count": null,
      "outputs": [
        {
          "output_type": "execute_result",
          "data": {
            "text/plain": [
              "'Not found'"
            ],
            "application/vnd.google.colaboratory.intrinsic+json": {
              "type": "string"
            }
          },
          "metadata": {},
          "execution_count": 35
        }
      ]
    },
    {
      "cell_type": "markdown",
      "source": [
        "#Typecasting to list and dictionary by using zip() method"
      ],
      "metadata": {
        "id": "2hXIAMxVlyUU"
      }
    },
    {
      "cell_type": "code",
      "source": [
        "country_list = [\"india\", \"USA\", \"brazil\", \"russia\"]\n",
        "city_list = [\"delhi\", \"washington DC\", \"ABC\", \"XYZ\"]\n",
        "new_dict = dict(zip(country_list, city_list))\n",
        "print(new_dict)\n",
        "new_list = list(zip(country_list, city_list))\n",
        "print(new_list)\n",
        "number_list = [1,2,3,4]\n",
        "number_list2 = [5,6,7,8]\n",
        "number_list_dict = dict(zip(number_list, number_list2))\n",
        "print(number_list_dict)\n",
        "# number_dict = {1: \"apple\"}\n",
        "# print(number_dict)"
      ],
      "metadata": {
        "colab": {
          "base_uri": "https://localhost:8080/"
        },
        "id": "ZIu7Ramcl3Zb",
        "outputId": "8069b769-a23b-4ec6-9096-eb0a5981b153"
      },
      "execution_count": null,
      "outputs": [
        {
          "output_type": "stream",
          "name": "stdout",
          "text": [
            "{'india': 'delhi', 'USA': 'washington DC', 'brazil': 'ABC', 'russia': 'XYZ'}\n",
            "[('india', 'delhi'), ('USA', 'washington DC'), ('brazil', 'ABC'), ('russia', 'XYZ')]\n",
            "{1: 5, 2: 6, 3: 7, 4: 8}\n"
          ]
        }
      ]
    },
    {
      "cell_type": "markdown",
      "source": [
        "#pop() method in dictionary"
      ],
      "metadata": {
        "id": "YRlVBvoPm6TF"
      }
    },
    {
      "cell_type": "code",
      "source": [
        "my_dict = {\"a\": \"apple\", \"b\": \"mango\", \"c\": \"banana\", \"d\": [\"hello\", \"world\"]}\n",
        "my_dict.pop(\"a\")\n",
        "print(my_dict.pop(\"e\", \"not found\"))\n",
        "print(my_dict)"
      ],
      "metadata": {
        "colab": {
          "base_uri": "https://localhost:8080/"
        },
        "id": "55a-Ih7Rm-aF",
        "outputId": "1ea9fef6-b1d3-4ba5-9c7c-50001ac134a9"
      },
      "execution_count": null,
      "outputs": [
        {
          "output_type": "stream",
          "name": "stdout",
          "text": [
            "not found\n",
            "{'b': 'mango', 'c': 'banana', 'd': ['hello', 'world']}\n"
          ]
        }
      ]
    },
    {
      "cell_type": "markdown",
      "source": [
        "#CONDITIONALS STATEMENTS"
      ],
      "metadata": {
        "id": "Bav1IgDBCJvV"
      }
    },
    {
      "cell_type": "code",
      "source": [
        "# age = int(input())\n",
        "# print(age)\n",
        "m,n = map(int, input().split())\n",
        "print(m)\n",
        "print(n)"
      ],
      "metadata": {
        "colab": {
          "base_uri": "https://localhost:8080/"
        },
        "id": "czEHreyLCNuu",
        "outputId": "11ceefe7-5771-46a2-8732-fd98a541316d"
      },
      "execution_count": null,
      "outputs": [
        {
          "output_type": "stream",
          "name": "stdout",
          "text": [
            "1 2\n",
            "1\n",
            "2\n"
          ]
        }
      ]
    },
    {
      "cell_type": "code",
      "source": [
        "m,n = map(str, input().split())\n",
        "print(m+\" \"+n)"
      ],
      "metadata": {
        "colab": {
          "base_uri": "https://localhost:8080/"
        },
        "id": "lkX_7StSEaCM",
        "outputId": "36d6ef4f-9948-48d2-c2af-7bdbecfc9836"
      },
      "execution_count": null,
      "outputs": [
        {
          "output_type": "stream",
          "name": "stdout",
          "text": [
            "tanishak singhal\n",
            "tanishak singhal\n"
          ]
        }
      ]
    },
    {
      "cell_type": "code",
      "source": [
        "names = eval(input())\n",
        "print(names)"
      ],
      "metadata": {
        "colab": {
          "base_uri": "https://localhost:8080/"
        },
        "id": "v-F-rnkIG50T",
        "outputId": "99eae54a-71d8-4956-d96a-33a81f86f462"
      },
      "execution_count": null,
      "outputs": [
        {
          "output_type": "stream",
          "name": "stdout",
          "text": [
            "[\"tanishak\", \"rahul\", \"sachine\"]\n",
            "['tanishak', 'rahul', 'sachine']\n"
          ]
        }
      ]
    },
    {
      "cell_type": "code",
      "source": [
        "names = input().strip()\n",
        "print(names)"
      ],
      "metadata": {
        "colab": {
          "base_uri": "https://localhost:8080/"
        },
        "id": "iqqKugQdH-j_",
        "outputId": "8962e074-3a39-47be-9f55-25830f34809b"
      },
      "execution_count": null,
      "outputs": [
        {
          "output_type": "stream",
          "name": "stdout",
          "text": [
            "\"tanishak\" \"singhal\"\n",
            "\"tanishak\" \"singhal\"\n"
          ]
        }
      ]
    },
    {
      "cell_type": "code",
      "source": [
        "age = int(input(\"Enter your age: \"))\n",
        "if(age >= 18) :\n",
        "    print(\"eligible for vote\")\n",
        "    print(\"Can have driving license\")\n",
        "else :\n",
        "    print(\"Not eligible for vote and driving license\")\n"
      ],
      "metadata": {
        "colab": {
          "base_uri": "https://localhost:8080/"
        },
        "id": "vdvn6JvYJJJM",
        "outputId": "f159d1a1-003a-4fa0-d466-2b3019e7f27c"
      },
      "execution_count": null,
      "outputs": [
        {
          "output_type": "stream",
          "name": "stdout",
          "text": [
            "Enter your age: 12\n",
            "Not eligible for vote and driving license\n"
          ]
        }
      ]
    },
    {
      "cell_type": "code",
      "source": [
        "number = int(input(\"Enter a number: \"))\n",
        "if(number % 2 == 0) :\n",
        "  print(\"Even\")\n",
        "else :\n",
        "  print(\"Odd\")"
      ],
      "metadata": {
        "colab": {
          "base_uri": "https://localhost:8080/"
        },
        "id": "A-M5g3W7LLCY",
        "outputId": "17a659af-dcd0-4270-94b4-1b7bda766678"
      },
      "execution_count": null,
      "outputs": [
        {
          "output_type": "stream",
          "name": "stdout",
          "text": [
            "Enter a number: 23\n",
            "Odd\n"
          ]
        }
      ]
    },
    {
      "cell_type": "code",
      "source": [
        "# number = \"121\"\n",
        "# start=0\n",
        "# end=len(number)-1\n",
        "# while(start<=end) :\n",
        "#   if(number[start] != number[end]) :\n",
        "#     print(\"not palindrome\")\n",
        "#     break;\n",
        "#   start++\n",
        "#   end--\n",
        "\n",
        "# print(\"palindrome\")"
      ],
      "metadata": {
        "colab": {
          "base_uri": "https://localhost:8080/",
          "height": 109
        },
        "id": "MUtmlC7KM8Pc",
        "outputId": "09d47b2d-ae61-460a-f6e1-29a09d8a9823"
      },
      "execution_count": null,
      "outputs": [
        {
          "output_type": "error",
          "ename": "SyntaxError",
          "evalue": "invalid syntax (ipython-input-18-4148372947.py, line 8)",
          "traceback": [
            "\u001b[0;36m  File \u001b[0;32m\"/tmp/ipython-input-18-4148372947.py\"\u001b[0;36m, line \u001b[0;32m8\u001b[0m\n\u001b[0;31m    start++\u001b[0m\n\u001b[0m           ^\u001b[0m\n\u001b[0;31mSyntaxError\u001b[0m\u001b[0;31m:\u001b[0m invalid syntax\n"
          ]
        }
      ]
    },
    {
      "cell_type": "code",
      "source": [
        "#elif\n",
        "age=int(input())\n",
        "if(age>=18):\n",
        "    print(\"adult\")\n",
        "elif(age<=18 & age>=16):\n",
        "    print(\"teenager\")\n",
        "else:\n",
        "  print(\"child\")"
      ],
      "metadata": {
        "colab": {
          "base_uri": "https://localhost:8080/"
        },
        "id": "ms_K0DLWOnqY",
        "outputId": "d16cacf6-f3be-461a-dabf-70a39dd0d99a"
      },
      "execution_count": null,
      "outputs": [
        {
          "output_type": "stream",
          "name": "stdout",
          "text": [
            "18\n",
            "adult\n"
          ]
        }
      ]
    },
    {
      "cell_type": "code",
      "source": [
        "marks = int(input(\"Enter marks between 0 to 100: \"))\n",
        "if(marks>100) :\n",
        "  print(\"couldn't you understand! between 0 and 100\")\n",
        "elif(marks>=90) :\n",
        "  print(\"A\")\n",
        "elif(marks >= 70 and marks < 90) :\n",
        "  print(\"B\")\n",
        "elif(marks>=40 and marks < 70) :\n",
        "  print(\"C\")\n",
        "elif(marks<40):\n",
        "  print(\"F\")"
      ],
      "metadata": {
        "colab": {
          "base_uri": "https://localhost:8080/"
        },
        "id": "d0n4I6_VO6VR",
        "outputId": "1f484360-e4f7-4b65-8abd-039d15a35be2"
      },
      "execution_count": null,
      "outputs": [
        {
          "output_type": "stream",
          "name": "stdout",
          "text": [
            "Enter marks between 0 to 100: 101\n",
            "couldn't you understand! between 0 and 100\n"
          ]
        }
      ]
    },
    {
      "cell_type": "code",
      "source": [
        "number1 = int(input(\"Enter first number: \"))\n",
        "number2 = int(input(\"Enter second number: \"))\n",
        "operator = input(\"Enter a operator: \")\n",
        "if(operator == \"+\") :\n",
        "  print(number1+number2)\n",
        "elif(operator == \"-\"):\n",
        "  print(number1-number2)\n",
        "elif(operator == \"*\"):\n",
        "  print(number1*number2)\n",
        "elif(operator == \"/\"):\n",
        "  print(number1/number2)\n",
        "elif(operator == \"%\"):\n",
        "  percentage = ((number1+number2)/100)\n",
        "  print(percentage)\n"
      ],
      "metadata": {
        "colab": {
          "base_uri": "https://localhost:8080/"
        },
        "id": "bPbOzlBaS4pO",
        "outputId": "4e98131b-40ad-4def-fc64-a794287b2f9e"
      },
      "execution_count": null,
      "outputs": [
        {
          "output_type": "stream",
          "name": "stdout",
          "text": [
            "Enter first number: 23\n",
            "Enter second number: 34\n",
            "Enter a operator: %\n",
            "0.57\n"
          ]
        }
      ]
    },
    {
      "cell_type": "markdown",
      "source": [],
      "metadata": {
        "id": "a1u30K-kOpwd"
      }
    }
  ]
}