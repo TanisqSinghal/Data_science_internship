{
  "cells": [
    {
      "cell_type": "markdown",
      "metadata": {
        "id": "view-in-github",
        "colab_type": "text"
      },
      "source": [
        "<a href=\"https://colab.research.google.com/github/TanisqSinghal/Data_science_internship/blob/main/Lecture_of_Logistic_Regression_code.ipynb\" target=\"_parent\"><img src=\"https://colab.research.google.com/assets/colab-badge.svg\" alt=\"Open In Colab\"/></a>"
      ]
    },
    {
      "cell_type": "code",
      "execution_count": null,
      "id": "58a0e2b5",
      "metadata": {
        "id": "58a0e2b5"
      },
      "outputs": [],
      "source": [
        "import pandas as pd\n"
      ]
    },
    {
      "cell_type": "code",
      "execution_count": null,
      "id": "2f125783",
      "metadata": {
        "id": "2f125783"
      },
      "outputs": [],
      "source": [
        "import numpy as np"
      ]
    },
    {
      "cell_type": "code",
      "execution_count": null,
      "id": "512c0d4d",
      "metadata": {
        "colab": {
          "base_uri": "https://localhost:8080/",
          "height": 509
        },
        "id": "512c0d4d",
        "outputId": "94c5d722-d819-42f9-b8af-da1fad806fb6"
      },
      "outputs": [
        {
          "output_type": "execute_result",
          "data": {
            "text/plain": [
              "      gender  ssc_p    ssc_b  hsc_p    hsc_b     hsc_s  degree_p   degree_t  \\\n",
              "sl_no                                                                         \n",
              "1          M  67.00   Others  91.00   Others  Commerce     58.00   Sci&Tech   \n",
              "2          M  79.33  Central  78.33   Others   Science     77.48   Sci&Tech   \n",
              "3          M  65.00  Central  68.00  Central      Arts     64.00  Comm&Mgmt   \n",
              "4          M  56.00  Central  52.00  Central   Science     52.00   Sci&Tech   \n",
              "5          M  85.80  Central  73.60  Central  Commerce     73.30  Comm&Mgmt   \n",
              "...      ...    ...      ...    ...      ...       ...       ...        ...   \n",
              "211        M  80.60   Others  82.00   Others  Commerce     77.60  Comm&Mgmt   \n",
              "212        M  58.00   Others  60.00   Others   Science     72.00   Sci&Tech   \n",
              "213        M  67.00   Others  67.00   Others  Commerce     73.00  Comm&Mgmt   \n",
              "214        F  74.00   Others  66.00   Others  Commerce     58.00  Comm&Mgmt   \n",
              "215        M  62.00  Central  58.00   Others   Science     53.00  Comm&Mgmt   \n",
              "\n",
              "      workex  etest_p specialisation  mba_p      status    salary  \n",
              "sl_no                                                              \n",
              "1         No     55.0         Mkt&HR  58.80      Placed  270000.0  \n",
              "2        Yes     86.5        Mkt&Fin  66.28      Placed  200000.0  \n",
              "3         No     75.0        Mkt&Fin  57.80      Placed  250000.0  \n",
              "4         No     66.0         Mkt&HR  59.43  Not Placed       NaN  \n",
              "5         No     96.8        Mkt&Fin  55.50      Placed  425000.0  \n",
              "...      ...      ...            ...    ...         ...       ...  \n",
              "211       No     91.0        Mkt&Fin  74.49      Placed  400000.0  \n",
              "212       No     74.0        Mkt&Fin  53.62      Placed  275000.0  \n",
              "213      Yes     59.0        Mkt&Fin  69.72      Placed  295000.0  \n",
              "214       No     70.0         Mkt&HR  60.23      Placed  204000.0  \n",
              "215       No     89.0         Mkt&HR  60.22  Not Placed       NaN  \n",
              "\n",
              "[215 rows x 14 columns]"
            ],
            "text/html": [
              "\n",
              "  <div id=\"df-8d35b9d9-63a7-4c67-b10f-beb17b45af46\" class=\"colab-df-container\">\n",
              "    <div>\n",
              "<style scoped>\n",
              "    .dataframe tbody tr th:only-of-type {\n",
              "        vertical-align: middle;\n",
              "    }\n",
              "\n",
              "    .dataframe tbody tr th {\n",
              "        vertical-align: top;\n",
              "    }\n",
              "\n",
              "    .dataframe thead th {\n",
              "        text-align: right;\n",
              "    }\n",
              "</style>\n",
              "<table border=\"1\" class=\"dataframe\">\n",
              "  <thead>\n",
              "    <tr style=\"text-align: right;\">\n",
              "      <th></th>\n",
              "      <th>gender</th>\n",
              "      <th>ssc_p</th>\n",
              "      <th>ssc_b</th>\n",
              "      <th>hsc_p</th>\n",
              "      <th>hsc_b</th>\n",
              "      <th>hsc_s</th>\n",
              "      <th>degree_p</th>\n",
              "      <th>degree_t</th>\n",
              "      <th>workex</th>\n",
              "      <th>etest_p</th>\n",
              "      <th>specialisation</th>\n",
              "      <th>mba_p</th>\n",
              "      <th>status</th>\n",
              "      <th>salary</th>\n",
              "    </tr>\n",
              "    <tr>\n",
              "      <th>sl_no</th>\n",
              "      <th></th>\n",
              "      <th></th>\n",
              "      <th></th>\n",
              "      <th></th>\n",
              "      <th></th>\n",
              "      <th></th>\n",
              "      <th></th>\n",
              "      <th></th>\n",
              "      <th></th>\n",
              "      <th></th>\n",
              "      <th></th>\n",
              "      <th></th>\n",
              "      <th></th>\n",
              "      <th></th>\n",
              "    </tr>\n",
              "  </thead>\n",
              "  <tbody>\n",
              "    <tr>\n",
              "      <th>1</th>\n",
              "      <td>M</td>\n",
              "      <td>67.00</td>\n",
              "      <td>Others</td>\n",
              "      <td>91.00</td>\n",
              "      <td>Others</td>\n",
              "      <td>Commerce</td>\n",
              "      <td>58.00</td>\n",
              "      <td>Sci&amp;Tech</td>\n",
              "      <td>No</td>\n",
              "      <td>55.0</td>\n",
              "      <td>Mkt&amp;HR</td>\n",
              "      <td>58.80</td>\n",
              "      <td>Placed</td>\n",
              "      <td>270000.0</td>\n",
              "    </tr>\n",
              "    <tr>\n",
              "      <th>2</th>\n",
              "      <td>M</td>\n",
              "      <td>79.33</td>\n",
              "      <td>Central</td>\n",
              "      <td>78.33</td>\n",
              "      <td>Others</td>\n",
              "      <td>Science</td>\n",
              "      <td>77.48</td>\n",
              "      <td>Sci&amp;Tech</td>\n",
              "      <td>Yes</td>\n",
              "      <td>86.5</td>\n",
              "      <td>Mkt&amp;Fin</td>\n",
              "      <td>66.28</td>\n",
              "      <td>Placed</td>\n",
              "      <td>200000.0</td>\n",
              "    </tr>\n",
              "    <tr>\n",
              "      <th>3</th>\n",
              "      <td>M</td>\n",
              "      <td>65.00</td>\n",
              "      <td>Central</td>\n",
              "      <td>68.00</td>\n",
              "      <td>Central</td>\n",
              "      <td>Arts</td>\n",
              "      <td>64.00</td>\n",
              "      <td>Comm&amp;Mgmt</td>\n",
              "      <td>No</td>\n",
              "      <td>75.0</td>\n",
              "      <td>Mkt&amp;Fin</td>\n",
              "      <td>57.80</td>\n",
              "      <td>Placed</td>\n",
              "      <td>250000.0</td>\n",
              "    </tr>\n",
              "    <tr>\n",
              "      <th>4</th>\n",
              "      <td>M</td>\n",
              "      <td>56.00</td>\n",
              "      <td>Central</td>\n",
              "      <td>52.00</td>\n",
              "      <td>Central</td>\n",
              "      <td>Science</td>\n",
              "      <td>52.00</td>\n",
              "      <td>Sci&amp;Tech</td>\n",
              "      <td>No</td>\n",
              "      <td>66.0</td>\n",
              "      <td>Mkt&amp;HR</td>\n",
              "      <td>59.43</td>\n",
              "      <td>Not Placed</td>\n",
              "      <td>NaN</td>\n",
              "    </tr>\n",
              "    <tr>\n",
              "      <th>5</th>\n",
              "      <td>M</td>\n",
              "      <td>85.80</td>\n",
              "      <td>Central</td>\n",
              "      <td>73.60</td>\n",
              "      <td>Central</td>\n",
              "      <td>Commerce</td>\n",
              "      <td>73.30</td>\n",
              "      <td>Comm&amp;Mgmt</td>\n",
              "      <td>No</td>\n",
              "      <td>96.8</td>\n",
              "      <td>Mkt&amp;Fin</td>\n",
              "      <td>55.50</td>\n",
              "      <td>Placed</td>\n",
              "      <td>425000.0</td>\n",
              "    </tr>\n",
              "    <tr>\n",
              "      <th>...</th>\n",
              "      <td>...</td>\n",
              "      <td>...</td>\n",
              "      <td>...</td>\n",
              "      <td>...</td>\n",
              "      <td>...</td>\n",
              "      <td>...</td>\n",
              "      <td>...</td>\n",
              "      <td>...</td>\n",
              "      <td>...</td>\n",
              "      <td>...</td>\n",
              "      <td>...</td>\n",
              "      <td>...</td>\n",
              "      <td>...</td>\n",
              "      <td>...</td>\n",
              "    </tr>\n",
              "    <tr>\n",
              "      <th>211</th>\n",
              "      <td>M</td>\n",
              "      <td>80.60</td>\n",
              "      <td>Others</td>\n",
              "      <td>82.00</td>\n",
              "      <td>Others</td>\n",
              "      <td>Commerce</td>\n",
              "      <td>77.60</td>\n",
              "      <td>Comm&amp;Mgmt</td>\n",
              "      <td>No</td>\n",
              "      <td>91.0</td>\n",
              "      <td>Mkt&amp;Fin</td>\n",
              "      <td>74.49</td>\n",
              "      <td>Placed</td>\n",
              "      <td>400000.0</td>\n",
              "    </tr>\n",
              "    <tr>\n",
              "      <th>212</th>\n",
              "      <td>M</td>\n",
              "      <td>58.00</td>\n",
              "      <td>Others</td>\n",
              "      <td>60.00</td>\n",
              "      <td>Others</td>\n",
              "      <td>Science</td>\n",
              "      <td>72.00</td>\n",
              "      <td>Sci&amp;Tech</td>\n",
              "      <td>No</td>\n",
              "      <td>74.0</td>\n",
              "      <td>Mkt&amp;Fin</td>\n",
              "      <td>53.62</td>\n",
              "      <td>Placed</td>\n",
              "      <td>275000.0</td>\n",
              "    </tr>\n",
              "    <tr>\n",
              "      <th>213</th>\n",
              "      <td>M</td>\n",
              "      <td>67.00</td>\n",
              "      <td>Others</td>\n",
              "      <td>67.00</td>\n",
              "      <td>Others</td>\n",
              "      <td>Commerce</td>\n",
              "      <td>73.00</td>\n",
              "      <td>Comm&amp;Mgmt</td>\n",
              "      <td>Yes</td>\n",
              "      <td>59.0</td>\n",
              "      <td>Mkt&amp;Fin</td>\n",
              "      <td>69.72</td>\n",
              "      <td>Placed</td>\n",
              "      <td>295000.0</td>\n",
              "    </tr>\n",
              "    <tr>\n",
              "      <th>214</th>\n",
              "      <td>F</td>\n",
              "      <td>74.00</td>\n",
              "      <td>Others</td>\n",
              "      <td>66.00</td>\n",
              "      <td>Others</td>\n",
              "      <td>Commerce</td>\n",
              "      <td>58.00</td>\n",
              "      <td>Comm&amp;Mgmt</td>\n",
              "      <td>No</td>\n",
              "      <td>70.0</td>\n",
              "      <td>Mkt&amp;HR</td>\n",
              "      <td>60.23</td>\n",
              "      <td>Placed</td>\n",
              "      <td>204000.0</td>\n",
              "    </tr>\n",
              "    <tr>\n",
              "      <th>215</th>\n",
              "      <td>M</td>\n",
              "      <td>62.00</td>\n",
              "      <td>Central</td>\n",
              "      <td>58.00</td>\n",
              "      <td>Others</td>\n",
              "      <td>Science</td>\n",
              "      <td>53.00</td>\n",
              "      <td>Comm&amp;Mgmt</td>\n",
              "      <td>No</td>\n",
              "      <td>89.0</td>\n",
              "      <td>Mkt&amp;HR</td>\n",
              "      <td>60.22</td>\n",
              "      <td>Not Placed</td>\n",
              "      <td>NaN</td>\n",
              "    </tr>\n",
              "  </tbody>\n",
              "</table>\n",
              "<p>215 rows × 14 columns</p>\n",
              "</div>\n",
              "    <div class=\"colab-df-buttons\">\n",
              "\n",
              "  <div class=\"colab-df-container\">\n",
              "    <button class=\"colab-df-convert\" onclick=\"convertToInteractive('df-8d35b9d9-63a7-4c67-b10f-beb17b45af46')\"\n",
              "            title=\"Convert this dataframe to an interactive table.\"\n",
              "            style=\"display:none;\">\n",
              "\n",
              "  <svg xmlns=\"http://www.w3.org/2000/svg\" height=\"24px\" viewBox=\"0 -960 960 960\">\n",
              "    <path d=\"M120-120v-720h720v720H120Zm60-500h600v-160H180v160Zm220 220h160v-160H400v160Zm0 220h160v-160H400v160ZM180-400h160v-160H180v160Zm440 0h160v-160H620v160ZM180-180h160v-160H180v160Zm440 0h160v-160H620v160Z\"/>\n",
              "  </svg>\n",
              "    </button>\n",
              "\n",
              "  <style>\n",
              "    .colab-df-container {\n",
              "      display:flex;\n",
              "      gap: 12px;\n",
              "    }\n",
              "\n",
              "    .colab-df-convert {\n",
              "      background-color: #E8F0FE;\n",
              "      border: none;\n",
              "      border-radius: 50%;\n",
              "      cursor: pointer;\n",
              "      display: none;\n",
              "      fill: #1967D2;\n",
              "      height: 32px;\n",
              "      padding: 0 0 0 0;\n",
              "      width: 32px;\n",
              "    }\n",
              "\n",
              "    .colab-df-convert:hover {\n",
              "      background-color: #E2EBFA;\n",
              "      box-shadow: 0px 1px 2px rgba(60, 64, 67, 0.3), 0px 1px 3px 1px rgba(60, 64, 67, 0.15);\n",
              "      fill: #174EA6;\n",
              "    }\n",
              "\n",
              "    .colab-df-buttons div {\n",
              "      margin-bottom: 4px;\n",
              "    }\n",
              "\n",
              "    [theme=dark] .colab-df-convert {\n",
              "      background-color: #3B4455;\n",
              "      fill: #D2E3FC;\n",
              "    }\n",
              "\n",
              "    [theme=dark] .colab-df-convert:hover {\n",
              "      background-color: #434B5C;\n",
              "      box-shadow: 0px 1px 3px 1px rgba(0, 0, 0, 0.15);\n",
              "      filter: drop-shadow(0px 1px 2px rgba(0, 0, 0, 0.3));\n",
              "      fill: #FFFFFF;\n",
              "    }\n",
              "  </style>\n",
              "\n",
              "    <script>\n",
              "      const buttonEl =\n",
              "        document.querySelector('#df-8d35b9d9-63a7-4c67-b10f-beb17b45af46 button.colab-df-convert');\n",
              "      buttonEl.style.display =\n",
              "        google.colab.kernel.accessAllowed ? 'block' : 'none';\n",
              "\n",
              "      async function convertToInteractive(key) {\n",
              "        const element = document.querySelector('#df-8d35b9d9-63a7-4c67-b10f-beb17b45af46');\n",
              "        const dataTable =\n",
              "          await google.colab.kernel.invokeFunction('convertToInteractive',\n",
              "                                                    [key], {});\n",
              "        if (!dataTable) return;\n",
              "\n",
              "        const docLinkHtml = 'Like what you see? Visit the ' +\n",
              "          '<a target=\"_blank\" href=https://colab.research.google.com/notebooks/data_table.ipynb>data table notebook</a>'\n",
              "          + ' to learn more about interactive tables.';\n",
              "        element.innerHTML = '';\n",
              "        dataTable['output_type'] = 'display_data';\n",
              "        await google.colab.output.renderOutput(dataTable, element);\n",
              "        const docLink = document.createElement('div');\n",
              "        docLink.innerHTML = docLinkHtml;\n",
              "        element.appendChild(docLink);\n",
              "      }\n",
              "    </script>\n",
              "  </div>\n",
              "\n",
              "\n",
              "    <div id=\"df-125c91fa-c720-4309-bcbc-1b739172daec\">\n",
              "      <button class=\"colab-df-quickchart\" onclick=\"quickchart('df-125c91fa-c720-4309-bcbc-1b739172daec')\"\n",
              "                title=\"Suggest charts\"\n",
              "                style=\"display:none;\">\n",
              "\n",
              "<svg xmlns=\"http://www.w3.org/2000/svg\" height=\"24px\"viewBox=\"0 0 24 24\"\n",
              "     width=\"24px\">\n",
              "    <g>\n",
              "        <path d=\"M19 3H5c-1.1 0-2 .9-2 2v14c0 1.1.9 2 2 2h14c1.1 0 2-.9 2-2V5c0-1.1-.9-2-2-2zM9 17H7v-7h2v7zm4 0h-2V7h2v10zm4 0h-2v-4h2v4z\"/>\n",
              "    </g>\n",
              "</svg>\n",
              "      </button>\n",
              "\n",
              "<style>\n",
              "  .colab-df-quickchart {\n",
              "      --bg-color: #E8F0FE;\n",
              "      --fill-color: #1967D2;\n",
              "      --hover-bg-color: #E2EBFA;\n",
              "      --hover-fill-color: #174EA6;\n",
              "      --disabled-fill-color: #AAA;\n",
              "      --disabled-bg-color: #DDD;\n",
              "  }\n",
              "\n",
              "  [theme=dark] .colab-df-quickchart {\n",
              "      --bg-color: #3B4455;\n",
              "      --fill-color: #D2E3FC;\n",
              "      --hover-bg-color: #434B5C;\n",
              "      --hover-fill-color: #FFFFFF;\n",
              "      --disabled-bg-color: #3B4455;\n",
              "      --disabled-fill-color: #666;\n",
              "  }\n",
              "\n",
              "  .colab-df-quickchart {\n",
              "    background-color: var(--bg-color);\n",
              "    border: none;\n",
              "    border-radius: 50%;\n",
              "    cursor: pointer;\n",
              "    display: none;\n",
              "    fill: var(--fill-color);\n",
              "    height: 32px;\n",
              "    padding: 0;\n",
              "    width: 32px;\n",
              "  }\n",
              "\n",
              "  .colab-df-quickchart:hover {\n",
              "    background-color: var(--hover-bg-color);\n",
              "    box-shadow: 0 1px 2px rgba(60, 64, 67, 0.3), 0 1px 3px 1px rgba(60, 64, 67, 0.15);\n",
              "    fill: var(--button-hover-fill-color);\n",
              "  }\n",
              "\n",
              "  .colab-df-quickchart-complete:disabled,\n",
              "  .colab-df-quickchart-complete:disabled:hover {\n",
              "    background-color: var(--disabled-bg-color);\n",
              "    fill: var(--disabled-fill-color);\n",
              "    box-shadow: none;\n",
              "  }\n",
              "\n",
              "  .colab-df-spinner {\n",
              "    border: 2px solid var(--fill-color);\n",
              "    border-color: transparent;\n",
              "    border-bottom-color: var(--fill-color);\n",
              "    animation:\n",
              "      spin 1s steps(1) infinite;\n",
              "  }\n",
              "\n",
              "  @keyframes spin {\n",
              "    0% {\n",
              "      border-color: transparent;\n",
              "      border-bottom-color: var(--fill-color);\n",
              "      border-left-color: var(--fill-color);\n",
              "    }\n",
              "    20% {\n",
              "      border-color: transparent;\n",
              "      border-left-color: var(--fill-color);\n",
              "      border-top-color: var(--fill-color);\n",
              "    }\n",
              "    30% {\n",
              "      border-color: transparent;\n",
              "      border-left-color: var(--fill-color);\n",
              "      border-top-color: var(--fill-color);\n",
              "      border-right-color: var(--fill-color);\n",
              "    }\n",
              "    40% {\n",
              "      border-color: transparent;\n",
              "      border-right-color: var(--fill-color);\n",
              "      border-top-color: var(--fill-color);\n",
              "    }\n",
              "    60% {\n",
              "      border-color: transparent;\n",
              "      border-right-color: var(--fill-color);\n",
              "    }\n",
              "    80% {\n",
              "      border-color: transparent;\n",
              "      border-right-color: var(--fill-color);\n",
              "      border-bottom-color: var(--fill-color);\n",
              "    }\n",
              "    90% {\n",
              "      border-color: transparent;\n",
              "      border-bottom-color: var(--fill-color);\n",
              "    }\n",
              "  }\n",
              "</style>\n",
              "\n",
              "      <script>\n",
              "        async function quickchart(key) {\n",
              "          const quickchartButtonEl =\n",
              "            document.querySelector('#' + key + ' button');\n",
              "          quickchartButtonEl.disabled = true;  // To prevent multiple clicks.\n",
              "          quickchartButtonEl.classList.add('colab-df-spinner');\n",
              "          try {\n",
              "            const charts = await google.colab.kernel.invokeFunction(\n",
              "                'suggestCharts', [key], {});\n",
              "          } catch (error) {\n",
              "            console.error('Error during call to suggestCharts:', error);\n",
              "          }\n",
              "          quickchartButtonEl.classList.remove('colab-df-spinner');\n",
              "          quickchartButtonEl.classList.add('colab-df-quickchart-complete');\n",
              "        }\n",
              "        (() => {\n",
              "          let quickchartButtonEl =\n",
              "            document.querySelector('#df-125c91fa-c720-4309-bcbc-1b739172daec button');\n",
              "          quickchartButtonEl.style.display =\n",
              "            google.colab.kernel.accessAllowed ? 'block' : 'none';\n",
              "        })();\n",
              "      </script>\n",
              "    </div>\n",
              "\n",
              "  <div id=\"id_6cfc17e5-f983-437b-b89e-4befa1baaa1f\">\n",
              "    <style>\n",
              "      .colab-df-generate {\n",
              "        background-color: #E8F0FE;\n",
              "        border: none;\n",
              "        border-radius: 50%;\n",
              "        cursor: pointer;\n",
              "        display: none;\n",
              "        fill: #1967D2;\n",
              "        height: 32px;\n",
              "        padding: 0 0 0 0;\n",
              "        width: 32px;\n",
              "      }\n",
              "\n",
              "      .colab-df-generate:hover {\n",
              "        background-color: #E2EBFA;\n",
              "        box-shadow: 0px 1px 2px rgba(60, 64, 67, 0.3), 0px 1px 3px 1px rgba(60, 64, 67, 0.15);\n",
              "        fill: #174EA6;\n",
              "      }\n",
              "\n",
              "      [theme=dark] .colab-df-generate {\n",
              "        background-color: #3B4455;\n",
              "        fill: #D2E3FC;\n",
              "      }\n",
              "\n",
              "      [theme=dark] .colab-df-generate:hover {\n",
              "        background-color: #434B5C;\n",
              "        box-shadow: 0px 1px 3px 1px rgba(0, 0, 0, 0.15);\n",
              "        filter: drop-shadow(0px 1px 2px rgba(0, 0, 0, 0.3));\n",
              "        fill: #FFFFFF;\n",
              "      }\n",
              "    </style>\n",
              "    <button class=\"colab-df-generate\" onclick=\"generateWithVariable('df')\"\n",
              "            title=\"Generate code using this dataframe.\"\n",
              "            style=\"display:none;\">\n",
              "\n",
              "  <svg xmlns=\"http://www.w3.org/2000/svg\" height=\"24px\"viewBox=\"0 0 24 24\"\n",
              "       width=\"24px\">\n",
              "    <path d=\"M7,19H8.4L18.45,9,17,7.55,7,17.6ZM5,21V16.75L18.45,3.32a2,2,0,0,1,2.83,0l1.4,1.43a1.91,1.91,0,0,1,.58,1.4,1.91,1.91,0,0,1-.58,1.4L9.25,21ZM18.45,9,17,7.55Zm-12,3A5.31,5.31,0,0,0,4.9,8.1,5.31,5.31,0,0,0,1,6.5,5.31,5.31,0,0,0,4.9,4.9,5.31,5.31,0,0,0,6.5,1,5.31,5.31,0,0,0,8.1,4.9,5.31,5.31,0,0,0,12,6.5,5.46,5.46,0,0,0,6.5,12Z\"/>\n",
              "  </svg>\n",
              "    </button>\n",
              "    <script>\n",
              "      (() => {\n",
              "      const buttonEl =\n",
              "        document.querySelector('#id_6cfc17e5-f983-437b-b89e-4befa1baaa1f button.colab-df-generate');\n",
              "      buttonEl.style.display =\n",
              "        google.colab.kernel.accessAllowed ? 'block' : 'none';\n",
              "\n",
              "      buttonEl.onclick = () => {\n",
              "        google.colab.notebook.generateWithVariable('df');\n",
              "      }\n",
              "      })();\n",
              "    </script>\n",
              "  </div>\n",
              "\n",
              "    </div>\n",
              "  </div>\n"
            ],
            "application/vnd.google.colaboratory.intrinsic+json": {
              "type": "dataframe",
              "variable_name": "df",
              "summary": "{\n  \"name\": \"df\",\n  \"rows\": 215,\n  \"fields\": [\n    {\n      \"column\": \"sl_no\",\n      \"properties\": {\n        \"dtype\": \"number\",\n        \"std\": 62,\n        \"min\": 1,\n        \"max\": 215,\n        \"num_unique_values\": 215,\n        \"samples\": [\n          201,\n          213,\n          139\n        ],\n        \"semantic_type\": \"\",\n        \"description\": \"\"\n      }\n    },\n    {\n      \"column\": \"gender\",\n      \"properties\": {\n        \"dtype\": \"category\",\n        \"num_unique_values\": 2,\n        \"samples\": [\n          \"F\",\n          \"M\"\n        ],\n        \"semantic_type\": \"\",\n        \"description\": \"\"\n      }\n    },\n    {\n      \"column\": \"ssc_p\",\n      \"properties\": {\n        \"dtype\": \"number\",\n        \"std\": 10.827205398231452,\n        \"min\": 40.89,\n        \"max\": 89.4,\n        \"num_unique_values\": 103,\n        \"samples\": [\n          74.0,\n          73.96\n        ],\n        \"semantic_type\": \"\",\n        \"description\": \"\"\n      }\n    },\n    {\n      \"column\": \"ssc_b\",\n      \"properties\": {\n        \"dtype\": \"category\",\n        \"num_unique_values\": 2,\n        \"samples\": [\n          \"Central\",\n          \"Others\"\n        ],\n        \"semantic_type\": \"\",\n        \"description\": \"\"\n      }\n    },\n    {\n      \"column\": \"hsc_p\",\n      \"properties\": {\n        \"dtype\": \"number\",\n        \"std\": 10.89750915750298,\n        \"min\": 37.0,\n        \"max\": 97.7,\n        \"num_unique_values\": 97,\n        \"samples\": [\n          82.0,\n          73.2\n        ],\n        \"semantic_type\": \"\",\n        \"description\": \"\"\n      }\n    },\n    {\n      \"column\": \"hsc_b\",\n      \"properties\": {\n        \"dtype\": \"category\",\n        \"num_unique_values\": 2,\n        \"samples\": [\n          \"Central\",\n          \"Others\"\n        ],\n        \"semantic_type\": \"\",\n        \"description\": \"\"\n      }\n    },\n    {\n      \"column\": \"hsc_s\",\n      \"properties\": {\n        \"dtype\": \"category\",\n        \"num_unique_values\": 3,\n        \"samples\": [\n          \"Commerce\",\n          \"Science\"\n        ],\n        \"semantic_type\": \"\",\n        \"description\": \"\"\n      }\n    },\n    {\n      \"column\": \"degree_p\",\n      \"properties\": {\n        \"dtype\": \"number\",\n        \"std\": 7.358743287339439,\n        \"min\": 50.0,\n        \"max\": 91.0,\n        \"num_unique_values\": 89,\n        \"samples\": [\n          71.72,\n          76.0\n        ],\n        \"semantic_type\": \"\",\n        \"description\": \"\"\n      }\n    },\n    {\n      \"column\": \"degree_t\",\n      \"properties\": {\n        \"dtype\": \"category\",\n        \"num_unique_values\": 3,\n        \"samples\": [\n          \"Sci&Tech\",\n          \"Comm&Mgmt\"\n        ],\n        \"semantic_type\": \"\",\n        \"description\": \"\"\n      }\n    },\n    {\n      \"column\": \"workex\",\n      \"properties\": {\n        \"dtype\": \"category\",\n        \"num_unique_values\": 2,\n        \"samples\": [\n          \"Yes\",\n          \"No\"\n        ],\n        \"semantic_type\": \"\",\n        \"description\": \"\"\n      }\n    },\n    {\n      \"column\": \"etest_p\",\n      \"properties\": {\n        \"dtype\": \"number\",\n        \"std\": 13.275956401653835,\n        \"min\": 50.0,\n        \"max\": 98.0,\n        \"num_unique_values\": 100,\n        \"samples\": [\n          93.4,\n          69.0\n        ],\n        \"semantic_type\": \"\",\n        \"description\": \"\"\n      }\n    },\n    {\n      \"column\": \"specialisation\",\n      \"properties\": {\n        \"dtype\": \"category\",\n        \"num_unique_values\": 2,\n        \"samples\": [\n          \"Mkt&Fin\",\n          \"Mkt&HR\"\n        ],\n        \"semantic_type\": \"\",\n        \"description\": \"\"\n      }\n    },\n    {\n      \"column\": \"mba_p\",\n      \"properties\": {\n        \"dtype\": \"number\",\n        \"std\": 5.8333845806838,\n        \"min\": 51.21,\n        \"max\": 77.89,\n        \"num_unique_values\": 205,\n        \"samples\": [\n          64.66,\n          52.21\n        ],\n        \"semantic_type\": \"\",\n        \"description\": \"\"\n      }\n    },\n    {\n      \"column\": \"status\",\n      \"properties\": {\n        \"dtype\": \"category\",\n        \"num_unique_values\": 2,\n        \"samples\": [\n          \"Not Placed\",\n          \"Placed\"\n        ],\n        \"semantic_type\": \"\",\n        \"description\": \"\"\n      }\n    },\n    {\n      \"column\": \"salary\",\n      \"properties\": {\n        \"dtype\": \"number\",\n        \"std\": 93457.45241958875,\n        \"min\": 200000.0,\n        \"max\": 940000.0,\n        \"num_unique_values\": 45,\n        \"samples\": [\n          255000.0,\n          336000.0\n        ],\n        \"semantic_type\": \"\",\n        \"description\": \"\"\n      }\n    }\n  ]\n}"
            }
          },
          "metadata": {},
          "execution_count": 6
        }
      ],
      "source": [
        "df=pd.read_csv(\"/content/Placement_Data_.xls\",index_col='sl_no')\n",
        "df"
      ]
    },
    {
      "cell_type": "code",
      "execution_count": null,
      "id": "87d2b2d2",
      "metadata": {
        "id": "87d2b2d2",
        "outputId": "acebbf26-da40-46f5-ee9b-c6305dddc6c3"
      },
      "outputs": [
        {
          "data": {
            "text/plain": [
              "gender             0\n",
              "ssc_p              0\n",
              "ssc_b              0\n",
              "hsc_p              0\n",
              "hsc_b              0\n",
              "hsc_s              0\n",
              "degree_p           0\n",
              "degree_t           0\n",
              "workex             0\n",
              "etest_p            0\n",
              "specialisation     0\n",
              "mba_p              0\n",
              "status             0\n",
              "salary            67\n",
              "dtype: int64"
            ]
          },
          "execution_count": 7,
          "metadata": {},
          "output_type": "execute_result"
        }
      ],
      "source": [
        "df.isnull().sum()"
      ]
    },
    {
      "cell_type": "code",
      "execution_count": null,
      "id": "736552a4",
      "metadata": {
        "id": "736552a4"
      },
      "outputs": [],
      "source": [
        "df.fillna(0,inplace=True)"
      ]
    },
    {
      "cell_type": "code",
      "execution_count": null,
      "id": "ed2de2b0",
      "metadata": {
        "id": "ed2de2b0",
        "outputId": "f1cb4c09-437e-47c4-d97b-f1e1d01cfcba"
      },
      "outputs": [
        {
          "data": {
            "text/plain": [
              "gender            0\n",
              "ssc_p             0\n",
              "ssc_b             0\n",
              "hsc_p             0\n",
              "hsc_b             0\n",
              "hsc_s             0\n",
              "degree_p          0\n",
              "degree_t          0\n",
              "workex            0\n",
              "etest_p           0\n",
              "specialisation    0\n",
              "mba_p             0\n",
              "status            0\n",
              "salary            0\n",
              "dtype: int64"
            ]
          },
          "execution_count": 11,
          "metadata": {},
          "output_type": "execute_result"
        }
      ],
      "source": [
        "df.isnull().sum()"
      ]
    },
    {
      "cell_type": "code",
      "execution_count": null,
      "id": "40d80275",
      "metadata": {
        "id": "40d80275",
        "outputId": "721187aa-9d0f-4b0f-a838-fb9ff1091e7b"
      },
      "outputs": [
        {
          "data": {
            "text/html": [
              "<div>\n",
              "<style scoped>\n",
              "    .dataframe tbody tr th:only-of-type {\n",
              "        vertical-align: middle;\n",
              "    }\n",
              "\n",
              "    .dataframe tbody tr th {\n",
              "        vertical-align: top;\n",
              "    }\n",
              "\n",
              "    .dataframe thead th {\n",
              "        text-align: right;\n",
              "    }\n",
              "</style>\n",
              "<table border=\"1\" class=\"dataframe\">\n",
              "  <thead>\n",
              "    <tr style=\"text-align: right;\">\n",
              "      <th></th>\n",
              "      <th>gender</th>\n",
              "      <th>ssc_p</th>\n",
              "      <th>ssc_b</th>\n",
              "      <th>hsc_p</th>\n",
              "      <th>hsc_b</th>\n",
              "      <th>hsc_s</th>\n",
              "      <th>degree_p</th>\n",
              "      <th>degree_t</th>\n",
              "      <th>workex</th>\n",
              "      <th>etest_p</th>\n",
              "      <th>specialisation</th>\n",
              "      <th>mba_p</th>\n",
              "      <th>status</th>\n",
              "      <th>salary</th>\n",
              "    </tr>\n",
              "    <tr>\n",
              "      <th>sl_no</th>\n",
              "      <th></th>\n",
              "      <th></th>\n",
              "      <th></th>\n",
              "      <th></th>\n",
              "      <th></th>\n",
              "      <th></th>\n",
              "      <th></th>\n",
              "      <th></th>\n",
              "      <th></th>\n",
              "      <th></th>\n",
              "      <th></th>\n",
              "      <th></th>\n",
              "      <th></th>\n",
              "      <th></th>\n",
              "    </tr>\n",
              "  </thead>\n",
              "  <tbody>\n",
              "    <tr>\n",
              "      <th>1</th>\n",
              "      <td>M</td>\n",
              "      <td>67.00</td>\n",
              "      <td>Others</td>\n",
              "      <td>91.00</td>\n",
              "      <td>Others</td>\n",
              "      <td>Commerce</td>\n",
              "      <td>58.00</td>\n",
              "      <td>Sci&amp;Tech</td>\n",
              "      <td>No</td>\n",
              "      <td>55.0</td>\n",
              "      <td>Mkt&amp;HR</td>\n",
              "      <td>58.80</td>\n",
              "      <td>Placed</td>\n",
              "      <td>270000.0</td>\n",
              "    </tr>\n",
              "    <tr>\n",
              "      <th>2</th>\n",
              "      <td>M</td>\n",
              "      <td>79.33</td>\n",
              "      <td>Central</td>\n",
              "      <td>78.33</td>\n",
              "      <td>Others</td>\n",
              "      <td>Science</td>\n",
              "      <td>77.48</td>\n",
              "      <td>Sci&amp;Tech</td>\n",
              "      <td>Yes</td>\n",
              "      <td>86.5</td>\n",
              "      <td>Mkt&amp;Fin</td>\n",
              "      <td>66.28</td>\n",
              "      <td>Placed</td>\n",
              "      <td>200000.0</td>\n",
              "    </tr>\n",
              "    <tr>\n",
              "      <th>3</th>\n",
              "      <td>M</td>\n",
              "      <td>65.00</td>\n",
              "      <td>Central</td>\n",
              "      <td>68.00</td>\n",
              "      <td>Central</td>\n",
              "      <td>Arts</td>\n",
              "      <td>64.00</td>\n",
              "      <td>Comm&amp;Mgmt</td>\n",
              "      <td>No</td>\n",
              "      <td>75.0</td>\n",
              "      <td>Mkt&amp;Fin</td>\n",
              "      <td>57.80</td>\n",
              "      <td>Placed</td>\n",
              "      <td>250000.0</td>\n",
              "    </tr>\n",
              "    <tr>\n",
              "      <th>4</th>\n",
              "      <td>M</td>\n",
              "      <td>56.00</td>\n",
              "      <td>Central</td>\n",
              "      <td>52.00</td>\n",
              "      <td>Central</td>\n",
              "      <td>Science</td>\n",
              "      <td>52.00</td>\n",
              "      <td>Sci&amp;Tech</td>\n",
              "      <td>No</td>\n",
              "      <td>66.0</td>\n",
              "      <td>Mkt&amp;HR</td>\n",
              "      <td>59.43</td>\n",
              "      <td>Not Placed</td>\n",
              "      <td>0.0</td>\n",
              "    </tr>\n",
              "    <tr>\n",
              "      <th>5</th>\n",
              "      <td>M</td>\n",
              "      <td>85.80</td>\n",
              "      <td>Central</td>\n",
              "      <td>73.60</td>\n",
              "      <td>Central</td>\n",
              "      <td>Commerce</td>\n",
              "      <td>73.30</td>\n",
              "      <td>Comm&amp;Mgmt</td>\n",
              "      <td>No</td>\n",
              "      <td>96.8</td>\n",
              "      <td>Mkt&amp;Fin</td>\n",
              "      <td>55.50</td>\n",
              "      <td>Placed</td>\n",
              "      <td>425000.0</td>\n",
              "    </tr>\n",
              "    <tr>\n",
              "      <th>...</th>\n",
              "      <td>...</td>\n",
              "      <td>...</td>\n",
              "      <td>...</td>\n",
              "      <td>...</td>\n",
              "      <td>...</td>\n",
              "      <td>...</td>\n",
              "      <td>...</td>\n",
              "      <td>...</td>\n",
              "      <td>...</td>\n",
              "      <td>...</td>\n",
              "      <td>...</td>\n",
              "      <td>...</td>\n",
              "      <td>...</td>\n",
              "      <td>...</td>\n",
              "    </tr>\n",
              "    <tr>\n",
              "      <th>211</th>\n",
              "      <td>M</td>\n",
              "      <td>80.60</td>\n",
              "      <td>Others</td>\n",
              "      <td>82.00</td>\n",
              "      <td>Others</td>\n",
              "      <td>Commerce</td>\n",
              "      <td>77.60</td>\n",
              "      <td>Comm&amp;Mgmt</td>\n",
              "      <td>No</td>\n",
              "      <td>91.0</td>\n",
              "      <td>Mkt&amp;Fin</td>\n",
              "      <td>74.49</td>\n",
              "      <td>Placed</td>\n",
              "      <td>400000.0</td>\n",
              "    </tr>\n",
              "    <tr>\n",
              "      <th>212</th>\n",
              "      <td>M</td>\n",
              "      <td>58.00</td>\n",
              "      <td>Others</td>\n",
              "      <td>60.00</td>\n",
              "      <td>Others</td>\n",
              "      <td>Science</td>\n",
              "      <td>72.00</td>\n",
              "      <td>Sci&amp;Tech</td>\n",
              "      <td>No</td>\n",
              "      <td>74.0</td>\n",
              "      <td>Mkt&amp;Fin</td>\n",
              "      <td>53.62</td>\n",
              "      <td>Placed</td>\n",
              "      <td>275000.0</td>\n",
              "    </tr>\n",
              "    <tr>\n",
              "      <th>213</th>\n",
              "      <td>M</td>\n",
              "      <td>67.00</td>\n",
              "      <td>Others</td>\n",
              "      <td>67.00</td>\n",
              "      <td>Others</td>\n",
              "      <td>Commerce</td>\n",
              "      <td>73.00</td>\n",
              "      <td>Comm&amp;Mgmt</td>\n",
              "      <td>Yes</td>\n",
              "      <td>59.0</td>\n",
              "      <td>Mkt&amp;Fin</td>\n",
              "      <td>69.72</td>\n",
              "      <td>Placed</td>\n",
              "      <td>295000.0</td>\n",
              "    </tr>\n",
              "    <tr>\n",
              "      <th>214</th>\n",
              "      <td>F</td>\n",
              "      <td>74.00</td>\n",
              "      <td>Others</td>\n",
              "      <td>66.00</td>\n",
              "      <td>Others</td>\n",
              "      <td>Commerce</td>\n",
              "      <td>58.00</td>\n",
              "      <td>Comm&amp;Mgmt</td>\n",
              "      <td>No</td>\n",
              "      <td>70.0</td>\n",
              "      <td>Mkt&amp;HR</td>\n",
              "      <td>60.23</td>\n",
              "      <td>Placed</td>\n",
              "      <td>204000.0</td>\n",
              "    </tr>\n",
              "    <tr>\n",
              "      <th>215</th>\n",
              "      <td>M</td>\n",
              "      <td>62.00</td>\n",
              "      <td>Central</td>\n",
              "      <td>58.00</td>\n",
              "      <td>Others</td>\n",
              "      <td>Science</td>\n",
              "      <td>53.00</td>\n",
              "      <td>Comm&amp;Mgmt</td>\n",
              "      <td>No</td>\n",
              "      <td>89.0</td>\n",
              "      <td>Mkt&amp;HR</td>\n",
              "      <td>60.22</td>\n",
              "      <td>Not Placed</td>\n",
              "      <td>0.0</td>\n",
              "    </tr>\n",
              "  </tbody>\n",
              "</table>\n",
              "<p>215 rows × 14 columns</p>\n",
              "</div>"
            ],
            "text/plain": [
              "      gender  ssc_p    ssc_b  hsc_p    hsc_b     hsc_s  degree_p   degree_t  \\\n",
              "sl_no                                                                         \n",
              "1          M  67.00   Others  91.00   Others  Commerce     58.00   Sci&Tech   \n",
              "2          M  79.33  Central  78.33   Others   Science     77.48   Sci&Tech   \n",
              "3          M  65.00  Central  68.00  Central      Arts     64.00  Comm&Mgmt   \n",
              "4          M  56.00  Central  52.00  Central   Science     52.00   Sci&Tech   \n",
              "5          M  85.80  Central  73.60  Central  Commerce     73.30  Comm&Mgmt   \n",
              "...      ...    ...      ...    ...      ...       ...       ...        ...   \n",
              "211        M  80.60   Others  82.00   Others  Commerce     77.60  Comm&Mgmt   \n",
              "212        M  58.00   Others  60.00   Others   Science     72.00   Sci&Tech   \n",
              "213        M  67.00   Others  67.00   Others  Commerce     73.00  Comm&Mgmt   \n",
              "214        F  74.00   Others  66.00   Others  Commerce     58.00  Comm&Mgmt   \n",
              "215        M  62.00  Central  58.00   Others   Science     53.00  Comm&Mgmt   \n",
              "\n",
              "      workex  etest_p specialisation  mba_p      status    salary  \n",
              "sl_no                                                              \n",
              "1         No     55.0         Mkt&HR  58.80      Placed  270000.0  \n",
              "2        Yes     86.5        Mkt&Fin  66.28      Placed  200000.0  \n",
              "3         No     75.0        Mkt&Fin  57.80      Placed  250000.0  \n",
              "4         No     66.0         Mkt&HR  59.43  Not Placed       0.0  \n",
              "5         No     96.8        Mkt&Fin  55.50      Placed  425000.0  \n",
              "...      ...      ...            ...    ...         ...       ...  \n",
              "211       No     91.0        Mkt&Fin  74.49      Placed  400000.0  \n",
              "212       No     74.0        Mkt&Fin  53.62      Placed  275000.0  \n",
              "213      Yes     59.0        Mkt&Fin  69.72      Placed  295000.0  \n",
              "214       No     70.0         Mkt&HR  60.23      Placed  204000.0  \n",
              "215       No     89.0         Mkt&HR  60.22  Not Placed       0.0  \n",
              "\n",
              "[215 rows x 14 columns]"
            ]
          },
          "execution_count": 13,
          "metadata": {},
          "output_type": "execute_result"
        }
      ],
      "source": [
        "df"
      ]
    },
    {
      "cell_type": "code",
      "execution_count": null,
      "id": "c6e11c90",
      "metadata": {
        "id": "c6e11c90"
      },
      "outputs": [],
      "source": [
        "### Data Visalization"
      ]
    },
    {
      "cell_type": "code",
      "execution_count": null,
      "id": "8ddfd813",
      "metadata": {
        "id": "8ddfd813"
      },
      "outputs": [],
      "source": [
        "import matplotlib.pyplot as plt"
      ]
    },
    {
      "cell_type": "code",
      "execution_count": null,
      "id": "96f747cd",
      "metadata": {
        "id": "96f747cd"
      },
      "outputs": [],
      "source": [
        "import seaborn as sns\n",
        "sns.set(color_codes=True)"
      ]
    },
    {
      "cell_type": "code",
      "execution_count": null,
      "id": "96b0aef9",
      "metadata": {
        "id": "96b0aef9"
      },
      "outputs": [],
      "source": [
        "## Draw scatter plot between 10th and 12th precentage\n"
      ]
    },
    {
      "cell_type": "code",
      "execution_count": null,
      "id": "7b3a00ef",
      "metadata": {
        "id": "7b3a00ef",
        "outputId": "a7597d7d-6c61-4e5a-945d-6e0d7f9d815f",
        "colab": {
          "base_uri": "https://localhost:8080/",
          "height": 180
        }
      },
      "outputs": [
        {
          "output_type": "error",
          "ename": "NameError",
          "evalue": "name 'plt' is not defined",
          "traceback": [
            "\u001b[0;31m---------------------------------------------------------------------------\u001b[0m",
            "\u001b[0;31mNameError\u001b[0m                                 Traceback (most recent call last)",
            "\u001b[0;32m/tmp/ipython-input-1-475008893.py\u001b[0m in \u001b[0;36m<cell line: 0>\u001b[0;34m()\u001b[0m\n\u001b[0;32m----> 1\u001b[0;31m \u001b[0mplt\u001b[0m\u001b[0;34m.\u001b[0m\u001b[0mscatter\u001b[0m\u001b[0;34m(\u001b[0m\u001b[0mdf\u001b[0m\u001b[0;34m[\u001b[0m\u001b[0;34m'open'\u001b[0m\u001b[0;34m]\u001b[0m\u001b[0;34m,\u001b[0m\u001b[0mdf\u001b[0m\u001b[0;34m[\u001b[0m\u001b[0;34m'close'\u001b[0m\u001b[0;34m]\u001b[0m\u001b[0;34m)\u001b[0m\u001b[0;34m\u001b[0m\u001b[0;34m\u001b[0m\u001b[0m\n\u001b[0m\u001b[1;32m      2\u001b[0m \u001b[0mplt\u001b[0m\u001b[0;34m.\u001b[0m\u001b[0mxlabel\u001b[0m\u001b[0;34m(\u001b[0m\u001b[0;34m'10th percentage marks'\u001b[0m\u001b[0;34m)\u001b[0m\u001b[0;34m\u001b[0m\u001b[0;34m\u001b[0m\u001b[0m\n\u001b[1;32m      3\u001b[0m \u001b[0mplt\u001b[0m\u001b[0;34m.\u001b[0m\u001b[0mylabel\u001b[0m\u001b[0;34m(\u001b[0m\u001b[0;34m'12th percentage marks'\u001b[0m\u001b[0;34m)\u001b[0m\u001b[0;34m\u001b[0m\u001b[0;34m\u001b[0m\u001b[0m\n",
            "\u001b[0;31mNameError\u001b[0m: name 'plt' is not defined"
          ]
        }
      ],
      "source": [
        "plt.scatter(df['ssc_p'],df['hsc_p'])\n",
        "plt.xlabel('10th percentage marks')\n",
        "plt.ylabel('12th percentage marks')\n",
        "plt.title(\"Scatter plot between 10th and 12th precentage\")\n"
      ]
    },
    {
      "cell_type": "code",
      "execution_count": null,
      "id": "8bfd4fca",
      "metadata": {
        "id": "8bfd4fca"
      },
      "outputs": [],
      "source": [
        "colors={'Placed': 'tab:green', 'Not Placed': 'tab:red'}"
      ]
    },
    {
      "cell_type": "code",
      "execution_count": null,
      "id": "ffb140b8",
      "metadata": {
        "id": "ffb140b8",
        "outputId": "cbefdc28-56e9-4126-cb92-fe466e2c5ca6"
      },
      "outputs": [
        {
          "data": {
            "text/plain": [
              "sl_no\n",
              "1      tab:green\n",
              "2      tab:green\n",
              "3      tab:green\n",
              "4        tab:red\n",
              "5      tab:green\n",
              "         ...    \n",
              "211    tab:green\n",
              "212    tab:green\n",
              "213    tab:green\n",
              "214    tab:green\n",
              "215      tab:red\n",
              "Name: status, Length: 215, dtype: object"
            ]
          },
          "execution_count": 23,
          "metadata": {},
          "output_type": "execute_result"
        }
      ],
      "source": [
        "df['status'].map(colors)"
      ]
    },
    {
      "cell_type": "code",
      "execution_count": null,
      "id": "f670ef3a",
      "metadata": {
        "id": "f670ef3a",
        "outputId": "616cbee3-38a1-4c22-98b2-c98808756336"
      },
      "outputs": [
        {
          "data": {
            "text/plain": [
              "Text(0.5, 1.0, 'Scatter plot between 10th and 12th precentage')"
            ]
          },
          "execution_count": 25,
          "metadata": {},
          "output_type": "execute_result"
        },
        {
          "data": {
            "image/png": "[encoded data removed]",
            "text/plain": [
              "<Figure size 640x480 with 1 Axes>"
            ]
          },
          "metadata": {},
          "output_type": "display_data"
        }
      ],
      "source": [
        "plt.scatter(df['ssc_p'],df['hsc_p'], c=df['status'].map(colors))\n",
        "plt.xlabel('10th percentage marks')\n",
        "plt.ylabel('12th percentage marks')\n",
        "plt.title(\"Scatter plot between 10th and 12th precentage\")"
      ]
    },
    {
      "cell_type": "markdown",
      "id": "9e2bbca0",
      "metadata": {
        "id": "9e2bbca0"
      },
      "source": [
        "## Pair plot of continue data type\n"
      ]
    },
    {
      "cell_type": "code",
      "execution_count": null,
      "id": "44c0969f",
      "metadata": {
        "id": "44c0969f"
      },
      "outputs": [],
      "source": [
        "sns.pairplot(df)"
      ]
    },
    {
      "cell_type": "code",
      "execution_count": null,
      "id": "543fd86a",
      "metadata": {
        "id": "543fd86a"
      },
      "outputs": [],
      "source": [
        "sns.pairplot(df, hue='status',diag_kind='hist')"
      ]
    },
    {
      "cell_type": "code",
      "execution_count": null,
      "id": "85a3f440",
      "metadata": {
        "id": "85a3f440"
      },
      "outputs": [],
      "source": [
        "sns.pairplot(df, hue='status',diag_kind='hist')"
      ]
    },
    {
      "cell_type": "code",
      "execution_count": null,
      "id": "f573b53d",
      "metadata": {
        "id": "f573b53d"
      },
      "outputs": [],
      "source": [
        "df"
      ]
    },
    {
      "cell_type": "code",
      "execution_count": null,
      "id": "2a876a6c",
      "metadata": {
        "id": "2a876a6c"
      },
      "outputs": [],
      "source": [
        "sns.pairplot(df[['ssc_p','hsc_p','degree_p']])"
      ]
    },
    {
      "cell_type": "code",
      "execution_count": null,
      "id": "f26a5f92",
      "metadata": {
        "id": "f26a5f92"
      },
      "outputs": [],
      "source": [
        "df"
      ]
    },
    {
      "cell_type": "markdown",
      "id": "e508217f",
      "metadata": {
        "id": "e508217f"
      },
      "source": [
        "## Draw a boxblot for 10th & 12th percentage of students"
      ]
    },
    {
      "cell_type": "code",
      "execution_count": null,
      "id": "411c252d",
      "metadata": {
        "id": "411c252d",
        "outputId": "6f613798-110a-4850-c547-085fb09161a0"
      },
      "outputs": [
        {
          "data": {
            "text/plain": [
              "<Axes: ylabel='ssc_p'>"
            ]
          },
          "execution_count": 27,
          "metadata": {},
          "output_type": "execute_result"
        },
        {
          "data": {
            "image/png": "[encoded data removed]",
            "text/plain": [
              "<Figure size 640x480 with 1 Axes>"
            ]
          },
          "metadata": {},
          "output_type": "display_data"
        }
      ],
      "source": [
        "sns.boxplot(y='ssc_p',data=df)"
      ]
    },
    {
      "cell_type": "code",
      "execution_count": null,
      "id": "7d1a0142",
      "metadata": {
        "id": "7d1a0142",
        "outputId": "d4b42d3e-be4b-4683-b038-9c93403204f9"
      },
      "outputs": [
        {
          "data": {
            "text/plain": [
              "<Axes: ylabel='hsc_p'>"
            ]
          },
          "execution_count": 29,
          "metadata": {},
          "output_type": "execute_result"
        },
        {
          "data": {
            "image/png": "[encoded data removed]",
            "text/plain": [
              "<Figure size 640x480 with 1 Axes>"
            ]
          },
          "metadata": {},
          "output_type": "display_data"
        }
      ],
      "source": [
        "sns.boxplot(y='hsc_p',data=df)"
      ]
    },
    {
      "cell_type": "code",
      "execution_count": null,
      "id": "2fb9fd38",
      "metadata": {
        "id": "2fb9fd38",
        "outputId": "c6945f61-3411-4e0b-b537-f6df882a1b5f"
      },
      "outputs": [
        {
          "data": {
            "text/plain": [
              "<Axes: xlabel='status', ylabel='hsc_p'>"
            ]
          },
          "execution_count": 31,
          "metadata": {},
          "output_type": "execute_result"
        },
        {
          "data": {
            "image/png": "[encoded data removed]",
            "text/plain": [
              "<Figure size 640x480 with 1 Axes>"
            ]
          },
          "metadata": {},
          "output_type": "display_data"
        }
      ],
      "source": [
        "sns.boxplot(y='hsc_p',data=df,x='status')"
      ]
    },
    {
      "cell_type": "markdown",
      "id": "dd50a096",
      "metadata": {
        "id": "dd50a096"
      },
      "source": [
        "# line plots"
      ]
    },
    {
      "cell_type": "code",
      "execution_count": null,
      "id": "e5f51446",
      "metadata": {
        "id": "e5f51446",
        "outputId": "a415ce2d-94df-415e-a953-782a887d34aa"
      },
      "outputs": [
        {
          "data": {
            "text/plain": [
              "<matplotlib.legend.Legend at 0x1e3ba853f50>"
            ]
          },
          "execution_count": 33,
          "metadata": {},
          "output_type": "execute_result"
        },
        {
          "data": {
            "image/png": "[encoded data removed]",
            "text/plain": [
              "<Figure size 640x480 with 1 Axes>"
            ]
          },
          "metadata": {},
          "output_type": "display_data"
        }
      ],
      "source": [
        "y=[1,2,33,2,1]\n",
        "plt.plot(y, label='points on y')\n",
        "plt.legend()"
      ]
    },
    {
      "cell_type": "code",
      "execution_count": null,
      "id": "d08661ec",
      "metadata": {
        "id": "d08661ec",
        "outputId": "0a8c06dc-2c1a-462c-f3e1-a953616c62cd"
      },
      "outputs": [
        {
          "data": {
            "text/plain": [
              "<matplotlib.legend.Legend at 0x1e3bcbee8d0>"
            ]
          },
          "execution_count": 35,
          "metadata": {},
          "output_type": "execute_result"
        },
        {
          "data": {
            "image/png": "[encoded data removed]",
            "text/plain": [
              "<Figure size 640x480 with 1 Axes>"
            ]
          },
          "metadata": {},
          "output_type": "display_data"
        }
      ],
      "source": [
        "plt.plot(df['hsc_p'],label='10th percentage')\n",
        "plt.plot(df['ssc_p'],label='12th percentage')\n",
        "plt.legend()"
      ]
    },
    {
      "cell_type": "code",
      "execution_count": null,
      "id": "97dd7765",
      "metadata": {
        "id": "97dd7765",
        "outputId": "84fd9850-022a-468c-a007-02a3e0e6d881"
      },
      "outputs": [
        {
          "data": {
            "text/html": [
              "<div>\n",
              "<style scoped>\n",
              "    .dataframe tbody tr th:only-of-type {\n",
              "        vertical-align: middle;\n",
              "    }\n",
              "\n",
              "    .dataframe tbody tr th {\n",
              "        vertical-align: top;\n",
              "    }\n",
              "\n",
              "    .dataframe thead th {\n",
              "        text-align: right;\n",
              "    }\n",
              "</style>\n",
              "<table border=\"1\" class=\"dataframe\">\n",
              "  <thead>\n",
              "    <tr style=\"text-align: right;\">\n",
              "      <th></th>\n",
              "      <th>ssc_p</th>\n",
              "      <th>hsc_p</th>\n",
              "      <th>degree_p</th>\n",
              "      <th>etest_p</th>\n",
              "      <th>mba_p</th>\n",
              "      <th>salary</th>\n",
              "    </tr>\n",
              "  </thead>\n",
              "  <tbody>\n",
              "    <tr>\n",
              "      <th>ssc_p</th>\n",
              "      <td>1.000000</td>\n",
              "      <td>0.511472</td>\n",
              "      <td>0.538404</td>\n",
              "      <td>0.261993</td>\n",
              "      <td>0.388478</td>\n",
              "      <td>0.538090</td>\n",
              "    </tr>\n",
              "    <tr>\n",
              "      <th>hsc_p</th>\n",
              "      <td>0.511472</td>\n",
              "      <td>1.000000</td>\n",
              "      <td>0.434206</td>\n",
              "      <td>0.245113</td>\n",
              "      <td>0.354823</td>\n",
              "      <td>0.452569</td>\n",
              "    </tr>\n",
              "    <tr>\n",
              "      <th>degree_p</th>\n",
              "      <td>0.538404</td>\n",
              "      <td>0.434206</td>\n",
              "      <td>1.000000</td>\n",
              "      <td>0.224470</td>\n",
              "      <td>0.402364</td>\n",
              "      <td>0.408371</td>\n",
              "    </tr>\n",
              "    <tr>\n",
              "      <th>etest_p</th>\n",
              "      <td>0.261993</td>\n",
              "      <td>0.245113</td>\n",
              "      <td>0.224470</td>\n",
              "      <td>1.000000</td>\n",
              "      <td>0.218055</td>\n",
              "      <td>0.186988</td>\n",
              "    </tr>\n",
              "    <tr>\n",
              "      <th>mba_p</th>\n",
              "      <td>0.388478</td>\n",
              "      <td>0.354823</td>\n",
              "      <td>0.402364</td>\n",
              "      <td>0.218055</td>\n",
              "      <td>1.000000</td>\n",
              "      <td>0.139823</td>\n",
              "    </tr>\n",
              "    <tr>\n",
              "      <th>salary</th>\n",
              "      <td>0.538090</td>\n",
              "      <td>0.452569</td>\n",
              "      <td>0.408371</td>\n",
              "      <td>0.186988</td>\n",
              "      <td>0.139823</td>\n",
              "      <td>1.000000</td>\n",
              "    </tr>\n",
              "  </tbody>\n",
              "</table>\n",
              "</div>"
            ],
            "text/plain": [
              "             ssc_p     hsc_p  degree_p   etest_p     mba_p    salary\n",
              "ssc_p     1.000000  0.511472  0.538404  0.261993  0.388478  0.538090\n",
              "hsc_p     0.511472  1.000000  0.434206  0.245113  0.354823  0.452569\n",
              "degree_p  0.538404  0.434206  1.000000  0.224470  0.402364  0.408371\n",
              "etest_p   0.261993  0.245113  0.224470  1.000000  0.218055  0.186988\n",
              "mba_p     0.388478  0.354823  0.402364  0.218055  1.000000  0.139823\n",
              "salary    0.538090  0.452569  0.408371  0.186988  0.139823  1.000000"
            ]
          },
          "execution_count": 37,
          "metadata": {},
          "output_type": "execute_result"
        }
      ],
      "source": [
        "df.corr(numeric_only=True)"
      ]
    },
    {
      "cell_type": "code",
      "execution_count": null,
      "id": "061b029f",
      "metadata": {
        "id": "061b029f",
        "outputId": "5a2540cf-064a-4dd6-f1c8-4d4dd907bd6d"
      },
      "outputs": [
        {
          "data": {
            "text/plain": [
              "<Axes: >"
            ]
          },
          "execution_count": 39,
          "metadata": {},
          "output_type": "execute_result"
        },
        {
          "data": {
            "image/png": "[encoded data removed]",
            "text/plain": [
              "<Figure size 640x480 with 2 Axes>"
            ]
          },
          "metadata": {},
          "output_type": "display_data"
        }
      ],
      "source": [
        "sns.heatmap(df.corr(numeric_only=True),annot=True)"
      ]
    },
    {
      "cell_type": "code",
      "execution_count": null,
      "id": "6943fdce",
      "metadata": {
        "id": "6943fdce",
        "outputId": "1e5f22f8-2452-4658-fd6c-5c7964979455"
      },
      "outputs": [
        {
          "data": {
            "text/plain": [
              "(array([67.,  0., 94., 38., 10.,  3.,  1.,  1.,  0.,  1.]),\n",
              " array([     0.,  94000., 188000., 282000., 376000., 470000., 564000.,\n",
              "        658000., 752000., 846000., 940000.]),\n",
              " <BarContainer object of 10 artists>)"
            ]
          },
          "execution_count": 41,
          "metadata": {},
          "output_type": "execute_result"
        },
        {
          "data": {
            "image/png": "[encoded data removed]",
            "text/plain": [
              "<Figure size 640x480 with 1 Axes>"
            ]
          },
          "metadata": {},
          "output_type": "display_data"
        }
      ],
      "source": [
        "plt.hist(df['salary'])"
      ]
    },
    {
      "cell_type": "code",
      "execution_count": null,
      "id": "a0bc2e40",
      "metadata": {
        "id": "a0bc2e40",
        "outputId": "0bc1edd3-e4a7-450d-abcb-e03fa1584b9b"
      },
      "outputs": [
        {
          "data": {
            "text/plain": [
              "<Axes: xlabel='salary', ylabel='Density'>"
            ]
          },
          "execution_count": 43,
          "metadata": {},
          "output_type": "execute_result"
        },
        {
          "data": {
            "image/png": "[encoded data removed]",
            "text/plain": [
              "<Figure size 640x480 with 1 Axes>"
            ]
          },
          "metadata": {},
          "output_type": "display_data"
        }
      ],
      "source": [
        "sns.kdeplot(df['salary'])"
      ]
    },
    {
      "cell_type": "markdown",
      "id": "87fdf52f",
      "metadata": {
        "id": "87fdf52f"
      },
      "source": [
        "## Outlier Analysis"
      ]
    },
    {
      "cell_type": "code",
      "execution_count": null,
      "id": "53d00438",
      "metadata": {
        "id": "53d00438",
        "outputId": "51277c8b-d4db-4386-9ac2-ea215f841ef7"
      },
      "outputs": [
        {
          "data": {
            "text/plain": [
              "<Axes: ylabel='degree_p'>"
            ]
          },
          "execution_count": 46,
          "metadata": {},
          "output_type": "execute_result"
        },
        {
          "data": {
            "image/png": "[encoded data removed]",
            "text/plain": [
              "<Figure size 640x480 with 1 Axes>"
            ]
          },
          "metadata": {},
          "output_type": "display_data"
        }
      ],
      "source": [
        "sns.boxplot(y=\"degree_p\",data=df)"
      ]
    },
    {
      "cell_type": "code",
      "execution_count": null,
      "id": "cd0180af",
      "metadata": {
        "id": "cd0180af"
      },
      "outputs": [],
      "source": [
        "percentile25=df['degree_p'].quantile(0.25)"
      ]
    },
    {
      "cell_type": "code",
      "execution_count": null,
      "id": "ee96743c",
      "metadata": {
        "id": "ee96743c",
        "outputId": "74d887af-3585-43af-dd72-cbebb82784d4"
      },
      "outputs": [
        {
          "data": {
            "text/plain": [
              "11.0"
            ]
          },
          "execution_count": 50,
          "metadata": {},
          "output_type": "execute_result"
        }
      ],
      "source": [
        "percentile75=df['degree_p'].quantile(0.75)\n",
        "iqr=percentile75-percentile25\n",
        "iqr"
      ]
    },
    {
      "cell_type": "code",
      "execution_count": null,
      "id": "0f3c8b14",
      "metadata": {
        "id": "0f3c8b14"
      },
      "outputs": [],
      "source": [
        "uper_limit=percentile75+(1.5*iqr)\n",
        "lower_limit=percentile25-(1.5*iqr)"
      ]
    },
    {
      "cell_type": "code",
      "execution_count": null,
      "id": "c14f01d2",
      "metadata": {
        "id": "c14f01d2"
      },
      "outputs": [],
      "source": [
        "df=df[df['degree_p']<uper_limit]\n",
        "df=df[df['degree_p']>lower_limit]\n"
      ]
    },
    {
      "cell_type": "code",
      "execution_count": null,
      "id": "269881c6",
      "metadata": {
        "id": "269881c6"
      },
      "outputs": [],
      "source": [
        "col=['ssc_p','hsc_p','degree_p','etest_p','mba_p','salary']"
      ]
    },
    {
      "cell_type": "code",
      "execution_count": null,
      "id": "970c00ab",
      "metadata": {
        "id": "970c00ab",
        "outputId": "0e9d3109-8321-4aca-de7c-826ba5044895"
      },
      "outputs": [
        {
          "data": {
            "image/png": "[encoded data removed]",
            "text/plain": [
              "<Figure size 640x480 with 1 Axes>"
            ]
          },
          "metadata": {},
          "output_type": "display_data"
        },
        {
          "data": {
            "image/png": "[encoded data removed]",
            "text/plain": [
              "<Figure size 640x480 with 1 Axes>"
            ]
          },
          "metadata": {},
          "output_type": "display_data"
        },
        {
          "data": {
            "image/png": "[encoded data removed]",
            "text/plain": [
              "<Figure size 640x480 with 1 Axes>"
            ]
          },
          "metadata": {},
          "output_type": "display_data"
        },
        {
          "data": {
            "image/png": "[encoded data removed]",
            "text/plain": [
              "<Figure size 640x480 with 1 Axes>"
            ]
          },
          "metadata": {},
          "output_type": "display_data"
        },
        {
          "data": {
            "image/png": "[encoded data removed]",
            "text/plain": [
              "<Figure size 640x480 with 1 Axes>"
            ]
          },
          "metadata": {},
          "output_type": "display_data"
        },
        {
          "data": {
            "image/png": "[encoded data removed]",
            "text/plain": [
              "<Figure size 640x480 with 1 Axes>"
            ]
          },
          "metadata": {},
          "output_type": "display_data"
        }
      ],
      "source": [
        "for c in col:\n",
        "    percentile25=df[c].quantile(0.25)\n",
        "    percentile75=df[c].quantile(0.75)\n",
        "    iqr=percentile75-percentile25\n",
        "    uper_limit=percentile75+(1.5*iqr)\n",
        "    lower_limit=percentile25-(1.5*iqr)\n",
        "    df=df[df[c]<uper_limit]\n",
        "    df=df[df[c]>lower_limit]\n",
        "    plt.figure()\n",
        "    sns.boxplot(y=c,data=df)\n"
      ]
    },
    {
      "cell_type": "code",
      "execution_count": null,
      "id": "39030962",
      "metadata": {
        "id": "39030962",
        "outputId": "90f1916a-59ee-4e19-e767-9da5231374d5"
      },
      "outputs": [
        {
          "name": "stdout",
          "output_type": "stream",
          "text": [
            "Uper Limit of  ssc_p Coloumn :  97.37500000000003\n",
            "Lower Limit of  ssc_p Coloumn :  39.17499999999998\n",
            "Uper Limit of  hsc_p Coloumn :  91.0\n",
            "Lower Limit of  hsc_p Coloumn :  43.0\n",
            "Uper Limit of  degree_p Coloumn :  88.5\n",
            "Lower Limit of  degree_p Coloumn :  44.5\n",
            "Uper Limit of  etest_p Coloumn :  117.5\n",
            "Lower Limit of  etest_p Coloumn :  25.5\n",
            "Uper Limit of  mba_p Coloumn :  78.305\n",
            "Lower Limit of  mba_p Coloumn :  45.76499999999999\n",
            "Uper Limit of  salary Coloumn :  703125.0\n",
            "Lower Limit of  salary Coloumn :  -421875.0\n"
          ]
        }
      ],
      "source": [
        "for i in col:\n",
        "    percentile25=df[i].quantile(0.25)\n",
        "    percentile75=df[i].quantile(0.75)\n",
        "    iqr=percentile75-percentile25\n",
        "    uper_limit=percentile75+(1.5*iqr)\n",
        "    lower_limit=percentile25-(1.5*iqr)\n",
        "    print(\"Uper Limit of \" , i, 'Coloumn : ' ,uper_limit)\n",
        "    print(\"Lower Limit of \", i, 'Coloumn : ' ,lower_limit)\n"
      ]
    },
    {
      "cell_type": "code",
      "execution_count": null,
      "id": "7d1d5596",
      "metadata": {
        "id": "7d1d5596",
        "outputId": "cd9c3020-cd48-4e64-bdd4-e25cac4bfd0e"
      },
      "outputs": [
        {
          "data": {
            "text/html": [
              "<div>\n",
              "<style scoped>\n",
              "    .dataframe tbody tr th:only-of-type {\n",
              "        vertical-align: middle;\n",
              "    }\n",
              "\n",
              "    .dataframe tbody tr th {\n",
              "        vertical-align: top;\n",
              "    }\n",
              "\n",
              "    .dataframe thead th {\n",
              "        text-align: right;\n",
              "    }\n",
              "</style>\n",
              "<table border=\"1\" class=\"dataframe\">\n",
              "  <thead>\n",
              "    <tr style=\"text-align: right;\">\n",
              "      <th></th>\n",
              "      <th>gender</th>\n",
              "      <th>ssc_p</th>\n",
              "      <th>ssc_b</th>\n",
              "      <th>hsc_p</th>\n",
              "      <th>hsc_b</th>\n",
              "      <th>hsc_s</th>\n",
              "      <th>degree_p</th>\n",
              "      <th>degree_t</th>\n",
              "      <th>workex</th>\n",
              "      <th>etest_p</th>\n",
              "      <th>specialisation</th>\n",
              "      <th>mba_p</th>\n",
              "      <th>status</th>\n",
              "      <th>salary</th>\n",
              "    </tr>\n",
              "    <tr>\n",
              "      <th>sl_no</th>\n",
              "      <th></th>\n",
              "      <th></th>\n",
              "      <th></th>\n",
              "      <th></th>\n",
              "      <th></th>\n",
              "      <th></th>\n",
              "      <th></th>\n",
              "      <th></th>\n",
              "      <th></th>\n",
              "      <th></th>\n",
              "      <th></th>\n",
              "      <th></th>\n",
              "      <th></th>\n",
              "      <th></th>\n",
              "    </tr>\n",
              "  </thead>\n",
              "  <tbody>\n",
              "    <tr>\n",
              "      <th>2</th>\n",
              "      <td>M</td>\n",
              "      <td>79.33</td>\n",
              "      <td>Central</td>\n",
              "      <td>78.33</td>\n",
              "      <td>Others</td>\n",
              "      <td>Science</td>\n",
              "      <td>77.48</td>\n",
              "      <td>Sci&amp;Tech</td>\n",
              "      <td>Yes</td>\n",
              "      <td>86.5</td>\n",
              "      <td>Mkt&amp;Fin</td>\n",
              "      <td>66.28</td>\n",
              "      <td>Placed</td>\n",
              "      <td>200000.0</td>\n",
              "    </tr>\n",
              "    <tr>\n",
              "      <th>3</th>\n",
              "      <td>M</td>\n",
              "      <td>65.00</td>\n",
              "      <td>Central</td>\n",
              "      <td>68.00</td>\n",
              "      <td>Central</td>\n",
              "      <td>Arts</td>\n",
              "      <td>64.00</td>\n",
              "      <td>Comm&amp;Mgmt</td>\n",
              "      <td>No</td>\n",
              "      <td>75.0</td>\n",
              "      <td>Mkt&amp;Fin</td>\n",
              "      <td>57.80</td>\n",
              "      <td>Placed</td>\n",
              "      <td>250000.0</td>\n",
              "    </tr>\n",
              "    <tr>\n",
              "      <th>4</th>\n",
              "      <td>M</td>\n",
              "      <td>56.00</td>\n",
              "      <td>Central</td>\n",
              "      <td>52.00</td>\n",
              "      <td>Central</td>\n",
              "      <td>Science</td>\n",
              "      <td>52.00</td>\n",
              "      <td>Sci&amp;Tech</td>\n",
              "      <td>No</td>\n",
              "      <td>66.0</td>\n",
              "      <td>Mkt&amp;HR</td>\n",
              "      <td>59.43</td>\n",
              "      <td>Not Placed</td>\n",
              "      <td>0.0</td>\n",
              "    </tr>\n",
              "    <tr>\n",
              "      <th>5</th>\n",
              "      <td>M</td>\n",
              "      <td>85.80</td>\n",
              "      <td>Central</td>\n",
              "      <td>73.60</td>\n",
              "      <td>Central</td>\n",
              "      <td>Commerce</td>\n",
              "      <td>73.30</td>\n",
              "      <td>Comm&amp;Mgmt</td>\n",
              "      <td>No</td>\n",
              "      <td>96.8</td>\n",
              "      <td>Mkt&amp;Fin</td>\n",
              "      <td>55.50</td>\n",
              "      <td>Placed</td>\n",
              "      <td>425000.0</td>\n",
              "    </tr>\n",
              "    <tr>\n",
              "      <th>6</th>\n",
              "      <td>M</td>\n",
              "      <td>55.00</td>\n",
              "      <td>Others</td>\n",
              "      <td>49.80</td>\n",
              "      <td>Others</td>\n",
              "      <td>Science</td>\n",
              "      <td>67.25</td>\n",
              "      <td>Sci&amp;Tech</td>\n",
              "      <td>Yes</td>\n",
              "      <td>55.0</td>\n",
              "      <td>Mkt&amp;Fin</td>\n",
              "      <td>51.58</td>\n",
              "      <td>Not Placed</td>\n",
              "      <td>0.0</td>\n",
              "    </tr>\n",
              "    <tr>\n",
              "      <th>...</th>\n",
              "      <td>...</td>\n",
              "      <td>...</td>\n",
              "      <td>...</td>\n",
              "      <td>...</td>\n",
              "      <td>...</td>\n",
              "      <td>...</td>\n",
              "      <td>...</td>\n",
              "      <td>...</td>\n",
              "      <td>...</td>\n",
              "      <td>...</td>\n",
              "      <td>...</td>\n",
              "      <td>...</td>\n",
              "      <td>...</td>\n",
              "      <td>...</td>\n",
              "    </tr>\n",
              "    <tr>\n",
              "      <th>211</th>\n",
              "      <td>M</td>\n",
              "      <td>80.60</td>\n",
              "      <td>Others</td>\n",
              "      <td>82.00</td>\n",
              "      <td>Others</td>\n",
              "      <td>Commerce</td>\n",
              "      <td>77.60</td>\n",
              "      <td>Comm&amp;Mgmt</td>\n",
              "      <td>No</td>\n",
              "      <td>91.0</td>\n",
              "      <td>Mkt&amp;Fin</td>\n",
              "      <td>74.49</td>\n",
              "      <td>Placed</td>\n",
              "      <td>400000.0</td>\n",
              "    </tr>\n",
              "    <tr>\n",
              "      <th>212</th>\n",
              "      <td>M</td>\n",
              "      <td>58.00</td>\n",
              "      <td>Others</td>\n",
              "      <td>60.00</td>\n",
              "      <td>Others</td>\n",
              "      <td>Science</td>\n",
              "      <td>72.00</td>\n",
              "      <td>Sci&amp;Tech</td>\n",
              "      <td>No</td>\n",
              "      <td>74.0</td>\n",
              "      <td>Mkt&amp;Fin</td>\n",
              "      <td>53.62</td>\n",
              "      <td>Placed</td>\n",
              "      <td>275000.0</td>\n",
              "    </tr>\n",
              "    <tr>\n",
              "      <th>213</th>\n",
              "      <td>M</td>\n",
              "      <td>67.00</td>\n",
              "      <td>Others</td>\n",
              "      <td>67.00</td>\n",
              "      <td>Others</td>\n",
              "      <td>Commerce</td>\n",
              "      <td>73.00</td>\n",
              "      <td>Comm&amp;Mgmt</td>\n",
              "      <td>Yes</td>\n",
              "      <td>59.0</td>\n",
              "      <td>Mkt&amp;Fin</td>\n",
              "      <td>69.72</td>\n",
              "      <td>Placed</td>\n",
              "      <td>295000.0</td>\n",
              "    </tr>\n",
              "    <tr>\n",
              "      <th>214</th>\n",
              "      <td>F</td>\n",
              "      <td>74.00</td>\n",
              "      <td>Others</td>\n",
              "      <td>66.00</td>\n",
              "      <td>Others</td>\n",
              "      <td>Commerce</td>\n",
              "      <td>58.00</td>\n",
              "      <td>Comm&amp;Mgmt</td>\n",
              "      <td>No</td>\n",
              "      <td>70.0</td>\n",
              "      <td>Mkt&amp;HR</td>\n",
              "      <td>60.23</td>\n",
              "      <td>Placed</td>\n",
              "      <td>204000.0</td>\n",
              "    </tr>\n",
              "    <tr>\n",
              "      <th>215</th>\n",
              "      <td>M</td>\n",
              "      <td>62.00</td>\n",
              "      <td>Central</td>\n",
              "      <td>58.00</td>\n",
              "      <td>Others</td>\n",
              "      <td>Science</td>\n",
              "      <td>53.00</td>\n",
              "      <td>Comm&amp;Mgmt</td>\n",
              "      <td>No</td>\n",
              "      <td>89.0</td>\n",
              "      <td>Mkt&amp;HR</td>\n",
              "      <td>60.22</td>\n",
              "      <td>Not Placed</td>\n",
              "      <td>0.0</td>\n",
              "    </tr>\n",
              "  </tbody>\n",
              "</table>\n",
              "<p>204 rows × 14 columns</p>\n",
              "</div>"
            ],
            "text/plain": [
              "      gender  ssc_p    ssc_b  hsc_p    hsc_b     hsc_s  degree_p   degree_t  \\\n",
              "sl_no                                                                         \n",
              "2          M  79.33  Central  78.33   Others   Science     77.48   Sci&Tech   \n",
              "3          M  65.00  Central  68.00  Central      Arts     64.00  Comm&Mgmt   \n",
              "4          M  56.00  Central  52.00  Central   Science     52.00   Sci&Tech   \n",
              "5          M  85.80  Central  73.60  Central  Commerce     73.30  Comm&Mgmt   \n",
              "6          M  55.00   Others  49.80   Others   Science     67.25   Sci&Tech   \n",
              "...      ...    ...      ...    ...      ...       ...       ...        ...   \n",
              "211        M  80.60   Others  82.00   Others  Commerce     77.60  Comm&Mgmt   \n",
              "212        M  58.00   Others  60.00   Others   Science     72.00   Sci&Tech   \n",
              "213        M  67.00   Others  67.00   Others  Commerce     73.00  Comm&Mgmt   \n",
              "214        F  74.00   Others  66.00   Others  Commerce     58.00  Comm&Mgmt   \n",
              "215        M  62.00  Central  58.00   Others   Science     53.00  Comm&Mgmt   \n",
              "\n",
              "      workex  etest_p specialisation  mba_p      status    salary  \n",
              "sl_no                                                              \n",
              "2        Yes     86.5        Mkt&Fin  66.28      Placed  200000.0  \n",
              "3         No     75.0        Mkt&Fin  57.80      Placed  250000.0  \n",
              "4         No     66.0         Mkt&HR  59.43  Not Placed       0.0  \n",
              "5         No     96.8        Mkt&Fin  55.50      Placed  425000.0  \n",
              "6        Yes     55.0        Mkt&Fin  51.58  Not Placed       0.0  \n",
              "...      ...      ...            ...    ...         ...       ...  \n",
              "211       No     91.0        Mkt&Fin  74.49      Placed  400000.0  \n",
              "212       No     74.0        Mkt&Fin  53.62      Placed  275000.0  \n",
              "213      Yes     59.0        Mkt&Fin  69.72      Placed  295000.0  \n",
              "214       No     70.0         Mkt&HR  60.23      Placed  204000.0  \n",
              "215       No     89.0         Mkt&HR  60.22  Not Placed       0.0  \n",
              "\n",
              "[204 rows x 14 columns]"
            ]
          },
          "execution_count": 62,
          "metadata": {},
          "output_type": "execute_result"
        }
      ],
      "source": [
        "df"
      ]
    },
    {
      "cell_type": "markdown",
      "id": "fb9f73ea",
      "metadata": {
        "id": "fb9f73ea"
      },
      "source": [
        "## Encoding"
      ]
    },
    {
      "cell_type": "code",
      "execution_count": null,
      "id": "fc9083d2",
      "metadata": {
        "id": "fc9083d2"
      },
      "outputs": [],
      "source": [
        "from sklearn.preprocessing import LabelEncoder\n",
        "le=LabelEncoder()"
      ]
    },
    {
      "cell_type": "code",
      "execution_count": null,
      "id": "40c27141",
      "metadata": {
        "id": "40c27141"
      },
      "outputs": [],
      "source": [
        "df['ssc_b']=le.fit_transform(df['ssc_b'])"
      ]
    },
    {
      "cell_type": "code",
      "execution_count": null,
      "id": "2e954bb7",
      "metadata": {
        "id": "2e954bb7",
        "outputId": "49c3f717-c3c8-48c7-aade-953684fa4272"
      },
      "outputs": [
        {
          "data": {
            "text/plain": [
              "sl_no\n",
              "2      0\n",
              "3      0\n",
              "4      0\n",
              "5      0\n",
              "6      1\n",
              "      ..\n",
              "211    1\n",
              "212    1\n",
              "213    1\n",
              "214    1\n",
              "215    0\n",
              "Name: ssc_b, Length: 204, dtype: int32"
            ]
          },
          "execution_count": 69,
          "metadata": {},
          "output_type": "execute_result"
        }
      ],
      "source": [
        "df['ssc_b']"
      ]
    },
    {
      "cell_type": "code",
      "execution_count": null,
      "id": "886a9b9c",
      "metadata": {
        "id": "886a9b9c"
      },
      "outputs": [],
      "source": [
        "col=['gender','hsc_b','hsc_s','degree_t','workex','specialisation','status']"
      ]
    },
    {
      "cell_type": "code",
      "execution_count": null,
      "id": "d5b41e0f",
      "metadata": {
        "id": "d5b41e0f"
      },
      "outputs": [],
      "source": [
        "for c in col:\n",
        "    df[c]=le.fit_transform(df[c])"
      ]
    },
    {
      "cell_type": "code",
      "execution_count": null,
      "id": "27f8ea91",
      "metadata": {
        "id": "27f8ea91",
        "outputId": "5184bbde-3bd8-4b79-b37b-ea00080b1cd3"
      },
      "outputs": [
        {
          "data": {
            "text/html": [
              "<div>\n",
              "<style scoped>\n",
              "    .dataframe tbody tr th:only-of-type {\n",
              "        vertical-align: middle;\n",
              "    }\n",
              "\n",
              "    .dataframe tbody tr th {\n",
              "        vertical-align: top;\n",
              "    }\n",
              "\n",
              "    .dataframe thead th {\n",
              "        text-align: right;\n",
              "    }\n",
              "</style>\n",
              "<table border=\"1\" class=\"dataframe\">\n",
              "  <thead>\n",
              "    <tr style=\"text-align: right;\">\n",
              "      <th></th>\n",
              "      <th>gender</th>\n",
              "      <th>ssc_p</th>\n",
              "      <th>ssc_b</th>\n",
              "      <th>hsc_p</th>\n",
              "      <th>hsc_b</th>\n",
              "      <th>hsc_s</th>\n",
              "      <th>degree_p</th>\n",
              "      <th>degree_t</th>\n",
              "      <th>workex</th>\n",
              "      <th>etest_p</th>\n",
              "      <th>specialisation</th>\n",
              "      <th>mba_p</th>\n",
              "      <th>status</th>\n",
              "      <th>salary</th>\n",
              "    </tr>\n",
              "    <tr>\n",
              "      <th>sl_no</th>\n",
              "      <th></th>\n",
              "      <th></th>\n",
              "      <th></th>\n",
              "      <th></th>\n",
              "      <th></th>\n",
              "      <th></th>\n",
              "      <th></th>\n",
              "      <th></th>\n",
              "      <th></th>\n",
              "      <th></th>\n",
              "      <th></th>\n",
              "      <th></th>\n",
              "      <th></th>\n",
              "      <th></th>\n",
              "    </tr>\n",
              "  </thead>\n",
              "  <tbody>\n",
              "    <tr>\n",
              "      <th>2</th>\n",
              "      <td>1</td>\n",
              "      <td>79.33</td>\n",
              "      <td>0</td>\n",
              "      <td>78.33</td>\n",
              "      <td>1</td>\n",
              "      <td>2</td>\n",
              "      <td>77.48</td>\n",
              "      <td>2</td>\n",
              "      <td>1</td>\n",
              "      <td>86.5</td>\n",
              "      <td>0</td>\n",
              "      <td>66.28</td>\n",
              "      <td>1</td>\n",
              "      <td>200000.0</td>\n",
              "    </tr>\n",
              "    <tr>\n",
              "      <th>3</th>\n",
              "      <td>1</td>\n",
              "      <td>65.00</td>\n",
              "      <td>0</td>\n",
              "      <td>68.00</td>\n",
              "      <td>0</td>\n",
              "      <td>0</td>\n",
              "      <td>64.00</td>\n",
              "      <td>0</td>\n",
              "      <td>0</td>\n",
              "      <td>75.0</td>\n",
              "      <td>0</td>\n",
              "      <td>57.80</td>\n",
              "      <td>1</td>\n",
              "      <td>250000.0</td>\n",
              "    </tr>\n",
              "    <tr>\n",
              "      <th>4</th>\n",
              "      <td>1</td>\n",
              "      <td>56.00</td>\n",
              "      <td>0</td>\n",
              "      <td>52.00</td>\n",
              "      <td>0</td>\n",
              "      <td>2</td>\n",
              "      <td>52.00</td>\n",
              "      <td>2</td>\n",
              "      <td>0</td>\n",
              "      <td>66.0</td>\n",
              "      <td>1</td>\n",
              "      <td>59.43</td>\n",
              "      <td>0</td>\n",
              "      <td>0.0</td>\n",
              "    </tr>\n",
              "    <tr>\n",
              "      <th>5</th>\n",
              "      <td>1</td>\n",
              "      <td>85.80</td>\n",
              "      <td>0</td>\n",
              "      <td>73.60</td>\n",
              "      <td>0</td>\n",
              "      <td>1</td>\n",
              "      <td>73.30</td>\n",
              "      <td>0</td>\n",
              "      <td>0</td>\n",
              "      <td>96.8</td>\n",
              "      <td>0</td>\n",
              "      <td>55.50</td>\n",
              "      <td>1</td>\n",
              "      <td>425000.0</td>\n",
              "    </tr>\n",
              "    <tr>\n",
              "      <th>6</th>\n",
              "      <td>1</td>\n",
              "      <td>55.00</td>\n",
              "      <td>1</td>\n",
              "      <td>49.80</td>\n",
              "      <td>1</td>\n",
              "      <td>2</td>\n",
              "      <td>67.25</td>\n",
              "      <td>2</td>\n",
              "      <td>1</td>\n",
              "      <td>55.0</td>\n",
              "      <td>0</td>\n",
              "      <td>51.58</td>\n",
              "      <td>0</td>\n",
              "      <td>0.0</td>\n",
              "    </tr>\n",
              "    <tr>\n",
              "      <th>...</th>\n",
              "      <td>...</td>\n",
              "      <td>...</td>\n",
              "      <td>...</td>\n",
              "      <td>...</td>\n",
              "      <td>...</td>\n",
              "      <td>...</td>\n",
              "      <td>...</td>\n",
              "      <td>...</td>\n",
              "      <td>...</td>\n",
              "      <td>...</td>\n",
              "      <td>...</td>\n",
              "      <td>...</td>\n",
              "      <td>...</td>\n",
              "      <td>...</td>\n",
              "    </tr>\n",
              "    <tr>\n",
              "      <th>211</th>\n",
              "      <td>1</td>\n",
              "      <td>80.60</td>\n",
              "      <td>1</td>\n",
              "      <td>82.00</td>\n",
              "      <td>1</td>\n",
              "      <td>1</td>\n",
              "      <td>77.60</td>\n",
              "      <td>0</td>\n",
              "      <td>0</td>\n",
              "      <td>91.0</td>\n",
              "      <td>0</td>\n",
              "      <td>74.49</td>\n",
              "      <td>1</td>\n",
              "      <td>400000.0</td>\n",
              "    </tr>\n",
              "    <tr>\n",
              "      <th>212</th>\n",
              "      <td>1</td>\n",
              "      <td>58.00</td>\n",
              "      <td>1</td>\n",
              "      <td>60.00</td>\n",
              "      <td>1</td>\n",
              "      <td>2</td>\n",
              "      <td>72.00</td>\n",
              "      <td>2</td>\n",
              "      <td>0</td>\n",
              "      <td>74.0</td>\n",
              "      <td>0</td>\n",
              "      <td>53.62</td>\n",
              "      <td>1</td>\n",
              "      <td>275000.0</td>\n",
              "    </tr>\n",
              "    <tr>\n",
              "      <th>213</th>\n",
              "      <td>1</td>\n",
              "      <td>67.00</td>\n",
              "      <td>1</td>\n",
              "      <td>67.00</td>\n",
              "      <td>1</td>\n",
              "      <td>1</td>\n",
              "      <td>73.00</td>\n",
              "      <td>0</td>\n",
              "      <td>1</td>\n",
              "      <td>59.0</td>\n",
              "      <td>0</td>\n",
              "      <td>69.72</td>\n",
              "      <td>1</td>\n",
              "      <td>295000.0</td>\n",
              "    </tr>\n",
              "    <tr>\n",
              "      <th>214</th>\n",
              "      <td>0</td>\n",
              "      <td>74.00</td>\n",
              "      <td>1</td>\n",
              "      <td>66.00</td>\n",
              "      <td>1</td>\n",
              "      <td>1</td>\n",
              "      <td>58.00</td>\n",
              "      <td>0</td>\n",
              "      <td>0</td>\n",
              "      <td>70.0</td>\n",
              "      <td>1</td>\n",
              "      <td>60.23</td>\n",
              "      <td>1</td>\n",
              "      <td>204000.0</td>\n",
              "    </tr>\n",
              "    <tr>\n",
              "      <th>215</th>\n",
              "      <td>1</td>\n",
              "      <td>62.00</td>\n",
              "      <td>0</td>\n",
              "      <td>58.00</td>\n",
              "      <td>1</td>\n",
              "      <td>2</td>\n",
              "      <td>53.00</td>\n",
              "      <td>0</td>\n",
              "      <td>0</td>\n",
              "      <td>89.0</td>\n",
              "      <td>1</td>\n",
              "      <td>60.22</td>\n",
              "      <td>0</td>\n",
              "      <td>0.0</td>\n",
              "    </tr>\n",
              "  </tbody>\n",
              "</table>\n",
              "<p>204 rows × 14 columns</p>\n",
              "</div>"
            ],
            "text/plain": [
              "       gender  ssc_p  ssc_b  hsc_p  hsc_b  hsc_s  degree_p  degree_t  workex  \\\n",
              "sl_no                                                                          \n",
              "2           1  79.33      0  78.33      1      2     77.48         2       1   \n",
              "3           1  65.00      0  68.00      0      0     64.00         0       0   \n",
              "4           1  56.00      0  52.00      0      2     52.00         2       0   \n",
              "5           1  85.80      0  73.60      0      1     73.30         0       0   \n",
              "6           1  55.00      1  49.80      1      2     67.25         2       1   \n",
              "...       ...    ...    ...    ...    ...    ...       ...       ...     ...   \n",
              "211         1  80.60      1  82.00      1      1     77.60         0       0   \n",
              "212         1  58.00      1  60.00      1      2     72.00         2       0   \n",
              "213         1  67.00      1  67.00      1      1     73.00         0       1   \n",
              "214         0  74.00      1  66.00      1      1     58.00         0       0   \n",
              "215         1  62.00      0  58.00      1      2     53.00         0       0   \n",
              "\n",
              "       etest_p  specialisation  mba_p  status    salary  \n",
              "sl_no                                                    \n",
              "2         86.5               0  66.28       1  200000.0  \n",
              "3         75.0               0  57.80       1  250000.0  \n",
              "4         66.0               1  59.43       0       0.0  \n",
              "5         96.8               0  55.50       1  425000.0  \n",
              "6         55.0               0  51.58       0       0.0  \n",
              "...        ...             ...    ...     ...       ...  \n",
              "211       91.0               0  74.49       1  400000.0  \n",
              "212       74.0               0  53.62       1  275000.0  \n",
              "213       59.0               0  69.72       1  295000.0  \n",
              "214       70.0               1  60.23       1  204000.0  \n",
              "215       89.0               1  60.22       0       0.0  \n",
              "\n",
              "[204 rows x 14 columns]"
            ]
          },
          "execution_count": 75,
          "metadata": {},
          "output_type": "execute_result"
        }
      ],
      "source": [
        "df"
      ]
    },
    {
      "cell_type": "code",
      "execution_count": null,
      "id": "7c0d3130",
      "metadata": {
        "id": "7c0d3130",
        "outputId": "a4acba27-224a-4da6-9609-39dac39f1531"
      },
      "outputs": [
        {
          "data": {
            "text/plain": [
              "Index(['gender', 'ssc_p', 'ssc_b', 'hsc_p', 'hsc_b', 'hsc_s', 'degree_p',\n",
              "       'degree_t', 'workex', 'etest_p', 'specialisation', 'mba_p', 'status',\n",
              "       'salary'],\n",
              "      dtype='object')"
            ]
          },
          "execution_count": 77,
          "metadata": {},
          "output_type": "execute_result"
        }
      ],
      "source": [
        "df.columns"
      ]
    },
    {
      "cell_type": "markdown",
      "id": "e5e3444f",
      "metadata": {
        "id": "e5e3444f"
      },
      "source": [
        "## Logestic Regression"
      ]
    },
    {
      "cell_type": "code",
      "execution_count": null,
      "id": "9ee8c8b2",
      "metadata": {
        "id": "9ee8c8b2"
      },
      "outputs": [],
      "source": [
        "X=df[['gender', 'ssc_p', 'ssc_b', 'hsc_p', 'hsc_b', 'hsc_s', 'degree_p',\n",
        "       'degree_t', 'workex', 'etest_p', 'specialisation', 'mba_p']].values"
      ]
    },
    {
      "cell_type": "code",
      "execution_count": null,
      "id": "cb270260",
      "metadata": {
        "id": "cb270260",
        "outputId": "d50a8157-196e-4654-ff65-2bfe850d6a46"
      },
      "outputs": [
        {
          "data": {
            "text/plain": [
              "array([[ 1.  , 79.33,  0.  , ..., 86.5 ,  0.  , 66.28],\n",
              "       [ 1.  , 65.  ,  0.  , ..., 75.  ,  0.  , 57.8 ],\n",
              "       [ 1.  , 56.  ,  0.  , ..., 66.  ,  1.  , 59.43],\n",
              "       ...,\n",
              "       [ 1.  , 67.  ,  1.  , ..., 59.  ,  0.  , 69.72],\n",
              "       [ 0.  , 74.  ,  1.  , ..., 70.  ,  1.  , 60.23],\n",
              "       [ 1.  , 62.  ,  0.  , ..., 89.  ,  1.  , 60.22]])"
            ]
          },
          "execution_count": 90,
          "metadata": {},
          "output_type": "execute_result"
        }
      ],
      "source": [
        "X"
      ]
    },
    {
      "cell_type": "code",
      "execution_count": null,
      "id": "c689f00c",
      "metadata": {
        "id": "c689f00c"
      },
      "outputs": [],
      "source": [
        "Y=df.iloc[:,-2].values"
      ]
    },
    {
      "cell_type": "code",
      "execution_count": null,
      "id": "2994669d",
      "metadata": {
        "id": "2994669d",
        "outputId": "c990577d-73ae-404e-dc8b-c23027ff58a1"
      },
      "outputs": [
        {
          "data": {
            "text/plain": [
              "array([1, 1, 0, 1, 0, 0, 1, 1, 0, 1, 1, 0, 1, 0, 1, 1, 0, 0, 1, 1, 1, 1,\n",
              "       1, 0, 1, 1, 1, 0, 1, 0, 1, 1, 0, 1, 0, 1, 1, 1, 1, 0, 1, 1, 0, 0,\n",
              "       1, 1, 1, 0, 0, 1, 1, 1, 1, 1, 1, 1, 1, 1, 1, 0, 1, 0, 1, 1, 0, 1,\n",
              "       1, 1, 1, 1, 1, 0, 1, 1, 1, 0, 1, 1, 0, 1, 1, 1, 1, 0, 1, 1, 1, 0,\n",
              "       1, 0, 1, 1, 1, 0, 1, 0, 0, 1, 1, 1, 1, 0, 0, 1, 1, 0, 1, 0, 1, 1,\n",
              "       1, 1, 1, 1, 1, 1, 1, 1, 1, 1, 1, 1, 1, 1, 0, 1, 1, 1, 1, 0, 1, 1,\n",
              "       1, 1, 0, 1, 1, 0, 1, 1, 1, 1, 0, 1, 1, 1, 1, 1, 0, 1, 1, 0, 0, 1,\n",
              "       0, 1, 1, 1, 0, 1, 0, 0, 0, 1, 1, 0, 1, 0, 1, 1, 0, 1, 0, 0, 1, 0,\n",
              "       1, 0, 1, 0, 0, 0, 1, 1, 1, 0, 1, 1, 0, 1, 1, 0, 1, 1, 1, 1, 1, 0,\n",
              "       1, 1, 1, 1, 1, 0])"
            ]
          },
          "execution_count": 86,
          "metadata": {},
          "output_type": "execute_result"
        }
      ],
      "source": [
        "Y"
      ]
    },
    {
      "cell_type": "code",
      "execution_count": null,
      "id": "24f02d13",
      "metadata": {
        "id": "24f02d13"
      },
      "outputs": [],
      "source": [
        "from sklearn.model_selection import train_test_split"
      ]
    },
    {
      "cell_type": "code",
      "execution_count": null,
      "id": "c5d2798e",
      "metadata": {
        "id": "c5d2798e"
      },
      "outputs": [],
      "source": [
        "X_train, X_test, Y_train, Y_test= train_test_split(X,Y,test_size=0.3, random_state=45)"
      ]
    },
    {
      "cell_type": "code",
      "execution_count": null,
      "id": "ce8f7cab",
      "metadata": {
        "id": "ce8f7cab",
        "outputId": "fd0e955e-3019-4a43-e99e-87afcd7d9c04"
      },
      "outputs": [
        {
          "data": {
            "text/plain": [
              "(142, 12)"
            ]
          },
          "execution_count": 96,
          "metadata": {},
          "output_type": "execute_result"
        }
      ],
      "source": [
        "X_train.shape"
      ]
    },
    {
      "cell_type": "code",
      "execution_count": null,
      "id": "6380f0de",
      "metadata": {
        "id": "6380f0de",
        "outputId": "2f5a6303-fd6f-47c1-ce16-ae4907c99f83"
      },
      "outputs": [
        {
          "data": {
            "text/plain": [
              "(62, 12)"
            ]
          },
          "execution_count": 98,
          "metadata": {},
          "output_type": "execute_result"
        }
      ],
      "source": [
        "X_test.shape"
      ]
    },
    {
      "cell_type": "markdown",
      "id": "88751c7e",
      "metadata": {
        "id": "88751c7e"
      },
      "source": [
        "## Feature Scaling"
      ]
    },
    {
      "cell_type": "code",
      "execution_count": null,
      "id": "e74b2127",
      "metadata": {
        "id": "e74b2127"
      },
      "outputs": [],
      "source": [
        "## Feature scaling is used if one column values are more in width then others column and it will dominate in the model /\n",
        "## just like salary is more in width then hss_b here so we have to bring them in same"
      ]
    },
    {
      "cell_type": "markdown",
      "id": "ccaa3305",
      "metadata": {
        "id": "ccaa3305"
      },
      "source": [
        "## \\Two types of feature Scaling"
      ]
    },
    {
      "cell_type": "markdown",
      "id": "ca218f6b",
      "metadata": {
        "id": "ca218f6b"
      },
      "source": [
        "## 1. Normalization and to convert it has formula of  :- -------                                x-xmin / Xmax-Xmin\n",
        "## 2. Standardization and to convert it has formula of  :-------                    x-mean of column / standard division of column"
      ]
    },
    {
      "cell_type": "code",
      "execution_count": null,
      "id": "c3c9d42e",
      "metadata": {
        "id": "c3c9d42e"
      },
      "outputs": [],
      "source": [
        "from sklearn.preprocessing import StandardScaler\n",
        "sc=StandardScaler()\n"
      ]
    },
    {
      "cell_type": "code",
      "execution_count": null,
      "id": "b781651e",
      "metadata": {
        "id": "b781651e"
      },
      "outputs": [],
      "source": [
        "X_train=sc.fit_transform(X_train)"
      ]
    },
    {
      "cell_type": "code",
      "execution_count": null,
      "id": "bb2c347d",
      "metadata": {
        "id": "bb2c347d"
      },
      "outputs": [],
      "source": [
        "X_test=sc.fit_transform(X_test)"
      ]
    },
    {
      "cell_type": "code",
      "execution_count": null,
      "id": "aae60ab4",
      "metadata": {
        "id": "aae60ab4"
      },
      "outputs": [],
      "source": [
        "from sklearn.linear_model import LogisticRegression"
      ]
    },
    {
      "cell_type": "code",
      "execution_count": null,
      "id": "1a7bbde6",
      "metadata": {
        "id": "1a7bbde6"
      },
      "outputs": [],
      "source": [
        "reg=LogisticRegression()"
      ]
    },
    {
      "cell_type": "code",
      "execution_count": null,
      "id": "d0238bc7",
      "metadata": {
        "id": "d0238bc7",
        "outputId": "922b2c6c-71fc-467c-8120-82b4e46610ce"
      },
      "outputs": [
        {
          "data": {
            "text/html": [
              "<style>#sk-container-id-1 {\n",
              "  /* Definition of color scheme common for light and dark mode */\n",
              "  --sklearn-color-text: black;\n",
              "  --sklearn-color-line: gray;\n",
              "  /* Definition of color scheme for unfitted estimators */\n",
              "  --sklearn-color-unfitted-level-0: #fff5e6;\n",
              "  --sklearn-color-unfitted-level-1: #f6e4d2;\n",
              "  --sklearn-color-unfitted-level-2: #ffe0b3;\n",
              "  --sklearn-color-unfitted-level-3: chocolate;\n",
              "  /* Definition of color scheme for fitted estimators */\n",
              "  --sklearn-color-fitted-level-0: #f0f8ff;\n",
              "  --sklearn-color-fitted-level-1: #d4ebff;\n",
              "  --sklearn-color-fitted-level-2: #b3dbfd;\n",
              "  --sklearn-color-fitted-level-3: cornflowerblue;\n",
              "\n",
              "  /* Specific color for light theme */\n",
              "  --sklearn-color-text-on-default-background: var(--sg-text-color, var(--theme-code-foreground, var(--jp-content-font-color1, black)));\n",
              "  --sklearn-color-background: var(--sg-background-color, var(--theme-background, var(--jp-layout-color0, white)));\n",
              "  --sklearn-color-border-box: var(--sg-text-color, var(--theme-code-foreground, var(--jp-content-font-color1, black)));\n",
              "  --sklearn-color-icon: #696969;\n",
              "\n",
              "  @media (prefers-color-scheme: dark) {\n",
              "    /* Redefinition of color scheme for dark theme */\n",
              "    --sklearn-color-text-on-default-background: var(--sg-text-color, var(--theme-code-foreground, var(--jp-content-font-color1, white)));\n",
              "    --sklearn-color-background: var(--sg-background-color, var(--theme-background, var(--jp-layout-color0, #111)));\n",
              "    --sklearn-color-border-box: var(--sg-text-color, var(--theme-code-foreground, var(--jp-content-font-color1, white)));\n",
              "    --sklearn-color-icon: #878787;\n",
              "  }\n",
              "}\n",
              "\n",
              "#sk-container-id-1 {\n",
              "  color: var(--sklearn-color-text);\n",
              "}\n",
              "\n",
              "#sk-container-id-1 pre {\n",
              "  padding: 0;\n",
              "}\n",
              "\n",
              "#sk-container-id-1 input.sk-hidden--visually {\n",
              "  border: 0;\n",
              "  clip: rect(1px 1px 1px 1px);\n",
              "  clip: rect(1px, 1px, 1px, 1px);\n",
              "  height: 1px;\n",
              "  margin: -1px;\n",
              "  overflow: hidden;\n",
              "  padding: 0;\n",
              "  position: absolute;\n",
              "  width: 1px;\n",
              "}\n",
              "\n",
              "#sk-container-id-1 div.sk-dashed-wrapped {\n",
              "  border: 1px dashed var(--sklearn-color-line);\n",
              "  margin: 0 0.4em 0.5em 0.4em;\n",
              "  box-sizing: border-box;\n",
              "  padding-bottom: 0.4em;\n",
              "  background-color: var(--sklearn-color-background);\n",
              "}\n",
              "\n",
              "#sk-container-id-1 div.sk-container {\n",
              "  /* jupyter's `normalize.less` sets `[hidden] { display: none; }`\n",
              "     but bootstrap.min.css set `[hidden] { display: none !important; }`\n",
              "     so we also need the `!important` here to be able to override the\n",
              "     default hidden behavior on the sphinx rendered scikit-learn.org.\n",
              "     See: https://github.com/scikit-learn/scikit-learn/issues/21755 */\n",
              "  display: inline-block !important;\n",
              "  position: relative;\n",
              "}\n",
              "\n",
              "#sk-container-id-1 div.sk-text-repr-fallback {\n",
              "  display: none;\n",
              "}\n",
              "\n",
              "div.sk-parallel-item,\n",
              "div.sk-serial,\n",
              "div.sk-item {\n",
              "  /* draw centered vertical line to link estimators */\n",
              "  background-image: linear-gradient(var(--sklearn-color-text-on-default-background), var(--sklearn-color-text-on-default-background));\n",
              "  background-size: 2px 100%;\n",
              "  background-repeat: no-repeat;\n",
              "  background-position: center center;\n",
              "}\n",
              "\n",
              "/* Parallel-specific style estimator block */\n",
              "\n",
              "#sk-container-id-1 div.sk-parallel-item::after {\n",
              "  content: \"\";\n",
              "  width: 100%;\n",
              "  border-bottom: 2px solid var(--sklearn-color-text-on-default-background);\n",
              "  flex-grow: 1;\n",
              "}\n",
              "\n",
              "#sk-container-id-1 div.sk-parallel {\n",
              "  display: flex;\n",
              "  align-items: stretch;\n",
              "  justify-content: center;\n",
              "  background-color: var(--sklearn-color-background);\n",
              "  position: relative;\n",
              "}\n",
              "\n",
              "#sk-container-id-1 div.sk-parallel-item {\n",
              "  display: flex;\n",
              "  flex-direction: column;\n",
              "}\n",
              "\n",
              "#sk-container-id-1 div.sk-parallel-item:first-child::after {\n",
              "  align-self: flex-end;\n",
              "  width: 50%;\n",
              "}\n",
              "\n",
              "#sk-container-id-1 div.sk-parallel-item:last-child::after {\n",
              "  align-self: flex-start;\n",
              "  width: 50%;\n",
              "}\n",
              "\n",
              "#sk-container-id-1 div.sk-parallel-item:only-child::after {\n",
              "  width: 0;\n",
              "}\n",
              "\n",
              "/* Serial-specific style estimator block */\n",
              "\n",
              "#sk-container-id-1 div.sk-serial {\n",
              "  display: flex;\n",
              "  flex-direction: column;\n",
              "  align-items: center;\n",
              "  background-color: var(--sklearn-color-background);\n",
              "  padding-right: 1em;\n",
              "  padding-left: 1em;\n",
              "}\n",
              "\n",
              "\n",
              "/* Toggleable style: style used for estimator/Pipeline/ColumnTransformer box that is\n",
              "clickable and can be expanded/collapsed.\n",
              "- Pipeline and ColumnTransformer use this feature and define the default style\n",
              "- Estimators will overwrite some part of the style using the `sk-estimator` class\n",
              "*/\n",
              "\n",
              "/* Pipeline and ColumnTransformer style (default) */\n",
              "\n",
              "#sk-container-id-1 div.sk-toggleable {\n",
              "  /* Default theme specific background. It is overwritten whether we have a\n",
              "  specific estimator or a Pipeline/ColumnTransformer */\n",
              "  background-color: var(--sklearn-color-background);\n",
              "}\n",
              "\n",
              "/* Toggleable label */\n",
              "#sk-container-id-1 label.sk-toggleable__label {\n",
              "  cursor: pointer;\n",
              "  display: block;\n",
              "  width: 100%;\n",
              "  margin-bottom: 0;\n",
              "  padding: 0.5em;\n",
              "  box-sizing: border-box;\n",
              "  text-align: center;\n",
              "}\n",
              "\n",
              "#sk-container-id-1 label.sk-toggleable__label-arrow:before {\n",
              "  /* Arrow on the left of the label */\n",
              "  content: \"▸\";\n",
              "  float: left;\n",
              "  margin-right: 0.25em;\n",
              "  color: var(--sklearn-color-icon);\n",
              "}\n",
              "\n",
              "#sk-container-id-1 label.sk-toggleable__label-arrow:hover:before {\n",
              "  color: var(--sklearn-color-text);\n",
              "}\n",
              "\n",
              "/* Toggleable content - dropdown */\n",
              "\n",
              "#sk-container-id-1 div.sk-toggleable__content {\n",
              "  max-height: 0;\n",
              "  max-width: 0;\n",
              "  overflow: hidden;\n",
              "  text-align: left;\n",
              "  /* unfitted */\n",
              "  background-color: var(--sklearn-color-unfitted-level-0);\n",
              "}\n",
              "\n",
              "#sk-container-id-1 div.sk-toggleable__content.fitted {\n",
              "  /* fitted */\n",
              "  background-color: var(--sklearn-color-fitted-level-0);\n",
              "}\n",
              "\n",
              "#sk-container-id-1 div.sk-toggleable__content pre {\n",
              "  margin: 0.2em;\n",
              "  border-radius: 0.25em;\n",
              "  color: var(--sklearn-color-text);\n",
              "  /* unfitted */\n",
              "  background-color: var(--sklearn-color-unfitted-level-0);\n",
              "}\n",
              "\n",
              "#sk-container-id-1 div.sk-toggleable__content.fitted pre {\n",
              "  /* unfitted */\n",
              "  background-color: var(--sklearn-color-fitted-level-0);\n",
              "}\n",
              "\n",
              "#sk-container-id-1 input.sk-toggleable__control:checked~div.sk-toggleable__content {\n",
              "  /* Expand drop-down */\n",
              "  max-height: 200px;\n",
              "  max-width: 100%;\n",
              "  overflow: auto;\n",
              "}\n",
              "\n",
              "#sk-container-id-1 input.sk-toggleable__control:checked~label.sk-toggleable__label-arrow:before {\n",
              "  content: \"▾\";\n",
              "}\n",
              "\n",
              "/* Pipeline/ColumnTransformer-specific style */\n",
              "\n",
              "#sk-container-id-1 div.sk-label input.sk-toggleable__control:checked~label.sk-toggleable__label {\n",
              "  color: var(--sklearn-color-text);\n",
              "  background-color: var(--sklearn-color-unfitted-level-2);\n",
              "}\n",
              "\n",
              "#sk-container-id-1 div.sk-label.fitted input.sk-toggleable__control:checked~label.sk-toggleable__label {\n",
              "  background-color: var(--sklearn-color-fitted-level-2);\n",
              "}\n",
              "\n",
              "/* Estimator-specific style */\n",
              "\n",
              "/* Colorize estimator box */\n",
              "#sk-container-id-1 div.sk-estimator input.sk-toggleable__control:checked~label.sk-toggleable__label {\n",
              "  /* unfitted */\n",
              "  background-color: var(--sklearn-color-unfitted-level-2);\n",
              "}\n",
              "\n",
              "#sk-container-id-1 div.sk-estimator.fitted input.sk-toggleable__control:checked~label.sk-toggleable__label {\n",
              "  /* fitted */\n",
              "  background-color: var(--sklearn-color-fitted-level-2);\n",
              "}\n",
              "\n",
              "#sk-container-id-1 div.sk-label label.sk-toggleable__label,\n",
              "#sk-container-id-1 div.sk-label label {\n",
              "  /* The background is the default theme color */\n",
              "  color: var(--sklearn-color-text-on-default-background);\n",
              "}\n",
              "\n",
              "/* On hover, darken the color of the background */\n",
              "#sk-container-id-1 div.sk-label:hover label.sk-toggleable__label {\n",
              "  color: var(--sklearn-color-text);\n",
              "  background-color: var(--sklearn-color-unfitted-level-2);\n",
              "}\n",
              "\n",
              "/* Label box, darken color on hover, fitted */\n",
              "#sk-container-id-1 div.sk-label.fitted:hover label.sk-toggleable__label.fitted {\n",
              "  color: var(--sklearn-color-text);\n",
              "  background-color: var(--sklearn-color-fitted-level-2);\n",
              "}\n",
              "\n",
              "/* Estimator label */\n",
              "\n",
              "#sk-container-id-1 div.sk-label label {\n",
              "  font-family: monospace;\n",
              "  font-weight: bold;\n",
              "  display: inline-block;\n",
              "  line-height: 1.2em;\n",
              "}\n",
              "\n",
              "#sk-container-id-1 div.sk-label-container {\n",
              "  text-align: center;\n",
              "}\n",
              "\n",
              "/* Estimator-specific */\n",
              "#sk-container-id-1 div.sk-estimator {\n",
              "  font-family: monospace;\n",
              "  border: 1px dotted var(--sklearn-color-border-box);\n",
              "  border-radius: 0.25em;\n",
              "  box-sizing: border-box;\n",
              "  margin-bottom: 0.5em;\n",
              "  /* unfitted */\n",
              "  background-color: var(--sklearn-color-unfitted-level-0);\n",
              "}\n",
              "\n",
              "#sk-container-id-1 div.sk-estimator.fitted {\n",
              "  /* fitted */\n",
              "  background-color: var(--sklearn-color-fitted-level-0);\n",
              "}\n",
              "\n",
              "/* on hover */\n",
              "#sk-container-id-1 div.sk-estimator:hover {\n",
              "  /* unfitted */\n",
              "  background-color: var(--sklearn-color-unfitted-level-2);\n",
              "}\n",
              "\n",
              "#sk-container-id-1 div.sk-estimator.fitted:hover {\n",
              "  /* fitted */\n",
              "  background-color: var(--sklearn-color-fitted-level-2);\n",
              "}\n",
              "\n",
              "/* Specification for estimator info (e.g. \"i\" and \"?\") */\n",
              "\n",
              "/* Common style for \"i\" and \"?\" */\n",
              "\n",
              ".sk-estimator-doc-link,\n",
              "a:link.sk-estimator-doc-link,\n",
              "a:visited.sk-estimator-doc-link {\n",
              "  float: right;\n",
              "  font-size: smaller;\n",
              "  line-height: 1em;\n",
              "  font-family: monospace;\n",
              "  background-color: var(--sklearn-color-background);\n",
              "  border-radius: 1em;\n",
              "  height: 1em;\n",
              "  width: 1em;\n",
              "  text-decoration: none !important;\n",
              "  margin-left: 1ex;\n",
              "  /* unfitted */\n",
              "  border: var(--sklearn-color-unfitted-level-1) 1pt solid;\n",
              "  color: var(--sklearn-color-unfitted-level-1);\n",
              "}\n",
              "\n",
              ".sk-estimator-doc-link.fitted,\n",
              "a:link.sk-estimator-doc-link.fitted,\n",
              "a:visited.sk-estimator-doc-link.fitted {\n",
              "  /* fitted */\n",
              "  border: var(--sklearn-color-fitted-level-1) 1pt solid;\n",
              "  color: var(--sklearn-color-fitted-level-1);\n",
              "}\n",
              "\n",
              "/* On hover */\n",
              "div.sk-estimator:hover .sk-estimator-doc-link:hover,\n",
              ".sk-estimator-doc-link:hover,\n",
              "div.sk-label-container:hover .sk-estimator-doc-link:hover,\n",
              ".sk-estimator-doc-link:hover {\n",
              "  /* unfitted */\n",
              "  background-color: var(--sklearn-color-unfitted-level-3);\n",
              "  color: var(--sklearn-color-background);\n",
              "  text-decoration: none;\n",
              "}\n",
              "\n",
              "div.sk-estimator.fitted:hover .sk-estimator-doc-link.fitted:hover,\n",
              ".sk-estimator-doc-link.fitted:hover,\n",
              "div.sk-label-container:hover .sk-estimator-doc-link.fitted:hover,\n",
              ".sk-estimator-doc-link.fitted:hover {\n",
              "  /* fitted */\n",
              "  background-color: var(--sklearn-color-fitted-level-3);\n",
              "  color: var(--sklearn-color-background);\n",
              "  text-decoration: none;\n",
              "}\n",
              "\n",
              "/* Span, style for the box shown on hovering the info icon */\n",
              ".sk-estimator-doc-link span {\n",
              "  display: none;\n",
              "  z-index: 9999;\n",
              "  position: relative;\n",
              "  font-weight: normal;\n",
              "  right: .2ex;\n",
              "  padding: .5ex;\n",
              "  margin: .5ex;\n",
              "  width: min-content;\n",
              "  min-width: 20ex;\n",
              "  max-width: 50ex;\n",
              "  color: var(--sklearn-color-text);\n",
              "  box-shadow: 2pt 2pt 4pt #999;\n",
              "  /* unfitted */\n",
              "  background: var(--sklearn-color-unfitted-level-0);\n",
              "  border: .5pt solid var(--sklearn-color-unfitted-level-3);\n",
              "}\n",
              "\n",
              ".sk-estimator-doc-link.fitted span {\n",
              "  /* fitted */\n",
              "  background: var(--sklearn-color-fitted-level-0);\n",
              "  border: var(--sklearn-color-fitted-level-3);\n",
              "}\n",
              "\n",
              ".sk-estimator-doc-link:hover span {\n",
              "  display: block;\n",
              "}\n",
              "\n",
              "/* \"?\"-specific style due to the `<a>` HTML tag */\n",
              "\n",
              "#sk-container-id-1 a.estimator_doc_link {\n",
              "  float: right;\n",
              "  font-size: 1rem;\n",
              "  line-height: 1em;\n",
              "  font-family: monospace;\n",
              "  background-color: var(--sklearn-color-background);\n",
              "  border-radius: 1rem;\n",
              "  height: 1rem;\n",
              "  width: 1rem;\n",
              "  text-decoration: none;\n",
              "  /* unfitted */\n",
              "  color: var(--sklearn-color-unfitted-level-1);\n",
              "  border: var(--sklearn-color-unfitted-level-1) 1pt solid;\n",
              "}\n",
              "\n",
              "#sk-container-id-1 a.estimator_doc_link.fitted {\n",
              "  /* fitted */\n",
              "  border: var(--sklearn-color-fitted-level-1) 1pt solid;\n",
              "  color: var(--sklearn-color-fitted-level-1);\n",
              "}\n",
              "\n",
              "/* On hover */\n",
              "#sk-container-id-1 a.estimator_doc_link:hover {\n",
              "  /* unfitted */\n",
              "  background-color: var(--sklearn-color-unfitted-level-3);\n",
              "  color: var(--sklearn-color-background);\n",
              "  text-decoration: none;\n",
              "}\n",
              "\n",
              "#sk-container-id-1 a.estimator_doc_link.fitted:hover {\n",
              "  /* fitted */\n",
              "  background-color: var(--sklearn-color-fitted-level-3);\n",
              "}\n",
              "</style><div id=\"sk-container-id-1\" class=\"sk-top-container\"><div class=\"sk-text-repr-fallback\"><pre>LogisticRegression()</pre><b>In a Jupyter environment, please rerun this cell to show the HTML representation or trust the notebook. <br />On GitHub, the HTML representation is unable to render, please try loading this page with nbviewer.org.</b></div><div class=\"sk-container\" hidden><div class=\"sk-item\"><div class=\"sk-estimator fitted sk-toggleable\"><input class=\"sk-toggleable__control sk-hidden--visually\" id=\"sk-estimator-id-1\" type=\"checkbox\" checked><label for=\"sk-estimator-id-1\" class=\"sk-toggleable__label fitted sk-toggleable__label-arrow fitted\">&nbsp;&nbsp;LogisticRegression<a class=\"sk-estimator-doc-link fitted\" rel=\"noreferrer\" target=\"_blank\" href=\"https://scikit-learn.org/1.4/modules/generated/sklearn.linear_model.LogisticRegression.html\">?<span>Documentation for LogisticRegression</span></a><span class=\"sk-estimator-doc-link fitted\">i<span>Fitted</span></span></label><div class=\"sk-toggleable__content fitted\"><pre>LogisticRegression()</pre></div> </div></div></div></div>"
            ],
            "text/plain": [
              "LogisticRegression()"
            ]
          },
          "execution_count": 110,
          "metadata": {},
          "output_type": "execute_result"
        }
      ],
      "source": [
        "reg.fit(X_train, Y_train)"
      ]
    },
    {
      "cell_type": "code",
      "execution_count": null,
      "id": "a45b3194",
      "metadata": {
        "id": "a45b3194",
        "outputId": "9f2c95bf-4c6a-4ba2-b955-a18e42e53665"
      },
      "outputs": [
        {
          "data": {
            "text/plain": [
              "array([[ 0.42638839,  1.80065454,  0.15266056,  0.30044615,  0.05564488,\n",
              "         0.03376707,  0.89861344, -0.28176309,  0.8025317 , -0.22923267,\n",
              "        -0.27593153, -0.82647474]])"
            ]
          },
          "execution_count": 112,
          "metadata": {},
          "output_type": "execute_result"
        }
      ],
      "source": [
        "reg.coef_"
      ]
    },
    {
      "cell_type": "code",
      "execution_count": null,
      "id": "5db05c2c",
      "metadata": {
        "id": "5db05c2c"
      },
      "outputs": [],
      "source": [
        "Y_pred=reg.predict(X_test)"
      ]
    },
    {
      "cell_type": "code",
      "execution_count": null,
      "id": "0181e1c0",
      "metadata": {
        "id": "0181e1c0",
        "outputId": "c0577979-b845-4afe-ce23-2bd17c459b98"
      },
      "outputs": [
        {
          "data": {
            "text/plain": [
              "array([1, 1, 1, 1, 1, 0, 1, 0, 1, 1, 1, 1, 0, 1, 0, 0, 0, 1, 1, 1, 1, 1,\n",
              "       1, 1, 0, 1, 1, 0, 1, 1, 1, 1, 1, 1, 1, 1, 1, 0, 1, 1, 0, 1, 1, 1,\n",
              "       1, 0, 1, 1, 1, 0, 1, 0, 1, 0, 1, 1, 0, 0, 1, 1, 0, 1])"
            ]
          },
          "execution_count": 116,
          "metadata": {},
          "output_type": "execute_result"
        }
      ],
      "source": [
        "Y_pred"
      ]
    },
    {
      "cell_type": "code",
      "execution_count": null,
      "id": "0b27df9a",
      "metadata": {
        "id": "0b27df9a",
        "outputId": "7c78e461-8238-46d5-b2d9-0a31337e0887"
      },
      "outputs": [
        {
          "data": {
            "text/plain": [
              "array([1, 0, 1, 1, 1, 0, 1, 0, 1, 1, 1, 1, 0, 1, 0, 0, 1, 1, 1, 1, 1, 1,\n",
              "       1, 1, 0, 1, 1, 0, 1, 1, 0, 1, 1, 1, 1, 1, 1, 0, 1, 1, 0, 0, 1, 1,\n",
              "       1, 0, 1, 1, 1, 0, 1, 0, 1, 0, 1, 1, 0, 0, 1, 1, 0, 1])"
            ]
          },
          "execution_count": 118,
          "metadata": {},
          "output_type": "execute_result"
        }
      ],
      "source": [
        "Y_test"
      ]
    },
    {
      "cell_type": "markdown",
      "id": "ec8879f2",
      "metadata": {
        "id": "ec8879f2"
      },
      "source": [
        "## Create Confusion metrix and draw a heat map"
      ]
    },
    {
      "cell_type": "code",
      "execution_count": null,
      "id": "a097b5ba",
      "metadata": {
        "id": "a097b5ba"
      },
      "outputs": [],
      "source": [
        "from sklearn.metrics import confusion_matrix"
      ]
    },
    {
      "cell_type": "code",
      "execution_count": null,
      "id": "1d2750f1",
      "metadata": {
        "id": "1d2750f1",
        "outputId": "269cb897-2fda-4602-c34f-908ae282509f"
      },
      "outputs": [
        {
          "data": {
            "text/plain": [
              "array([[16,  3],\n",
              "       [ 1, 42]], dtype=int64)"
            ]
          },
          "execution_count": 122,
          "metadata": {},
          "output_type": "execute_result"
        }
      ],
      "source": [
        "confusion_matrix(Y_test, Y_pred)"
      ]
    },
    {
      "cell_type": "markdown",
      "id": "238e76be",
      "metadata": {
        "id": "238e76be"
      },
      "source": [
        "## how to check True positive, True Negative, False Negative, True Positive values"
      ]
    },
    {
      "cell_type": "code",
      "execution_count": null,
      "id": "3074e45e",
      "metadata": {
        "id": "3074e45e"
      },
      "outputs": [],
      "source": [
        "tn, fp, fn, tp = confusion_matrix(Y_test, Y_pred).ravel()"
      ]
    },
    {
      "cell_type": "code",
      "execution_count": null,
      "id": "c79b0ea4",
      "metadata": {
        "id": "c79b0ea4",
        "outputId": "a021610b-2f17-4412-beab-7f22754f6d78"
      },
      "outputs": [
        {
          "name": "stdout",
          "output_type": "stream",
          "text": [
            "Value of True Negative = 16\n",
            "Value of False Positive =  3\n",
            "Value of False Negative =  1\n",
            "Value of Ture Positve =  42\n"
          ]
        }
      ],
      "source": [
        "print('Value of True Negative =', tn,)\n",
        "print('Value of False Positive = ', fp, )\n",
        "print('Value of False Negative = ', fn,)\n",
        "print('Value of Ture Positve = ',tp)"
      ]
    },
    {
      "cell_type": "markdown",
      "id": "ea845b95",
      "metadata": {
        "id": "ea845b95"
      },
      "source": [
        "## Now make heatmap to show how much it is predicted"
      ]
    },
    {
      "cell_type": "code",
      "execution_count": null,
      "id": "d3f59c78",
      "metadata": {
        "id": "d3f59c78",
        "outputId": "f7afd63f-7920-4a89-9908-070cbde9c752"
      },
      "outputs": [
        {
          "data": {
            "text/plain": [
              "<Axes: >"
            ]
          },
          "execution_count": 128,
          "metadata": {},
          "output_type": "execute_result"
        },
        {
          "data": {
            "image/png": "[encoded data removed]",
            "text/plain": [
              "<Figure size 640x480 with 2 Axes>"
            ]
          },
          "metadata": {},
          "output_type": "display_data"
        }
      ],
      "source": [
        "sns.heatmap(confusion_matrix(Y_test,Y_pred), annot=True)"
      ]
    },
    {
      "cell_type": "markdown",
      "id": "e39d3027",
      "metadata": {
        "id": "e39d3027"
      },
      "source": [
        "## Find out the accuracy metrix"
      ]
    },
    {
      "cell_type": "code",
      "execution_count": null,
      "id": "a447f299",
      "metadata": {
        "id": "a447f299"
      },
      "outputs": [],
      "source": [
        "from sklearn.metrics import accuracy_score"
      ]
    },
    {
      "cell_type": "code",
      "execution_count": null,
      "id": "28e8be8d-4264-4e67-89c0-3f49e34aaf22",
      "metadata": {
        "id": "28e8be8d-4264-4e67-89c0-3f49e34aaf22",
        "outputId": "4c19197d-9b2d-4972-d562-70e122484496"
      },
      "outputs": [
        {
          "data": {
            "text/plain": [
              "0.9354838709677419"
            ]
          },
          "execution_count": 180,
          "metadata": {},
          "output_type": "execute_result"
        }
      ],
      "source": [
        "(42 + 16) / 62"
      ]
    },
    {
      "cell_type": "code",
      "execution_count": null,
      "id": "87453f6a",
      "metadata": {
        "id": "87453f6a",
        "outputId": "135697d4-d0bd-4618-91e8-7228db99719b"
      },
      "outputs": [
        {
          "data": {
            "text/plain": [
              "0.9354838709677419"
            ]
          },
          "execution_count": 178,
          "metadata": {},
          "output_type": "execute_result"
        }
      ],
      "source": [
        "accuracy_score(Y_test, Y_pred)"
      ]
    },
    {
      "cell_type": "markdown",
      "id": "577b2cdd",
      "metadata": {
        "id": "577b2cdd"
      },
      "source": [
        "## Find out the AUR-ROC Evaluation Metrix score"
      ]
    },
    {
      "cell_type": "code",
      "execution_count": null,
      "id": "8759cca3",
      "metadata": {
        "id": "8759cca3"
      },
      "outputs": [],
      "source": [
        "from sklearn.metrics import roc_auc_score"
      ]
    },
    {
      "cell_type": "code",
      "execution_count": null,
      "id": "9a102649",
      "metadata": {
        "id": "9a102649",
        "outputId": "8c5d46a6-0f6d-4390-80b1-f6dfa2c30903"
      },
      "outputs": [
        {
          "data": {
            "text/plain": [
              "0.9094247246022031"
            ]
          },
          "execution_count": 136,
          "metadata": {},
          "output_type": "execute_result"
        }
      ],
      "source": [
        "roc_auc_score(Y_test, Y_pred)"
      ]
    },
    {
      "cell_type": "markdown",
      "id": "d9a1a7a2",
      "metadata": {
        "id": "d9a1a7a2"
      },
      "source": [
        "## Find out number of 0 classes in Y_test"
      ]
    },
    {
      "cell_type": "code",
      "execution_count": null,
      "id": "44453eea",
      "metadata": {
        "id": "44453eea",
        "outputId": "bb4077cd-9831-46ef-868b-49035f6950f6"
      },
      "outputs": [
        {
          "name": "stdout",
          "output_type": "stream",
          "text": [
            "19\n"
          ]
        }
      ],
      "source": [
        "print(sum(Y_test==0))"
      ]
    },
    {
      "cell_type": "markdown",
      "id": "2e9524d9",
      "metadata": {
        "id": "2e9524d9"
      },
      "source": [
        "## Find out number of 1 classes in Y_test"
      ]
    },
    {
      "cell_type": "code",
      "execution_count": null,
      "id": "8f5955f3",
      "metadata": {
        "id": "8f5955f3",
        "outputId": "647aa335-c319-443f-8746-e441bd4e693f"
      },
      "outputs": [
        {
          "name": "stdout",
          "output_type": "stream",
          "text": [
            "43\n"
          ]
        }
      ],
      "source": [
        "print(sum(Y_test==1))"
      ]
    },
    {
      "cell_type": "markdown",
      "id": "81380d4d",
      "metadata": {
        "id": "81380d4d"
      },
      "source": [
        "## Find out the recall and precision metrix"
      ]
    },
    {
      "cell_type": "code",
      "execution_count": null,
      "id": "47d0e145",
      "metadata": {
        "id": "47d0e145"
      },
      "outputs": [],
      "source": [
        "Precision = tp/(tp+fp)"
      ]
    },
    {
      "cell_type": "code",
      "execution_count": null,
      "id": "72ac5a73",
      "metadata": {
        "id": "72ac5a73",
        "outputId": "8993a897-795d-4e1e-e5ff-ba44e8df031f"
      },
      "outputs": [
        {
          "data": {
            "text/plain": [
              "45"
            ]
          },
          "execution_count": 146,
          "metadata": {},
          "output_type": "execute_result"
        }
      ],
      "source": [
        "(tp+fp)"
      ]
    },
    {
      "cell_type": "code",
      "execution_count": null,
      "id": "12ffd804",
      "metadata": {
        "id": "12ffd804"
      },
      "outputs": [],
      "source": [
        "Recall = tp/(tp + fn)"
      ]
    },
    {
      "cell_type": "code",
      "execution_count": null,
      "id": "224f2ffd",
      "metadata": {
        "id": "224f2ffd",
        "outputId": "510ce45d-a2f5-4c11-bc40-6d7e52a4c5bb"
      },
      "outputs": [
        {
          "data": {
            "text/plain": [
              "0.9767441860465116"
            ]
          },
          "execution_count": 156,
          "metadata": {},
          "output_type": "execute_result"
        }
      ],
      "source": [
        "Recall"
      ]
    },
    {
      "cell_type": "markdown",
      "id": "3e7dd4a1",
      "metadata": {
        "id": "3e7dd4a1"
      },
      "source": [
        "## Find out the recall and precision metrix"
      ]
    },
    {
      "cell_type": "code",
      "execution_count": null,
      "id": "f78e3096",
      "metadata": {
        "id": "f78e3096"
      },
      "outputs": [],
      "source": [
        "F_Score = (2 * Precision * Recall) / (Precision + Recall)"
      ]
    },
    {
      "cell_type": "code",
      "execution_count": null,
      "id": "a271ef47",
      "metadata": {
        "id": "a271ef47",
        "outputId": "b6cfd8b2-1c71-4763-984b-ac61b3205570"
      },
      "outputs": [
        {
          "data": {
            "text/plain": [
              "0.9545454545454545"
            ]
          },
          "execution_count": 160,
          "metadata": {},
          "output_type": "execute_result"
        }
      ],
      "source": [
        "F_Score"
      ]
    },
    {
      "cell_type": "markdown",
      "id": "96b4575a",
      "metadata": {
        "id": "96b4575a"
      },
      "source": [
        "## Create the classification report and understand each term in it"
      ]
    },
    {
      "cell_type": "code",
      "execution_count": null,
      "id": "bb677290",
      "metadata": {
        "id": "bb677290"
      },
      "outputs": [],
      "source": [
        "from sklearn.metrics import classification_report"
      ]
    },
    {
      "cell_type": "code",
      "execution_count": null,
      "id": "1968e90a",
      "metadata": {
        "id": "1968e90a",
        "outputId": "e274bdd1-507c-4263-a753-10167fe38f3e"
      },
      "outputs": [
        {
          "name": "stdout",
          "output_type": "stream",
          "text": [
            "              precision    recall  f1-score   support\n",
            "\n",
            "           0       0.94      0.84      0.89        19\n",
            "           1       0.93      0.98      0.95        43\n",
            "\n",
            "    accuracy                           0.94        62\n",
            "   macro avg       0.94      0.91      0.92        62\n",
            "weighted avg       0.94      0.94      0.93        62\n",
            "\n"
          ]
        }
      ],
      "source": [
        "print(classification_report(Y_test, Y_pred))"
      ]
    },
    {
      "cell_type": "code",
      "execution_count": null,
      "id": "d29faea7-c525-4814-8d9e-440ef8bb5821",
      "metadata": {
        "id": "d29faea7-c525-4814-8d9e-440ef8bb5821"
      },
      "outputs": [],
      "source": [
        "import joblib\n",
        "import numpy as np"
      ]
    },
    {
      "cell_type": "code",
      "execution_count": null,
      "id": "2aae24d1-0f69-4413-bf1d-6ab5a5b5ecd6",
      "metadata": {
        "id": "2aae24d1-0f69-4413-bf1d-6ab5a5b5ecd6"
      },
      "outputs": [],
      "source": [
        "Y_prediction = []\n",
        "for i in range(X_test.shape[0]):\n",
        "    new_X_data = X_test[i,0:]\n",
        "    joblib.dump(reg,'logistic_regression_model.pkl')\n",
        "# # Load new data\n",
        "    new_data = new_X_data.reshape(1, -1)\n",
        "\n",
        "# Load the saved logistic regression model\n",
        "    log_reg_model = joblib.load('logistic_regression_model.pkl')\n",
        "\n",
        "# Make predictions\n",
        "    predictions = log_reg_model.predict(new_data)\n",
        "\n",
        "    if predictions == 1:\n",
        "        Y_prediction.append(\"Placed\")\n",
        "    else:\n",
        "        Y_prediction.append(\"Not Placed\")\n"
      ]
    },
    {
      "cell_type": "code",
      "execution_count": null,
      "id": "6978aad4-bab7-409c-9986-12bde72d129e",
      "metadata": {
        "id": "6978aad4-bab7-409c-9986-12bde72d129e"
      },
      "outputs": [],
      "source": [
        "Y_Actual = []\n",
        "for i in range(Y_test.shape[0]):\n",
        "    if Y_test[i] == 1:\n",
        "        Y_Actual.append(\"Placed\")\n",
        "    else:\n",
        "        Y_Actual.append(\"Not Placed\")"
      ]
    },
    {
      "cell_type": "code",
      "execution_count": null,
      "id": "45cf4a05-c6ab-4be9-96c6-3df192cf5f3b",
      "metadata": {
        "id": "45cf4a05-c6ab-4be9-96c6-3df192cf5f3b",
        "outputId": "c77ded0a-5ea9-4a03-a12d-8081a34e03ce"
      },
      "outputs": [
        {
          "data": {
            "text/html": [
              "<div>\n",
              "<style scoped>\n",
              "    .dataframe tbody tr th:only-of-type {\n",
              "        vertical-align: middle;\n",
              "    }\n",
              "\n",
              "    .dataframe tbody tr th {\n",
              "        vertical-align: top;\n",
              "    }\n",
              "\n",
              "    .dataframe thead th {\n",
              "        text-align: right;\n",
              "    }\n",
              "</style>\n",
              "<table border=\"1\" class=\"dataframe\">\n",
              "  <thead>\n",
              "    <tr style=\"text-align: right;\">\n",
              "      <th></th>\n",
              "      <th>Y_actual</th>\n",
              "      <th>Y_prediction</th>\n",
              "    </tr>\n",
              "  </thead>\n",
              "  <tbody>\n",
              "    <tr>\n",
              "      <th>0</th>\n",
              "      <td>Placed</td>\n",
              "      <td>Placed</td>\n",
              "    </tr>\n",
              "    <tr>\n",
              "      <th>1</th>\n",
              "      <td>Not Placed</td>\n",
              "      <td>Placed</td>\n",
              "    </tr>\n",
              "    <tr>\n",
              "      <th>2</th>\n",
              "      <td>Placed</td>\n",
              "      <td>Placed</td>\n",
              "    </tr>\n",
              "    <tr>\n",
              "      <th>3</th>\n",
              "      <td>Placed</td>\n",
              "      <td>Placed</td>\n",
              "    </tr>\n",
              "    <tr>\n",
              "      <th>4</th>\n",
              "      <td>Placed</td>\n",
              "      <td>Placed</td>\n",
              "    </tr>\n",
              "    <tr>\n",
              "      <th>5</th>\n",
              "      <td>Not Placed</td>\n",
              "      <td>Not Placed</td>\n",
              "    </tr>\n",
              "    <tr>\n",
              "      <th>6</th>\n",
              "      <td>Placed</td>\n",
              "      <td>Placed</td>\n",
              "    </tr>\n",
              "    <tr>\n",
              "      <th>7</th>\n",
              "      <td>Not Placed</td>\n",
              "      <td>Not Placed</td>\n",
              "    </tr>\n",
              "    <tr>\n",
              "      <th>8</th>\n",
              "      <td>Placed</td>\n",
              "      <td>Placed</td>\n",
              "    </tr>\n",
              "    <tr>\n",
              "      <th>9</th>\n",
              "      <td>Placed</td>\n",
              "      <td>Placed</td>\n",
              "    </tr>\n",
              "    <tr>\n",
              "      <th>10</th>\n",
              "      <td>Placed</td>\n",
              "      <td>Placed</td>\n",
              "    </tr>\n",
              "    <tr>\n",
              "      <th>11</th>\n",
              "      <td>Placed</td>\n",
              "      <td>Placed</td>\n",
              "    </tr>\n",
              "    <tr>\n",
              "      <th>12</th>\n",
              "      <td>Not Placed</td>\n",
              "      <td>Not Placed</td>\n",
              "    </tr>\n",
              "    <tr>\n",
              "      <th>13</th>\n",
              "      <td>Placed</td>\n",
              "      <td>Placed</td>\n",
              "    </tr>\n",
              "    <tr>\n",
              "      <th>14</th>\n",
              "      <td>Not Placed</td>\n",
              "      <td>Not Placed</td>\n",
              "    </tr>\n",
              "    <tr>\n",
              "      <th>15</th>\n",
              "      <td>Not Placed</td>\n",
              "      <td>Not Placed</td>\n",
              "    </tr>\n",
              "    <tr>\n",
              "      <th>16</th>\n",
              "      <td>Placed</td>\n",
              "      <td>Not Placed</td>\n",
              "    </tr>\n",
              "    <tr>\n",
              "      <th>17</th>\n",
              "      <td>Placed</td>\n",
              "      <td>Placed</td>\n",
              "    </tr>\n",
              "    <tr>\n",
              "      <th>18</th>\n",
              "      <td>Placed</td>\n",
              "      <td>Placed</td>\n",
              "    </tr>\n",
              "    <tr>\n",
              "      <th>19</th>\n",
              "      <td>Placed</td>\n",
              "      <td>Placed</td>\n",
              "    </tr>\n",
              "    <tr>\n",
              "      <th>20</th>\n",
              "      <td>Placed</td>\n",
              "      <td>Placed</td>\n",
              "    </tr>\n",
              "    <tr>\n",
              "      <th>21</th>\n",
              "      <td>Placed</td>\n",
              "      <td>Placed</td>\n",
              "    </tr>\n",
              "    <tr>\n",
              "      <th>22</th>\n",
              "      <td>Placed</td>\n",
              "      <td>Placed</td>\n",
              "    </tr>\n",
              "    <tr>\n",
              "      <th>23</th>\n",
              "      <td>Placed</td>\n",
              "      <td>Placed</td>\n",
              "    </tr>\n",
              "    <tr>\n",
              "      <th>24</th>\n",
              "      <td>Not Placed</td>\n",
              "      <td>Not Placed</td>\n",
              "    </tr>\n",
              "    <tr>\n",
              "      <th>25</th>\n",
              "      <td>Placed</td>\n",
              "      <td>Placed</td>\n",
              "    </tr>\n",
              "    <tr>\n",
              "      <th>26</th>\n",
              "      <td>Placed</td>\n",
              "      <td>Placed</td>\n",
              "    </tr>\n",
              "    <tr>\n",
              "      <th>27</th>\n",
              "      <td>Not Placed</td>\n",
              "      <td>Not Placed</td>\n",
              "    </tr>\n",
              "    <tr>\n",
              "      <th>28</th>\n",
              "      <td>Placed</td>\n",
              "      <td>Placed</td>\n",
              "    </tr>\n",
              "    <tr>\n",
              "      <th>29</th>\n",
              "      <td>Placed</td>\n",
              "      <td>Placed</td>\n",
              "    </tr>\n",
              "    <tr>\n",
              "      <th>30</th>\n",
              "      <td>Not Placed</td>\n",
              "      <td>Placed</td>\n",
              "    </tr>\n",
              "    <tr>\n",
              "      <th>31</th>\n",
              "      <td>Placed</td>\n",
              "      <td>Placed</td>\n",
              "    </tr>\n",
              "    <tr>\n",
              "      <th>32</th>\n",
              "      <td>Placed</td>\n",
              "      <td>Placed</td>\n",
              "    </tr>\n",
              "    <tr>\n",
              "      <th>33</th>\n",
              "      <td>Placed</td>\n",
              "      <td>Placed</td>\n",
              "    </tr>\n",
              "    <tr>\n",
              "      <th>34</th>\n",
              "      <td>Placed</td>\n",
              "      <td>Placed</td>\n",
              "    </tr>\n",
              "    <tr>\n",
              "      <th>35</th>\n",
              "      <td>Placed</td>\n",
              "      <td>Placed</td>\n",
              "    </tr>\n",
              "    <tr>\n",
              "      <th>36</th>\n",
              "      <td>Placed</td>\n",
              "      <td>Placed</td>\n",
              "    </tr>\n",
              "    <tr>\n",
              "      <th>37</th>\n",
              "      <td>Not Placed</td>\n",
              "      <td>Not Placed</td>\n",
              "    </tr>\n",
              "    <tr>\n",
              "      <th>38</th>\n",
              "      <td>Placed</td>\n",
              "      <td>Placed</td>\n",
              "    </tr>\n",
              "    <tr>\n",
              "      <th>39</th>\n",
              "      <td>Placed</td>\n",
              "      <td>Placed</td>\n",
              "    </tr>\n",
              "    <tr>\n",
              "      <th>40</th>\n",
              "      <td>Not Placed</td>\n",
              "      <td>Not Placed</td>\n",
              "    </tr>\n",
              "    <tr>\n",
              "      <th>41</th>\n",
              "      <td>Not Placed</td>\n",
              "      <td>Placed</td>\n",
              "    </tr>\n",
              "    <tr>\n",
              "      <th>42</th>\n",
              "      <td>Placed</td>\n",
              "      <td>Placed</td>\n",
              "    </tr>\n",
              "    <tr>\n",
              "      <th>43</th>\n",
              "      <td>Placed</td>\n",
              "      <td>Placed</td>\n",
              "    </tr>\n",
              "    <tr>\n",
              "      <th>44</th>\n",
              "      <td>Placed</td>\n",
              "      <td>Placed</td>\n",
              "    </tr>\n",
              "    <tr>\n",
              "      <th>45</th>\n",
              "      <td>Not Placed</td>\n",
              "      <td>Not Placed</td>\n",
              "    </tr>\n",
              "    <tr>\n",
              "      <th>46</th>\n",
              "      <td>Placed</td>\n",
              "      <td>Placed</td>\n",
              "    </tr>\n",
              "    <tr>\n",
              "      <th>47</th>\n",
              "      <td>Placed</td>\n",
              "      <td>Placed</td>\n",
              "    </tr>\n",
              "    <tr>\n",
              "      <th>48</th>\n",
              "      <td>Placed</td>\n",
              "      <td>Placed</td>\n",
              "    </tr>\n",
              "    <tr>\n",
              "      <th>49</th>\n",
              "      <td>Not Placed</td>\n",
              "      <td>Not Placed</td>\n",
              "    </tr>\n",
              "  </tbody>\n",
              "</table>\n",
              "</div>"
            ],
            "text/plain": [
              "      Y_actual Y_prediction\n",
              "0       Placed       Placed\n",
              "1   Not Placed       Placed\n",
              "2       Placed       Placed\n",
              "3       Placed       Placed\n",
              "4       Placed       Placed\n",
              "5   Not Placed   Not Placed\n",
              "6       Placed       Placed\n",
              "7   Not Placed   Not Placed\n",
              "8       Placed       Placed\n",
              "9       Placed       Placed\n",
              "10      Placed       Placed\n",
              "11      Placed       Placed\n",
              "12  Not Placed   Not Placed\n",
              "13      Placed       Placed\n",
              "14  Not Placed   Not Placed\n",
              "15  Not Placed   Not Placed\n",
              "16      Placed   Not Placed\n",
              "17      Placed       Placed\n",
              "18      Placed       Placed\n",
              "19      Placed       Placed\n",
              "20      Placed       Placed\n",
              "21      Placed       Placed\n",
              "22      Placed       Placed\n",
              "23      Placed       Placed\n",
              "24  Not Placed   Not Placed\n",
              "25      Placed       Placed\n",
              "26      Placed       Placed\n",
              "27  Not Placed   Not Placed\n",
              "28      Placed       Placed\n",
              "29      Placed       Placed\n",
              "30  Not Placed       Placed\n",
              "31      Placed       Placed\n",
              "32      Placed       Placed\n",
              "33      Placed       Placed\n",
              "34      Placed       Placed\n",
              "35      Placed       Placed\n",
              "36      Placed       Placed\n",
              "37  Not Placed   Not Placed\n",
              "38      Placed       Placed\n",
              "39      Placed       Placed\n",
              "40  Not Placed   Not Placed\n",
              "41  Not Placed       Placed\n",
              "42      Placed       Placed\n",
              "43      Placed       Placed\n",
              "44      Placed       Placed\n",
              "45  Not Placed   Not Placed\n",
              "46      Placed       Placed\n",
              "47      Placed       Placed\n",
              "48      Placed       Placed\n",
              "49  Not Placed   Not Placed"
            ]
          },
          "execution_count": 172,
          "metadata": {},
          "output_type": "execute_result"
        }
      ],
      "source": [
        "A = pd.Series(Y_Actual)\n",
        "B = pd.Series(Y_prediction)\n",
        "\n",
        "pd.concat([A,B],axis=1).rename(columns = {0:\"Y_actual\",1:\"Y_prediction\"}).head(50)"
      ]
    },
    {
      "cell_type": "code",
      "execution_count": null,
      "id": "eb662c58",
      "metadata": {
        "id": "eb662c58"
      },
      "outputs": [],
      "source": [
        "# new_X_data = X_test[15,0:]"
      ]
    },
    {
      "cell_type": "code",
      "execution_count": null,
      "id": "cffddbce",
      "metadata": {
        "id": "cffddbce",
        "outputId": "a22095b6-09e5-4a36-8491-f2aafea65fbb"
      },
      "outputs": [
        {
          "name": "stdout",
          "output_type": "stream",
          "text": [
            "Placed\n"
          ]
        }
      ],
      "source": [
        "\n",
        "\n",
        "joblib.dump(reg,'logistic_regression_model.pkl')\n",
        "# # Load new data\n",
        "new_data = new_X_data.reshape(1, -1)\n",
        "\n",
        "# Load the saved logistic regression model\n",
        "log_reg_model = joblib.load('logistic_regression_model.pkl')\n",
        "\n",
        "# Make predictions\n",
        "predictions = log_reg_model.predict(new_data)\n",
        "\n",
        "if predictions == 1:\n",
        "    print(\"Placed\")\n",
        "else:\n",
        "    print(\"Not Placed\")\n"
      ]
    },
    {
      "cell_type": "code",
      "execution_count": null,
      "id": "b5b7504a",
      "metadata": {
        "id": "b5b7504a"
      },
      "outputs": [],
      "source": []
    },
    {
      "cell_type": "code",
      "execution_count": null,
      "id": "41331dda-3c7c-4039-8a93-3bf063dfb1cd",
      "metadata": {
        "id": "41331dda-3c7c-4039-8a93-3bf063dfb1cd",
        "outputId": "1cbf15d9-6424-46f0-c126-7e66da0e4c54"
      },
      "outputs": [
        {
          "data": {
            "text/plain": [
              "['Placed',\n",
              " 'Not Placed',\n",
              " 'Placed',\n",
              " 'Placed',\n",
              " 'Placed',\n",
              " 'Not Placed',\n",
              " 'Placed',\n",
              " 'Not Placed',\n",
              " 'Placed',\n",
              " 'Placed',\n",
              " 'Placed',\n",
              " 'Placed',\n",
              " 'Not Placed',\n",
              " 'Placed',\n",
              " 'Not Placed',\n",
              " 'Not Placed',\n",
              " 'Placed',\n",
              " 'Placed',\n",
              " 'Placed',\n",
              " 'Placed',\n",
              " 'Placed',\n",
              " 'Placed',\n",
              " 'Placed',\n",
              " 'Placed',\n",
              " 'Not Placed',\n",
              " 'Placed',\n",
              " 'Placed',\n",
              " 'Not Placed',\n",
              " 'Placed',\n",
              " 'Placed',\n",
              " 'Not Placed',\n",
              " 'Placed',\n",
              " 'Placed',\n",
              " 'Placed',\n",
              " 'Placed',\n",
              " 'Placed',\n",
              " 'Placed',\n",
              " 'Not Placed',\n",
              " 'Placed',\n",
              " 'Placed',\n",
              " 'Not Placed',\n",
              " 'Not Placed',\n",
              " 'Placed',\n",
              " 'Placed',\n",
              " 'Placed',\n",
              " 'Not Placed',\n",
              " 'Placed',\n",
              " 'Placed',\n",
              " 'Placed',\n",
              " 'Not Placed',\n",
              " 'Placed',\n",
              " 'Not Placed',\n",
              " 'Placed',\n",
              " 'Not Placed',\n",
              " 'Placed',\n",
              " 'Placed',\n",
              " 'Not Placed',\n",
              " 'Not Placed',\n",
              " 'Placed',\n",
              " 'Placed',\n",
              " 'Not Placed',\n",
              " 'Placed']"
            ]
          },
          "execution_count": 176,
          "metadata": {},
          "output_type": "execute_result"
        }
      ],
      "source": [
        "Y_Actual"
      ]
    },
    {
      "cell_type": "code",
      "execution_count": null,
      "id": "08b31285-2be1-45d2-a0d5-7cb4626971ac",
      "metadata": {
        "id": "08b31285-2be1-45d2-a0d5-7cb4626971ac"
      },
      "outputs": [],
      "source": []
    }
  ],
  "metadata": {
    "kernelspec": {
      "display_name": "Python 3 (ipykernel)",
      "language": "python",
      "name": "python3"
    },
    "language_info": {
      "codemirror_mode": {
        "name": "ipython",
        "version": 3
      },
      "file_extension": ".py",
      "mimetype": "text/x-python",
      "name": "python",
      "nbconvert_exporter": "python",
      "pygments_lexer": "ipython3",
      "version": "3.12.4"
    },
    "colab": {
      "provenance": [],
      "include_colab_link": true
    }
  },
  "nbformat": 4,
  "nbformat_minor": 5
}