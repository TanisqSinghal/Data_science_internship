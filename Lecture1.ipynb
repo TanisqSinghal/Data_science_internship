{
  "nbformat": 4,
  "nbformat_minor": 0,
  "metadata": {
    "colab": {
      "provenance": [],
      "authorship_tag": "ABX9TyMvOLN3EmfAXGbkAVCmUTKj",
      "include_colab_link": true
    },
    "kernelspec": {
      "name": "python3",
      "display_name": "Python 3"
    },
    "language_info": {
      "name": "python"
    }
  },
  "cells": [
    {
      "cell_type": "markdown",
      "metadata": {
        "id": "view-in-github",
        "colab_type": "text"
      },
      "source": [
        "<a href=\"https://colab.research.google.com/github/TanisqSinghal/Data_science_internship/blob/main/Lecture1.ipynb\" target=\"_parent\"><img src=\"https://colab.research.google.com/assets/colab-badge.svg\" alt=\"Open In Colab\"/></a>"
      ]
    },
    {
      "cell_type": "code",
      "execution_count": null,
      "metadata": {
        "id": "oMBxgPfdDNXp",
        "colab": {
          "base_uri": "https://localhost:8080/"
        },
        "outputId": "90fe9807-a066-4522-b185-cd91a004ce5d"
      },
      "outputs": [
        {
          "output_type": "stream",
          "name": "stdout",
          "text": [
            "1\n"
          ]
        }
      ],
      "source": [
        "print(4%3);\n",
        "# dict1 = {a:[1,2,3], b:(1,2,3)};\n",
        "# print(dict1);"
      ]
    },
    {
      "cell_type": "code",
      "source": [
        "print(2<=2);"
      ],
      "metadata": {
        "colab": {
          "base_uri": "https://localhost:8080/"
        },
        "id": "DqVfj_6caQMg",
        "outputId": "2c35d2aa-9551-4345-8e58-7bd355ebec04"
      },
      "execution_count": null,
      "outputs": [
        {
          "output_type": "stream",
          "name": "stdout",
          "text": [
            "True\n"
          ]
        }
      ]
    },
    {
      "cell_type": "code",
      "source": [
        "print(2>=2)"
      ],
      "metadata": {
        "colab": {
          "base_uri": "https://localhost:8080/"
        },
        "id": "AHjKkKFoamxs",
        "outputId": "3248e126-e836-45b2-d0b5-eccb27ca9222"
      },
      "execution_count": null,
      "outputs": [
        {
          "output_type": "stream",
          "name": "stdout",
          "text": [
            "True\n"
          ]
        }
      ]
    },
    {
      "cell_type": "code",
      "source": [
        "print(3>=2)"
      ],
      "metadata": {
        "colab": {
          "base_uri": "https://localhost:8080/"
        },
        "id": "VKIlcXpMarcD",
        "outputId": "fa82b5b8-06db-4090-f71b-57da22d7c86c"
      },
      "execution_count": null,
      "outputs": [
        {
          "output_type": "stream",
          "name": "stdout",
          "text": [
            "True\n"
          ]
        }
      ]
    },
    {
      "cell_type": "markdown",
      "source": [
        "#Intro to strings\n",
        "\n",
        "\n",
        "1.   how to define strings\n",
        "2.   strings are immutable\n",
        "3.    strings follow sequence means index start from 0\n",
        "4. strings has len() function to calculate length of a string\n"
      ],
      "metadata": {
        "id": "po3mV27qdaaH"
      }
    },
    {
      "cell_type": "code",
      "source": [
        "#intro to strings\n",
        "a = \"information\"\n",
        "type(a)\n",
        "#indexing start from 0 in string\n",
        "#string is immutable"
      ],
      "metadata": {
        "colab": {
          "base_uri": "https://localhost:8080/"
        },
        "id": "d9UNQD2za1rZ",
        "outputId": "28143a6a-f941-4970-8631-8d047c28644c"
      },
      "execution_count": null,
      "outputs": [
        {
          "output_type": "execute_result",
          "data": {
            "text/plain": [
              "str"
            ]
          },
          "metadata": {},
          "execution_count": 23
        }
      ]
    },
    {
      "cell_type": "code",
      "source": [
        "my_first_string = \"algebra\"\n",
        "print(my_first_string + \"cde\");"
      ],
      "metadata": {
        "colab": {
          "base_uri": "https://localhost:8080/"
        },
        "id": "JzYRPxoFcqzF",
        "outputId": "64ac8484-2e7b-46e0-80fe-a6736a0de616"
      },
      "execution_count": null,
      "outputs": [
        {
          "output_type": "stream",
          "name": "stdout",
          "text": [
            "algebracde\n"
          ]
        }
      ]
    },
    {
      "cell_type": "code",
      "source": [
        "my_first_string = \"algebra\"\n",
        "len(my_first_string) # function"
      ],
      "metadata": {
        "colab": {
          "base_uri": "https://localhost:8080/"
        },
        "id": "lndhBhSZeHPg",
        "outputId": "b23bbfb0-3d54-43a9-bb8c-24294b9cba63"
      },
      "execution_count": null,
      "outputs": [
        {
          "output_type": "execute_result",
          "data": {
            "text/plain": [
              "7"
            ]
          },
          "metadata": {},
          "execution_count": 3
        }
      ]
    },
    {
      "cell_type": "code",
      "source": [
        "str1 = \"principal component analysis\"\n",
        "print(str1);\n",
        "print(str1[::3]);\n",
        "print(str1[::2])\n",
        "print(str1[::-1])\n",
        "print(str1[4:2:-1])\n",
        "s = \"foobar\"\n",
        "print(s[4:2:-1])"
      ],
      "metadata": {
        "colab": {
          "base_uri": "https://localhost:8080/"
        },
        "id": "Vn-FhLqmeaTQ",
        "outputId": "085ca14b-d3cd-46b2-bfeb-fcbafc639b56"
      },
      "execution_count": null,
      "outputs": [
        {
          "output_type": "stream",
          "name": "stdout",
          "text": [
            "principal component analysis\n",
            "pnp mntnys\n",
            "picplcmoetaayi\n",
            "sisylana tnenopmoc lapicnirp\n",
            "cn\n",
            "ab\n"
          ]
        }
      ]
    },
    {
      "cell_type": "markdown",
      "source": [
        "#CONCATINATION\n"
      ],
      "metadata": {
        "id": "vJjOez-62-2u"
      }
    },
    {
      "cell_type": "code",
      "source": [
        "#concatenate strings\n",
        "a = \"Tanishak\"\n",
        "b = \"Singhal\"\n",
        "print(a + \" \" + b);\n",
        "print(a + \"4\" + b);\n",
        "print(\"abc\"*4)"
      ],
      "metadata": {
        "colab": {
          "base_uri": "https://localhost:8080/"
        },
        "id": "TJKfKt9y2xXx",
        "outputId": "a9138d9c-400c-424a-abc8-7e4c598f2c0c"
      },
      "execution_count": null,
      "outputs": [
        {
          "output_type": "stream",
          "name": "stdout",
          "text": [
            "Tanishak Singhal\n",
            "Tanishak4Singhal\n",
            "abcabcabcabc\n"
          ]
        }
      ]
    },
    {
      "cell_type": "markdown",
      "source": [
        "#lower() method:"
      ],
      "metadata": {
        "id": "zWaHqr9M4FpI"
      }
    },
    {
      "cell_type": "code",
      "source": [
        "a = \"TANISHAK\";\n",
        "a.lower() #method -> string class\n",
        "a.upper() #method -> string class"
      ],
      "metadata": {
        "colab": {
          "base_uri": "https://localhost:8080/",
          "height": 35
        },
        "id": "l75DYGbG4Is-",
        "outputId": "3c52995e-ebf9-4ee5-927e-93dff70c3a1f"
      },
      "execution_count": null,
      "outputs": [
        {
          "output_type": "execute_result",
          "data": {
            "text/plain": [
              "'TANISHAK'"
            ],
            "application/vnd.google.colaboratory.intrinsic+json": {
              "type": "string"
            }
          },
          "metadata": {},
          "execution_count": 12
        }
      ]
    },
    {
      "cell_type": "markdown",
      "source": [
        "#count() method"
      ],
      "metadata": {
        "id": "sOyk8xHW6azz"
      }
    },
    {
      "cell_type": "code",
      "source": [
        "a = \"Tanishak\"\n",
        "a.count(\" \")"
      ],
      "metadata": {
        "colab": {
          "base_uri": "https://localhost:8080/"
        },
        "id": "NvGer8Ae6ean",
        "outputId": "dc46195d-9657-4eaa-e3a9-8fb12243fd47"
      },
      "execution_count": null,
      "outputs": [
        {
          "output_type": "execute_result",
          "data": {
            "text/plain": [
              "0"
            ]
          },
          "metadata": {},
          "execution_count": 15
        }
      ]
    },
    {
      "cell_type": "markdown",
      "source": [
        "#find() method\n"
      ],
      "metadata": {
        "id": "xlNi_4Kj6xRk"
      }
    },
    {
      "cell_type": "code",
      "source": [
        "a = \"Tanishak\"\n",
        "b = \"is\"\n",
        "a.find(\"m\")"
      ],
      "metadata": {
        "colab": {
          "base_uri": "https://localhost:8080/"
        },
        "id": "_rO4npz46zqr",
        "outputId": "d32e08fe-d7a8-4898-9bbb-8f97e749a347"
      },
      "execution_count": null,
      "outputs": [
        {
          "output_type": "execute_result",
          "data": {
            "text/plain": [
              "-1"
            ]
          },
          "metadata": {},
          "execution_count": 19
        }
      ]
    },
    {
      "cell_type": "markdown",
      "source": [
        "#replace() method\n"
      ],
      "metadata": {
        "id": "4OZ2D2s88txD"
      }
    },
    {
      "cell_type": "code",
      "source": [
        "algorithm = \"Neural Networks\"\n",
        "algorithm.replace(\" \", \"-\") #creates new string and return it as strings are immutable"
      ],
      "metadata": {
        "colab": {
          "base_uri": "https://localhost:8080/",
          "height": 35
        },
        "id": "zCpOWoDQ8xFl",
        "outputId": "fb469ee4-db27-472f-be88-7a430bdfbab5"
      },
      "execution_count": null,
      "outputs": [
        {
          "output_type": "execute_result",
          "data": {
            "text/plain": [
              "'Neural-Networks'"
            ],
            "application/vnd.google.colaboratory.intrinsic+json": {
              "type": "string"
            }
          },
          "metadata": {},
          "execution_count": 21
        }
      ]
    },
    {
      "cell_type": "code",
      "source": [
        "first_name = \"Tanishak\"\n",
        "last_name = \"Singhal\"\n",
        "first_name = f'{first_name} {last_name}'\n",
        "print(first_name)"
      ],
      "metadata": {
        "colab": {
          "base_uri": "https://localhost:8080/"
        },
        "id": "5Ln4VHp5-JqE",
        "outputId": "938c4723-0a94-4045-fa39-fc1097358f98"
      },
      "execution_count": null,
      "outputs": [
        {
          "output_type": "stream",
          "name": "stdout",
          "text": [
            "Tanishak Singhal\n"
          ]
        }
      ]
    },
    {
      "cell_type": "markdown",
      "source": [
        "#Lists"
      ],
      "metadata": {
        "id": "sn6RwsBE_O9B"
      }
    },
    {
      "cell_type": "code",
      "source": [
        "list1 = [\"A string\", 23, 100, 232, \"o\", True];\n",
        "len(list1)\n",
        "list1[0].lower()\n",
        "list1[0].find(\"A\")\n",
        "list1[0].replace(\" \", \"-\")\n",
        "list1[0] = f\"everything matters {list1[0]} {list1[4]}\"\n",
        "print(list1[0]);"
      ],
      "metadata": {
        "colab": {
          "base_uri": "https://localhost:8080/"
        },
        "id": "Nwio3mYx_RPO",
        "outputId": "c2dac2d3-3ac6-4b2c-8e1c-7b26514ef6b0"
      },
      "execution_count": null,
      "outputs": [
        {
          "output_type": "stream",
          "name": "stdout",
          "text": [
            "everything matters A string o\n"
          ]
        }
      ]
    },
    {
      "cell_type": "markdown",
      "source": [
        "#sum(), max(), min(), sorted() method\n"
      ],
      "metadata": {
        "id": "2GAoGNZgDGlF"
      }
    },
    {
      "cell_type": "code",
      "source": [
        "my_list = [1,2,3,4,5]\n",
        "list1 = [\"A string\", 23, 100, 232, \"o\", True];\n",
        "\n",
        "sum(my_list)\n",
        "max(my_list)\n",
        "min(my_list)\n",
        "mean = sum(my_list)/len(my_list)\n",
        "print(mean)\n",
        "sorted(my_list)"
      ],
      "metadata": {
        "colab": {
          "base_uri": "https://localhost:8080/"
        },
        "id": "AJtXNsWaDL2U",
        "outputId": "fa6cc524-f159-4df0-f603-5dfbb41ebf49"
      },
      "execution_count": null,
      "outputs": [
        {
          "output_type": "stream",
          "name": "stdout",
          "text": [
            "3.0\n"
          ]
        },
        {
          "output_type": "execute_result",
          "data": {
            "text/plain": [
              "[1, 2, 3, 4, 5]"
            ]
          },
          "metadata": {},
          "execution_count": 46
        }
      ]
    },
    {
      "cell_type": "markdown",
      "source": [
        "#append() method"
      ],
      "metadata": {
        "id": "KZVP8egaFtCO"
      }
    },
    {
      "cell_type": "code",
      "source": [
        "my_list = [1,2,3,4,5]\n",
        "# my_list.append([6,7,8]) #append only one element at a time\n",
        "my_list.extend([6,7,8])\n",
        "print(my_list)\n",
        "my_list.extend([9,10,11])#append multiple elements at a time\n",
        "print(my_list)"
      ],
      "metadata": {
        "colab": {
          "base_uri": "https://localhost:8080/"
        },
        "id": "8MAIUj2YFz5s",
        "outputId": "c3709b21-4e91-4081-be5d-91b631d2e914"
      },
      "execution_count": null,
      "outputs": [
        {
          "output_type": "stream",
          "name": "stdout",
          "text": [
            "[1, 2, 3, 4, 5, 6, 7, 8]\n",
            "[1, 2, 3, 4, 5, 6, 7, 8, 9, 10, 11]\n"
          ]
        }
      ]
    },
    {
      "cell_type": "markdown",
      "source": [
        "#pop() method"
      ],
      "metadata": {
        "id": "pzCVavE8JYLB"
      }
    },
    {
      "cell_type": "code",
      "source": [
        "my_list = [1,2,3,4,5];\n",
        "my_list.pop(1) #takes index as a argument"
      ],
      "metadata": {
        "colab": {
          "base_uri": "https://localhost:8080/"
        },
        "id": "IfCO41KhJaCq",
        "outputId": "58812e23-2f1a-4773-f4d6-21446c151c69"
      },
      "execution_count": null,
      "outputs": [
        {
          "output_type": "execute_result",
          "data": {
            "text/plain": [
              "2"
            ]
          },
          "metadata": {},
          "execution_count": 57
        }
      ]
    },
    {
      "cell_type": "markdown",
      "source": [
        "#remove() method"
      ],
      "metadata": {
        "id": "CO_YEK3AJ8rZ"
      }
    },
    {
      "cell_type": "code",
      "source": [
        "my_list = [1,2,3,4,5];\n",
        "my_list.remove(4) #takes element of a list as an argument\n",
        "print(my_list)"
      ],
      "metadata": {
        "colab": {
          "base_uri": "https://localhost:8080/"
        },
        "id": "5Ig27nurKBhK",
        "outputId": "1fc6c2ce-15de-4545-f79f-c1661740bbfd"
      },
      "execution_count": null,
      "outputs": [
        {
          "output_type": "stream",
          "name": "stdout",
          "text": [
            "[1, 2, 3, 5]\n"
          ]
        }
      ]
    },
    {
      "cell_type": "markdown",
      "source": [
        "#Nested lists"
      ],
      "metadata": {
        "id": "KAH3dycjMP5P"
      }
    },
    {
      "cell_type": "code",
      "source": [
        "my_lists = [[1,2,3], [\"b\", \"a\", \"d\"], [7,8,9]] #list inside a list\n",
        "print(my_lists[0][0:2]) #slicing in nested list"
      ],
      "metadata": {
        "colab": {
          "base_uri": "https://localhost:8080/"
        },
        "id": "66V_AFw7MSwx",
        "outputId": "5616b38e-1877-41d4-fcaf-f1a0f43e5c5c"
      },
      "execution_count": null,
      "outputs": [
        {
          "output_type": "stream",
          "name": "stdout",
          "text": [
            "[1, 2]\n"
          ]
        }
      ]
    }
  ]
}