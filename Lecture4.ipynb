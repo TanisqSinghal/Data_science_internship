{
  "nbformat": 4,
  "nbformat_minor": 0,
  "metadata": {
    "colab": {
      "provenance": [],
      "authorship_tag": "ABX9TyPYxmECyWXREWC729YTomoo",
      "include_colab_link": true
    },
    "kernelspec": {
      "name": "python3",
      "display_name": "Python 3"
    },
    "language_info": {
      "name": "python"
    }
  },
  "cells": [
    {
      "cell_type": "markdown",
      "metadata": {
        "id": "view-in-github",
        "colab_type": "text"
      },
      "source": [
        "<a href=\"https://colab.research.google.com/github/TanisqSinghal/Data_science_internship/blob/main/Lecture4.ipynb\" target=\"_parent\"><img src=\"https://colab.research.google.com/assets/colab-badge.svg\" alt=\"Open In Colab\"/></a>"
      ]
    },
    {
      "cell_type": "markdown",
      "source": [],
      "metadata": {
        "id": "_0oah1JWg44u"
      }
    },
    {
      "cell_type": "markdown",
      "source": [
        "#FUNCTIONS IN PYTHON"
      ],
      "metadata": {
        "id": "mUaH6TiTg6DD"
      }
    },
    {
      "cell_type": "markdown",
      "source": [
        "##BUILT-IN FUNCTIONS"
      ],
      "metadata": {
        "id": "MN5M3QT4iI2i"
      }
    },
    {
      "cell_type": "code",
      "source": [
        "print(abs(-67))\n",
        "print(sorted([2,4,1,2]))"
      ],
      "metadata": {
        "colab": {
          "base_uri": "https://localhost:8080/"
        },
        "id": "f2aEtFPCiLhz",
        "outputId": "e352d7aa-dd7f-46d6-bfbe-5514583cb3e1"
      },
      "execution_count": null,
      "outputs": [
        {
          "output_type": "stream",
          "name": "stdout",
          "text": [
            "67\n",
            "[1, 2, 2, 4]\n"
          ]
        }
      ]
    },
    {
      "cell_type": "markdown",
      "source": [
        "###map() function"
      ],
      "metadata": {
        "id": "_I4QCEQuiX61"
      }
    },
    {
      "cell_type": "code",
      "source": [
        "num = [1,2,3,4,5]\n",
        "str_num = list(map(str, num))\n",
        "print(str_num)"
      ],
      "metadata": {
        "colab": {
          "base_uri": "https://localhost:8080/"
        },
        "id": "Cjye7y1Riakr",
        "outputId": "b85f0f4b-a685-4edb-fa5c-7e1efe161395"
      },
      "execution_count": null,
      "outputs": [
        {
          "output_type": "stream",
          "name": "stdout",
          "text": [
            "['1', '2', '3', '4', '5']\n"
          ]
        }
      ]
    },
    {
      "cell_type": "code",
      "source": [
        "strings = [\"apple\", \"mango\", \"banana\"]\n",
        "length = list(map(len, strings))\n",
        "print(length)"
      ],
      "metadata": {
        "colab": {
          "base_uri": "https://localhost:8080/"
        },
        "id": "hTVmhXj6j6_M",
        "outputId": "7d14a335-445d-4d9b-a645-63a09505ae32"
      },
      "execution_count": null,
      "outputs": [
        {
          "output_type": "stream",
          "name": "stdout",
          "text": [
            "[5, 5, 6]\n"
          ]
        }
      ]
    },
    {
      "cell_type": "code",
      "source": [
        "words = [\"hello\", \"world\", \"again\" ]\n",
        "capital = list(map(str.capitalize, words))\n",
        "print(capital)"
      ],
      "metadata": {
        "colab": {
          "base_uri": "https://localhost:8080/"
        },
        "id": "UrN2azrhkL0W",
        "outputId": "0e43b73d-bf24-488a-cc28-1cc07699542b"
      },
      "execution_count": null,
      "outputs": [
        {
          "output_type": "stream",
          "name": "stdout",
          "text": [
            "['Hello', 'World', 'Again']\n"
          ]
        }
      ]
    },
    {
      "cell_type": "markdown",
      "source": [
        "##LAMBDA FUNCTIONS"
      ],
      "metadata": {
        "id": "PYXzp5J5lJfU"
      }
    },
    {
      "cell_type": "code",
      "source": [
        "multiply = lambda x, y : x*y\n",
        "print(multiply(7,8))"
      ],
      "metadata": {
        "colab": {
          "base_uri": "https://localhost:8080/"
        },
        "id": "AEvzXNgelL5C",
        "outputId": "ed106fe4-1185-46c1-8377-e57751be0622"
      },
      "execution_count": null,
      "outputs": [
        {
          "output_type": "stream",
          "name": "stdout",
          "text": [
            "56\n"
          ]
        }
      ]
    },
    {
      "cell_type": "code",
      "source": [
        "numbers = [1,2,3,4]\n",
        "squared_num = list(map(lambda x : x**2, numbers))\n",
        "print(squared_num)"
      ],
      "metadata": {
        "colab": {
          "base_uri": "https://localhost:8080/"
        },
        "id": "tme9WjcpmEBl",
        "outputId": "8243e2bf-c161-48e8-af72-71414d267dcc"
      },
      "execution_count": null,
      "outputs": [
        {
          "output_type": "stream",
          "name": "stdout",
          "text": [
            "[1, 4, 9, 16]\n"
          ]
        }
      ]
    },
    {
      "cell_type": "code",
      "source": [
        "numbers = [1,2,3,4,5,6,7,8,9,10]\n",
        "even_num = list(filter(lambda x : x % 2 == 0, numbers))\n",
        "print(even_num)"
      ],
      "metadata": {
        "colab": {
          "base_uri": "https://localhost:8080/"
        },
        "id": "9AmqEK3oml8r",
        "outputId": "02c74a8f-184d-4b52-caed-fc6bcb5f7d97"
      },
      "execution_count": null,
      "outputs": [
        {
          "output_type": "stream",
          "name": "stdout",
          "text": [
            "[2, 4, 6, 8, 10]\n"
          ]
        }
      ]
    },
    {
      "cell_type": "code",
      "source": [
        "tuples = [(1, \"one\"), (2, \"two\"), (3, \"three\"), (4, \"four\")]\n",
        "sorted_tuple = sorted(tuples, key=lambda x : x[1])\n",
        "print(sorted_tuple)"
      ],
      "metadata": {
        "colab": {
          "base_uri": "https://localhost:8080/"
        },
        "id": "tufOoUdFpHUd",
        "outputId": "4226a140-cd52-4c91-eedd-06b78141d63b"
      },
      "execution_count": null,
      "outputs": [
        {
          "output_type": "stream",
          "name": "stdout",
          "text": [
            "[(4, 'four'), (1, 'one'), (3, 'three'), (2, 'two')]\n"
          ]
        }
      ]
    },
    {
      "cell_type": "markdown",
      "source": [
        "##USER-DEFINES FUNCTIONS"
      ],
      "metadata": {
        "id": "kjjYUd_qh-35"
      }
    },
    {
      "cell_type": "code",
      "source": [
        "#syntax of function\n",
        "def function_name(parameters) :\n",
        "  return value"
      ],
      "metadata": {
        "id": "dTTaDkOig9Ch"
      },
      "execution_count": null,
      "outputs": []
    },
    {
      "cell_type": "code",
      "source": [
        "def is_even(number) :\n",
        "  if(number % 2 == 0) :\n",
        "    return True\n",
        "  else :\n",
        "    return False\n",
        "print(is_even(5))"
      ],
      "metadata": {
        "colab": {
          "base_uri": "https://localhost:8080/"
        },
        "id": "2KVKcvLbsyKe",
        "outputId": "f40061ad-95cf-4d00-976b-63d1affe73a2"
      },
      "execution_count": null,
      "outputs": [
        {
          "output_type": "stream",
          "name": "stdout",
          "text": [
            "False\n"
          ]
        }
      ]
    },
    {
      "cell_type": "code",
      "source": [
        "def addTwonum(a, b) :\n",
        "  return a+b\n",
        "print(addTwonum(1,2))"
      ],
      "metadata": {
        "colab": {
          "base_uri": "https://localhost:8080/"
        },
        "id": "SXTaWZXat5ZR",
        "outputId": "39bfc1f9-eeaa-4c05-dace-fca590c1e335"
      },
      "execution_count": null,
      "outputs": [
        {
          "output_type": "stream",
          "name": "stdout",
          "text": [
            "3\n"
          ]
        }
      ]
    },
    {
      "cell_type": "code",
      "source": [
        "def isPrime(num) :\n",
        "  if(num == 1) :\n",
        "    return False\n",
        "  for i in range(2, num) :\n",
        "    if(num % i == 0) :\n",
        "      return False\n",
        "  return True\n",
        "print(isPrime(35))"
      ],
      "metadata": {
        "colab": {
          "base_uri": "https://localhost:8080/"
        },
        "id": "dB65ex--uhW2",
        "outputId": "3a103bae-e2d1-427b-9183-8e4b9d76db8f"
      },
      "execution_count": null,
      "outputs": [
        {
          "output_type": "stream",
          "name": "stdout",
          "text": [
            "False\n"
          ]
        }
      ]
    },
    {
      "cell_type": "code",
      "source": [
        "def greet() :\n",
        "  print(\"hello\")\n",
        "greet()"
      ],
      "metadata": {
        "colab": {
          "base_uri": "https://localhost:8080/"
        },
        "id": "6JuBybGOyS55",
        "outputId": "8f7d39ee-6702-4048-d3e0-b59ae3068956"
      },
      "execution_count": null,
      "outputs": [
        {
          "output_type": "stream",
          "name": "stdout",
          "text": [
            "hello\n"
          ]
        }
      ]
    },
    {
      "cell_type": "code",
      "source": [
        "def power(num, exponent=2) : #by default exponent is 2\n",
        "  return num ** exponent\n",
        "power(2, 3)\n",
        "power(3)"
      ],
      "metadata": {
        "colab": {
          "base_uri": "https://localhost:8080/"
        },
        "id": "oBEXqqWJ1sA8",
        "outputId": "b73db47a-366b-4a45-e722-485e82775f81"
      },
      "execution_count": null,
      "outputs": [
        {
          "output_type": "execute_result",
          "data": {
            "text/plain": [
              "9"
            ]
          },
          "metadata": {},
          "execution_count": 23
        }
      ]
    },
    {
      "cell_type": "code",
      "source": [
        "def calculate_average(*numbers) : #function with variable arguments , can have multiple arguments with one parameter\n",
        "  return sum(numbers) / len(numbers) if numbers else 0\n",
        "calculate_average(2,3,4,5,6)"
      ],
      "metadata": {
        "colab": {
          "base_uri": "https://localhost:8080/"
        },
        "id": "mki82cs22TVx",
        "outputId": "2af1f55d-dc9e-414f-917b-70f608f157ae"
      },
      "execution_count": null,
      "outputs": [
        {
          "output_type": "execute_result",
          "data": {
            "text/plain": [
              "4.0"
            ]
          },
          "metadata": {},
          "execution_count": 24
        }
      ]
    },
    {
      "cell_type": "code",
      "source": [
        "def printthis(**details) : # function with key, value pairs by use of **\n",
        "  for key,value in details.items() :\n",
        "    print(f\"{key} : {value}\")\n",
        "printthis(name = \"tanishak\", city = \"delhi\", age = 20)"
      ],
      "metadata": {
        "colab": {
          "base_uri": "https://localhost:8080/"
        },
        "id": "Q62XN_qR3YrZ",
        "outputId": "05d1ad4e-0b31-4c19-b2f0-807729186fbe"
      },
      "execution_count": null,
      "outputs": [
        {
          "output_type": "stream",
          "name": "stdout",
          "text": [
            "name : tanishak\n",
            "city : delhi\n",
            "age : 20\n"
          ]
        }
      ]
    },
    {
      "cell_type": "markdown",
      "source": [
        "#ERRORS\n",
        "1. Syntax error\n",
        "2. indentation error\n",
        "3. Name error\n",
        "4. Type error\n",
        "5. Index error\n",
        "6. key error\n",
        "7. Attribute error\n",
        "8. Zero division error\n",
        "\n",
        "####syntax error are handles by our own\n",
        "####indentation errors are handles by our own\n",
        "#### type error"
      ],
      "metadata": {
        "id": "wGnArVTO-NMf"
      }
    },
    {
      "cell_type": "code",
      "source": [
        "try :\n",
        "  result = 5 + \"2\"\n",
        "except:\n",
        "  print(\"there should be a type error\")"
      ],
      "metadata": {
        "colab": {
          "base_uri": "https://localhost:8080/"
        },
        "id": "3Xbsq-Rl_nFP",
        "outputId": "76c5e3cd-0004-4730-9db2-bac725dc8483"
      },
      "execution_count": null,
      "outputs": [
        {
          "output_type": "stream",
          "name": "stdout",
          "text": [
            "there should be a type error\n"
          ]
        }
      ]
    },
    {
      "cell_type": "code",
      "source": [
        "try:\n",
        "  list1 = [1,2,3]\n",
        "  print(list1[3])\n",
        "except:\n",
        "  print(\"there must be a index error\")"
      ],
      "metadata": {
        "colab": {
          "base_uri": "https://localhost:8080/"
        },
        "id": "jk4r4MNJ_7kO",
        "outputId": "7b79d408-8d1f-42fa-a987-928cfe8675ab"
      },
      "execution_count": null,
      "outputs": [
        {
          "output_type": "stream",
          "name": "stdout",
          "text": [
            "there must be a index error\n"
          ]
        }
      ]
    },
    {
      "cell_type": "code",
      "source": [
        "a = 10\n",
        "b = 0\n",
        "try:\n",
        "  a / b\n",
        "except:\n",
        "  print(\"you cannot divide by zero\")"
      ],
      "metadata": {
        "colab": {
          "base_uri": "https://localhost:8080/"
        },
        "id": "ZSpCQhLtAaR2",
        "outputId": "7b59cb5d-4b18-43f7-fcb2-f5fdd052687c"
      },
      "execution_count": null,
      "outputs": [
        {
          "output_type": "stream",
          "name": "stdout",
          "text": [
            "you cannot divide by zero\n"
          ]
        }
      ]
    },
    {
      "cell_type": "markdown",
      "source": [
        "#NUMPY"
      ],
      "metadata": {
        "id": "ALvREZG0VhBW"
      }
    },
    {
      "cell_type": "code",
      "source": [
        "pip install numpy"
      ],
      "metadata": {
        "colab": {
          "base_uri": "https://localhost:8080/"
        },
        "id": "NGvRZtwLYpz8",
        "outputId": "8dd32b99-8b0f-4798-d2dc-18ea54b55c28"
      },
      "execution_count": null,
      "outputs": [
        {
          "output_type": "stream",
          "name": "stdout",
          "text": [
            "Requirement already satisfied: numpy in /usr/local/lib/python3.11/dist-packages (2.0.2)\n"
          ]
        }
      ]
    },
    {
      "cell_type": "code",
      "source": [
        "import numpy as np\n",
        "import timeit\n",
        "#Test function for list\n",
        "def test_list() :\n",
        "  large_list = list(range(1000000))\n",
        "  sum(large_list)\n",
        "#Test function for numpy array\n",
        "def test_array() :\n",
        "  large_array = np.arange(1000000)\n",
        "  np.sum(large_array)\n",
        "#measure  time for list\n",
        "list_time = timeit.timeit(test_list, number=100)\n",
        "print(f\"Average time taken by python list: {list_time/100} seconds\")\n",
        "\n",
        "array_time = timeit.timeit(test_array, number=100)\n",
        "print(f\"Average time taken by numpy array: {array_time/100} seconds\")"
      ],
      "metadata": {
        "colab": {
          "base_uri": "https://localhost:8080/"
        },
        "id": "6Smq17mfVifF",
        "outputId": "efe3af64-f8d4-480a-8e76-a729a16c847f"
      },
      "execution_count": null,
      "outputs": [
        {
          "output_type": "stream",
          "name": "stdout",
          "text": [
            "Average time taken by python list: 0.051259403259999774 seconds\n",
            "Average time taken by numpy array: 0.0008840752799994789 seconds\n"
          ]
        }
      ]
    },
    {
      "cell_type": "code",
      "source": [
        "import numpy as np\n",
        "a = np.array([1,2,3,4,5])\n",
        "type(a)"
      ],
      "metadata": {
        "colab": {
          "base_uri": "https://localhost:8080/"
        },
        "id": "v-HRO2dtXuSj",
        "outputId": "eeb28167-516c-4aba-8916-923cd331a1a6"
      },
      "execution_count": null,
      "outputs": [
        {
          "output_type": "execute_result",
          "data": {
            "text/plain": [
              "numpy.ndarray"
            ]
          },
          "metadata": {},
          "execution_count": 2
        }
      ]
    },
    {
      "cell_type": "code",
      "source": [
        "import numpy as np\n",
        "a = [1,2,3,4,5]\n",
        "np.array(a)"
      ],
      "metadata": {
        "colab": {
          "base_uri": "https://localhost:8080/"
        },
        "id": "7J_h4FQmX45R",
        "outputId": "01d78d6e-d82d-4b23-dced-ed76b6dd7309"
      },
      "execution_count": null,
      "outputs": [
        {
          "output_type": "execute_result",
          "data": {
            "text/plain": [
              "array([1, 2, 3, 4, 5])"
            ]
          },
          "metadata": {},
          "execution_count": 3
        }
      ]
    },
    {
      "cell_type": "markdown",
      "source": [
        "#Create a 2D array"
      ],
      "metadata": {
        "id": "CaLWxHYyZDN6"
      }
    },
    {
      "cell_type": "code",
      "source": [
        "arr = np.array([[1,2,3,4,5],[2,3,4,5,6]])\n",
        "print(arr)\n",
        "arr.ndim\n",
        "#slicing\n",
        "arr[0:2,1:3]"
      ],
      "metadata": {
        "colab": {
          "base_uri": "https://localhost:8080/"
        },
        "id": "8udFNqvXZFA1",
        "outputId": "0ae8b704-30a4-49aa-e74c-9f2772afc910"
      },
      "execution_count": null,
      "outputs": [
        {
          "output_type": "stream",
          "name": "stdout",
          "text": [
            "[[1 2 3 4 5]\n",
            " [2 3 4 5 6]]\n"
          ]
        },
        {
          "output_type": "execute_result",
          "data": {
            "text/plain": [
              "array([[2, 3],\n",
              "       [3, 4]])"
            ]
          },
          "metadata": {},
          "execution_count": 23
        }
      ]
    },
    {
      "cell_type": "code",
      "source": [
        "arr = np.array([[[1,2,3,4,5],[2,3,4,5,6]],[[1,2,3,4,5],[2,3,4,5,6]],[[1,2,3,4,5],[2,3,4,5,6]]])\n",
        "print(arr) #print the array\n",
        "print(arr.shape) #print the shape of the array like (2,3,3) => (no. of 2d array, rows, cols)\n",
        "arr.ndim # print the dimension of the array like 1d 2d 3d\n",
        "#slicing\n",
        "arr[0:,0:1,1:3]\n",
        "#conditional slicing\n",
        "arr[(arr == 2) | (arr < 5)]\n",
        "arr[2:,0:,2]\n",
        "arr.dtype"
      ],
      "metadata": {
        "colab": {
          "base_uri": "https://localhost:8080/"
        },
        "id": "M5HzVn0vZ4ry",
        "outputId": "c4e4332f-0c61-40d9-a461-7c22e58836f7"
      },
      "execution_count": null,
      "outputs": [
        {
          "output_type": "stream",
          "name": "stdout",
          "text": [
            "[[[1 2 3 4 5]\n",
            "  [2 3 4 5 6]]\n",
            "\n",
            " [[1 2 3 4 5]\n",
            "  [2 3 4 5 6]]\n",
            "\n",
            " [[1 2 3 4 5]\n",
            "  [2 3 4 5 6]]]\n",
            "(3, 2, 5)\n"
          ]
        },
        {
          "output_type": "execute_result",
          "data": {
            "text/plain": [
              "dtype('int64')"
            ]
          },
          "metadata": {},
          "execution_count": 30
        }
      ]
    },
    {
      "cell_type": "markdown",
      "source": [
        "#Functions of NP array"
      ],
      "metadata": {
        "id": "oJC-zChPm4Xw"
      }
    },
    {
      "cell_type": "code",
      "source": [
        "##arange\n",
        "arr = np.arange(1,11,2)\n",
        "arr\n",
        "#linspace\n",
        "arr_1 = np.linspace(10,100,num=18).astype(\"int\")\n",
        "# arr_1\n",
        "#reshape : reshape the array\n",
        "# print(arr_1.reshape(2,3,3))\n",
        "arr_1 = np.linspace(10,100,num=27).astype(\"int\")\n",
        "print(arr_1.reshape(3,3,3))"
      ],
      "metadata": {
        "colab": {
          "base_uri": "https://localhost:8080/"
        },
        "id": "tszL9yImm7IL",
        "outputId": "d3313b97-ed46-486f-a4ab-dbc8cb277e81"
      },
      "execution_count": null,
      "outputs": [
        {
          "output_type": "stream",
          "name": "stdout",
          "text": [
            "[[[ 10  13  16]\n",
            "  [ 20  23  27]\n",
            "  [ 30  34  37]]\n",
            "\n",
            " [[ 41  44  48]\n",
            "  [ 51  55  58]\n",
            "  [ 61  65  68]]\n",
            "\n",
            " [[ 72  75  79]\n",
            "  [ 82  86  89]\n",
            "  [ 93  96 100]]]\n"
          ]
        }
      ]
    }
  ]
}