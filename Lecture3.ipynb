{
  "cells": [
    {
      "cell_type": "markdown",
      "metadata": {
        "id": "view-in-github",
        "colab_type": "text"
      },
      "source": [
        "<a href=\"https://colab.research.google.com/github/TanisqSinghal/Data_science_internship/blob/main/Lecture3.ipynb\" target=\"_parent\"><img src=\"https://colab.research.google.com/assets/colab-badge.svg\" alt=\"Open In Colab\"/></a>"
      ]
    },
    {
      "cell_type": "markdown",
      "metadata": {
        "id": "kyFRuM4aU2wT"
      },
      "source": []
    },
    {
      "cell_type": "markdown",
      "metadata": {
        "id": "omk0I1lkU4SC"
      },
      "source": [
        "#CONDITIONALS STATEMENTS(NESTED)"
      ]
    },
    {
      "cell_type": "code",
      "execution_count": null,
      "metadata": {
        "colab": {
          "base_uri": "https://localhost:8080/"
        },
        "id": "DbhQ4CMHU8-p",
        "outputId": "26d57296-51f9-4c52-feba-e801eeabfe7e"
      },
      "outputs": [
        {
          "name": "stdout",
          "output_type": "stream",
          "text": [
            "bwdkjbc\n",
            "vwhjvc\n",
            "T-shirt macthes with jeans\n"
          ]
        }
      ],
      "source": [
        "wear = input()\n",
        "color = input()\n",
        "if wear == \"shirt\" :\n",
        "  if(color == \"red\") :\n",
        "    print(\"red match with light pants\")\n",
        "  elif(color == \"white\") :\n",
        "    print(\"white matches with dark pants\")\n",
        "else :\n",
        "  print(\"T-shirt macthes with jeans\")"
      ]
    },
    {
      "cell_type": "code",
      "execution_count": null,
      "metadata": {
        "colab": {
          "base_uri": "https://localhost:8080/"
        },
        "id": "SLOnSz7AVqsL",
        "outputId": "089d7e8b-f59f-42b4-9968-7d42d01e7d0f"
      },
      "outputs": [
        {
          "name": "stdout",
          "output_type": "stream",
          "text": [
            "hweghjbd\n",
            "12000\n",
            "explore more in our shop\n"
          ]
        }
      ],
      "source": [
        "device = input()\n",
        "price = int(input())\n",
        "if(device.lower() == \"laptop\") :\n",
        "  if(price >= 15000 and price <= 30000) :\n",
        "    print(\"we have i3 i5 with 11th gen and amd dual core 4500\")\n",
        "  elif(price > 30000 and price <=70000) :\n",
        "    print(\"we have 12th gen i5 and 13th gen i3, have ryzen with RTX also \")\n",
        "else :\n",
        "  print(\"explore more in our shop\")"
      ]
    },
    {
      "cell_type": "markdown",
      "metadata": {
        "id": "nu0qbk6sZ4LE"
      },
      "source": [
        "#LOOPS"
      ]
    },
    {
      "cell_type": "code",
      "execution_count": null,
      "metadata": {
        "colab": {
          "base_uri": "https://localhost:8080/"
        },
        "id": "jlsWolDdZ64x",
        "outputId": "1231f092-f1f1-48cf-9202-92cde3dda832"
      },
      "outputs": [
        {
          "name": "stdout",
          "output_type": "stream",
          "text": [
            "hello world\n",
            "hello world\n",
            "hello world\n",
            "hello world\n",
            "hello world\n",
            "hello world\n",
            "hello world\n",
            "hello world\n",
            "hello world\n",
            "hello world\n"
          ]
        }
      ],
      "source": [
        "start = 10;\n",
        "while(start > 0) :\n",
        "  print(\"hello world\")\n",
        "  start = start - 1\n",
        "\n"
      ]
    },
    {
      "cell_type": "code",
      "execution_count": null,
      "metadata": {
        "colab": {
          "base_uri": "https://localhost:8080/"
        },
        "id": "nPqx1CP4bTZ1",
        "outputId": "2f9a476e-33ca-47a2-cc34-699cb8408be3"
      },
      "outputs": [
        {
          "name": "stdout",
          "output_type": "stream",
          "text": [
            "hello world\n",
            "hello world\n",
            "hello world\n",
            "hello world\n",
            "hello world\n",
            "hello world\n",
            "hello world\n",
            "hello world\n",
            "hello world\n",
            "hello world\n"
          ]
        }
      ],
      "source": [
        "for _ in range(10):\n",
        "  print(\"hello world\")"
      ]
    },
    {
      "cell_type": "code",
      "execution_count": null,
      "metadata": {
        "colab": {
          "base_uri": "https://localhost:8080/"
        },
        "id": "l7-eYiVeb28B",
        "outputId": "cc865c12-cda5-4948-eb41-20dc49b285ea"
      },
      "outputs": [
        {
          "output_type": "stream",
          "name": "stdout",
          "text": [
            "T1nish1k"
          ]
        }
      ],
      "source": [
        "# name = \"Tanishak\"\n",
        "# for i in name:\n",
        "#   if(i == \"a\") :\n",
        "#     print(\"1\", end=\"\")\n",
        "#   else :\n",
        "#     print(i, end=\"\")\n",
        "name = \"Tanishak\"\n",
        "i = 0\n",
        "while(i < len(name)) :\n",
        "  if(name[i] == \"a\") :\n",
        "    print(\"1\", end=\"\")\n",
        "  else :\n",
        "    print(name[i], end=\"\")\n",
        "  i = i+1\n"
      ]
    },
    {
      "cell_type": "code",
      "execution_count": null,
      "metadata": {
        "colab": {
          "base_uri": "https://localhost:8080/"
        },
        "id": "KWN4MdCUea5x",
        "outputId": "1cfb0e72-d251-4938-dac4-c39965421ad9"
      },
      "outputs": [
        {
          "output_type": "stream",
          "name": "stdout",
          "text": [
            "Enter a number: 10\n",
            "Not prime\n"
          ]
        }
      ],
      "source": [
        "#prime or not\n",
        "number = int(input(\"Enter a number: \"))\n",
        "val = True\n",
        "# for i in range(2, number) : #go from 2 to number-1 by default\n",
        "#   if(number == 2) :\n",
        "#     print(\"prime\")\n",
        "#   if(number % i == 0):\n",
        "#     val = False\n",
        "#     break\n",
        "# if(val == True):\n",
        "#   print(\"prime\")\n",
        "# else :\n",
        "#   print(\"not prime\")\n",
        "i = 2\n",
        "while(i < number) :\n",
        "  if(number % i == 0) :\n",
        "    val = False\n",
        "    break\n",
        "  i = i + 1\n",
        "# if(number == 2) :\n",
        "#     print(\"prime\")\n",
        "elif(val) :\n",
        "  print(\"Prime\")\n",
        "else :\n",
        "  print(\"Not prime\")\n"
      ]
    },
    {
      "cell_type": "code",
      "execution_count": null,
      "metadata": {
        "colab": {
          "base_uri": "https://localhost:8080/"
        },
        "id": "0UGlZTyugUIN",
        "outputId": "e304879b-a0a0-43e7-9083-96719391e0b3"
      },
      "outputs": [
        {
          "output_type": "stream",
          "name": "stdout",
          "text": [
            "sum of number in range is:  5050\n"
          ]
        }
      ],
      "source": [
        "#sum of numbers in a range\n",
        "sum = 0\n",
        "for i in range(1, 101) :\n",
        "  sum = sum + i\n",
        "print(\"sum of number in range is: \", sum)"
      ]
    },
    {
      "cell_type": "code",
      "execution_count": null,
      "metadata": {
        "colab": {
          "base_uri": "https://localhost:8080/"
        },
        "id": "7p5zoBXLhs1-",
        "outputId": "784d4ae9-9854-490b-b034-b834af029935"
      },
      "outputs": [
        {
          "name": "stdout",
          "output_type": "stream",
          "text": [
            "Enter a number: 10\n",
            "2 4 6 8 10 "
          ]
        }
      ],
      "source": [
        "#print even numbers\n",
        "num = int(input(\"Enter a number: \"))\n",
        "for i in range(1, num+1) :\n",
        "  if(i % 2 == 0) :\n",
        "    print(i, end=\" \")"
      ]
    },
    {
      "cell_type": "code",
      "execution_count": null,
      "metadata": {
        "colab": {
          "base_uri": "https://localhost:8080/"
        },
        "id": "TTl53B5mi7sa",
        "outputId": "dc834620-1bf5-429e-c78b-0bec6b71eb41"
      },
      "outputs": [
        {
          "name": "stdout",
          "output_type": "stream",
          "text": [
            "4\n"
          ]
        }
      ],
      "source": [
        "#count number of digits in a number\n",
        "number = 3458\n",
        "count = 0\n",
        "while(number > 0) :\n",
        "  count = count + 1;\n",
        "  number = number//10\n",
        "print(count)"
      ]
    },
    {
      "cell_type": "code",
      "execution_count": null,
      "metadata": {
        "colab": {
          "base_uri": "https://localhost:8080/"
        },
        "id": "QLWZ_tJXlNUI",
        "outputId": "adbc45a3-1f56-4b8c-857e-ccbad91b0fce"
      },
      "outputs": [
        {
          "name": "stdout",
          "output_type": "stream",
          "text": [
            "120\n"
          ]
        }
      ],
      "source": [
        "#calculate factorial\n",
        "fact = 1\n",
        "number = 5\n",
        "for i in range(1, number+1) :\n",
        "  fact = fact * i\n",
        "print(fact)"
      ]
    },
    {
      "cell_type": "code",
      "execution_count": null,
      "metadata": {
        "colab": {
          "base_uri": "https://localhost:8080/"
        },
        "id": "w9pTyAEqmdmw",
        "outputId": "1b303e3e-d968-409e-ac30-fa23df0a2114"
      },
      "outputs": [
        {
          "name": "stdout",
          "output_type": "stream",
          "text": [
            "5 * 1 = 5\n",
            "5 * 2 = 10\n",
            "5 * 3 = 15\n",
            "5 * 4 = 20\n",
            "5 * 5 = 25\n",
            "5 * 6 = 30\n",
            "5 * 7 = 35\n",
            "5 * 8 = 40\n",
            "5 * 9 = 45\n",
            "5 * 10 = 50\n"
          ]
        }
      ],
      "source": [
        "#print multiplication table\n",
        "number = 5;\n",
        "for i in range(1, 11) :\n",
        "  print(f\"{number} * {i} = {number*i}\")"
      ]
    },
    {
      "cell_type": "code",
      "execution_count": null,
      "metadata": {
        "colab": {
          "base_uri": "https://localhost:8080/"
        },
        "id": "xTXvIiAqwLIo",
        "outputId": "96ef5d3e-6c30-4950-8f67-89b14011c74a"
      },
      "outputs": [
        {
          "output_type": "stream",
          "name": "stdout",
          "text": [
            "2\n",
            "3\n",
            "5\n",
            "7\n",
            "11\n",
            "13\n",
            "17\n",
            "19\n",
            "23\n",
            "29\n",
            "31\n",
            "37\n",
            "41\n",
            "43\n",
            "47\n"
          ]
        }
      ],
      "source": [
        "import math\n",
        "\n",
        "for i in range(2, 51):\n",
        "    val = True\n",
        "    for j in range(2, int(math.sqrt(i)) + 1):\n",
        "        if i % j == 0:\n",
        "            val = False\n",
        "            break\n",
        "    if val:\n",
        "        print(i)"
      ]
    },
    {
      "cell_type": "code",
      "execution_count": null,
      "metadata": {
        "colab": {
          "base_uri": "https://localhost:8080/"
        },
        "id": "2LKz2GZww3jF",
        "outputId": "d2f8ecca-9e05-42a0-8cde-7e2d55ed4f86"
      },
      "outputs": [
        {
          "output_type": "stream",
          "name": "stdout",
          "text": [
            "kahsinaT"
          ]
        }
      ],
      "source": [
        "my_string = \"Tanishak\"\n",
        "length = len(my_string)\n",
        "for i in range(length):\n",
        "    print(my_string[length - i - 1], end=\"\")\n"
      ]
    },
    {
      "cell_type": "code",
      "execution_count": null,
      "metadata": {
        "colab": {
          "base_uri": "https://localhost:8080/"
        },
        "id": "lqxYcQeK0ePe",
        "outputId": "910d22a1-b985-4c73-8830-b7ad8fe88308"
      },
      "outputs": [
        {
          "output_type": "stream",
          "name": "stdout",
          "text": [
            "0\n",
            "1\n",
            "1\n",
            "2\n",
            "3\n",
            "5\n",
            "8\n",
            "13\n",
            "21\n",
            "34\n"
          ]
        }
      ],
      "source": [
        "#fibbonacci\n",
        "a = 0\n",
        "b = 1\n",
        "for i in range(10) :\n",
        "  print(a)\n",
        "  a, b = b, b+a"
      ]
    },
    {
      "cell_type": "code",
      "execution_count": null,
      "metadata": {
        "colab": {
          "base_uri": "https://localhost:8080/"
        },
        "id": "q7M2LVBj3dlL",
        "outputId": "f5ffa514-b3e7-4cad-890f-50b3ff90f99f"
      },
      "outputs": [
        {
          "output_type": "stream",
          "name": "stdout",
          "text": [
            "0\n",
            "1\n",
            "1\n",
            "2\n",
            "3\n",
            "5\n",
            "8\n",
            "13\n",
            "21\n",
            "34\n"
          ]
        }
      ],
      "source": [
        "#fibbonacci\n",
        "prev_val = 0\n",
        "curr_val = 1\n",
        "print(prev_val)\n",
        "print(curr_val)\n",
        "for i in range(0,8) :\n",
        "  updated_val = prev_val + curr_val\n",
        "  print(updated_val),\n",
        "  prev_val = curr_val\n",
        "  curr_val = updated_val"
      ]
    },
    {
      "cell_type": "markdown",
      "source": [
        "#NESTED LOOPS"
      ],
      "metadata": {
        "id": "ULdq9sV9J_dy"
      }
    },
    {
      "cell_type": "code",
      "source": [
        "# *\n",
        "# **\n",
        "# ***\n",
        "# ****\n",
        "#print this pattern\n",
        "for i in range(1, 6) :\n",
        "  for j in range(i) :\n",
        "    print(\"*\", end=\"\");\n",
        "  print()"
      ],
      "metadata": {
        "colab": {
          "base_uri": "https://localhost:8080/"
        },
        "id": "CSzgCOI7KCBb",
        "outputId": "a7d0a3cd-d80a-4f81-b745-adf2cbee90c1"
      },
      "execution_count": null,
      "outputs": [
        {
          "output_type": "stream",
          "name": "stdout",
          "text": [
            "*\n",
            "**\n",
            "***\n",
            "****\n",
            "*****\n"
          ]
        }
      ]
    },
    {
      "cell_type": "markdown",
      "source": [
        "#WHILE LOOP"
      ],
      "metadata": {
        "id": "F0s2C5ThMHtY"
      }
    },
    {
      "cell_type": "code",
      "source": [
        "i = 6\n",
        "while(i < 10) :\n",
        "  i += 1\n",
        "  print(i)"
      ],
      "metadata": {
        "colab": {
          "base_uri": "https://localhost:8080/"
        },
        "id": "lPbKlKArMKsC",
        "outputId": "e605b93e-ed4a-417d-d3ac-9747e0d04513"
      },
      "execution_count": null,
      "outputs": [
        {
          "output_type": "stream",
          "name": "stdout",
          "text": [
            "7\n",
            "8\n",
            "9\n",
            "10\n"
          ]
        }
      ]
    },
    {
      "cell_type": "code",
      "source": [
        "#countdown timer\n",
        "i = 10\n",
        "while(i > 0) :\n",
        "  print(i)\n",
        "  i -= 1\n"
      ],
      "metadata": {
        "colab": {
          "base_uri": "https://localhost:8080/"
        },
        "id": "nIKyeZYLM1U3",
        "outputId": "1bd968ee-7313-4c5e-ea80-470ed7691e41"
      },
      "execution_count": null,
      "outputs": [
        {
          "output_type": "stream",
          "name": "stdout",
          "text": [
            "10\n",
            "9\n",
            "8\n",
            "7\n",
            "6\n",
            "5\n",
            "4\n",
            "3\n",
            "2\n",
            "1\n"
          ]
        }
      ]
    },
    {
      "cell_type": "code",
      "source": [
        "#sum of numbers\n",
        "n = 10\n",
        "sum = 0\n",
        "while(n > 0) :\n",
        "  sum += n\n",
        "  n -= 1;\n",
        "print(sum)"
      ],
      "metadata": {
        "colab": {
          "base_uri": "https://localhost:8080/"
        },
        "id": "sO-zZulqN5UZ",
        "outputId": "afe87d4a-42af-4ac3-d324-7f604218f677"
      },
      "execution_count": null,
      "outputs": [
        {
          "output_type": "stream",
          "name": "stdout",
          "text": [
            "55\n"
          ]
        }
      ]
    },
    {
      "cell_type": "code",
      "source": [
        "#user_input\n",
        "user_input = input()\n",
        "while(user_input != \"quite\") :\n",
        "  user_input = input(\"enter quite to exit\")"
      ],
      "metadata": {
        "colab": {
          "base_uri": "https://localhost:8080/"
        },
        "id": "mbywhlVZOgz1",
        "outputId": "27b806cb-6b32-4be9-ef60-d795ed57f39d"
      },
      "execution_count": null,
      "outputs": [
        {
          "name": "stdout",
          "output_type": "stream",
          "text": [
            "jbwjce\n",
            "enter quite to exitnwsdb hbc\n",
            "enter quite to exitquite\n"
          ]
        }
      ]
    },
    {
      "cell_type": "markdown",
      "source": [
        "#LIST COMPREHENSEN"
      ],
      "metadata": {
        "id": "SIKavEFwQZ0B"
      }
    },
    {
      "cell_type": "code",
      "source": [
        "natural_numbers = [1,2,3,4,5,6,7,8]\n",
        "[x for x in range(1,10) if x%2 == 0]"
      ],
      "metadata": {
        "colab": {
          "base_uri": "https://localhost:8080/"
        },
        "id": "dx1h47v4Qfva",
        "outputId": "cd98ac4d-a667-4271-ca16-21279817e787"
      },
      "execution_count": null,
      "outputs": [
        {
          "output_type": "execute_result",
          "data": {
            "text/plain": [
              "[2, 4, 6, 8]"
            ]
          },
          "metadata": {},
          "execution_count": 28
        }
      ]
    },
    {
      "cell_type": "code",
      "source": [
        "names = [\"Gaurav\", \"Saurav\", \"Sachine\"]\n",
        "[name.upper() for name in names]"
      ],
      "metadata": {
        "colab": {
          "base_uri": "https://localhost:8080/"
        },
        "id": "b9vIC2K8RdG9",
        "outputId": "d05cd287-7949-4e8e-832f-41a013a7d8f0"
      },
      "execution_count": null,
      "outputs": [
        {
          "output_type": "execute_result",
          "data": {
            "text/plain": [
              "['GAURAV', 'SAURAV', 'SACHINE']"
            ]
          },
          "metadata": {},
          "execution_count": 29
        }
      ]
    },
    {
      "cell_type": "code",
      "source": [
        "[[i,j,k] for i in range(3) for j in range(2) for k in range(2) if i+j+k == 2]"
      ],
      "metadata": {
        "colab": {
          "base_uri": "https://localhost:8080/"
        },
        "id": "3rvuTmVLSJ0c",
        "outputId": "43883494-1141-4d98-c2f2-aa8775d1633d"
      },
      "execution_count": null,
      "outputs": [
        {
          "output_type": "execute_result",
          "data": {
            "text/plain": [
              "[[0, 1, 1], [1, 0, 1], [1, 1, 0], [2, 0, 0]]"
            ]
          },
          "metadata": {},
          "execution_count": 33
        }
      ]
    }
  ],
  "metadata": {
    "colab": {
      "provenance": [],
      "authorship_tag": "ABX9TyPhLcN8oO1KczvDCX/8vvAW",
      "include_colab_link": true
    },
    "kernelspec": {
      "display_name": "Python 3",
      "name": "python3"
    },
    "language_info": {
      "name": "python"
    }
  },
  "nbformat": 4,
  "nbformat_minor": 0
}